{
 "cells": [
  {
   "cell_type": "code",
   "execution_count": 20,
   "metadata": {},
   "outputs": [],
   "source": [
    "import requests\n",
    "import os\n",
    "import json\n",
    "import pandas as pd"
   ]
  },
  {
   "cell_type": "code",
   "execution_count": 2,
   "metadata": {},
   "outputs": [],
   "source": [
    "api_key = 'Bearer ' + os.environ['YELP']"
   ]
  },
  {
   "cell_type": "code",
   "execution_count": 3,
   "metadata": {},
   "outputs": [],
   "source": [
    "url = 'https://api.yelp.com/v3/businesses/search'"
   ]
  },
  {
   "cell_type": "code",
   "execution_count": 16,
   "metadata": {},
   "outputs": [],
   "source": [
    "params = {\n",
    "  \t\"location\": \"Fargo\",\n",
    "  \t\"ll\": \"46.87310,-96.78644\",\n",
    "  \t\"term\": \"Restaurants\",\n",
    "    \"radius\": \"4000\",\n",
    "    \"locale\":\"en_US\"\n",
    "    \n",
    "}\n",
    "\n",
    "headers = {\n",
    "    \"Accept\": \"application/json\",\n",
    "    \"Authorization\": api_key\n",
    "}"
   ]
  },
  {
   "cell_type": "code",
   "execution_count": 5,
   "metadata": {},
   "outputs": [
    {
     "name": "stdout",
     "output_type": "stream",
     "text": [
      "{\"businesses\": [{\"id\": \"RCWAP_hvs4mUkERacEBiVg\", \"alias\": \"circle-w-fargo\", \"name\": \"Circle W\", \"image_url\": \"\", \"is_closed\": false, \"url\": \"https://www.yelp.com/biz/circle-w-fargo?adjust_creative=J5h1CC8CMU8IXoLGgPFmjA&utm_campaign=yelp_api_v3&utm_medium=api_v3_business_search&utm_source=J5h1CC8CMU8IXoLGgPFmjA\", \"review_count\": 0, \"categories\": [{\"alias\": \"hotdogs\", \"title\": \"Fast Food\"}], \"rating\": 0.0, \"coordinates\": {\"latitude\": 36.4514007568359, \"longitude\": -99.7020797729492}, \"transactions\": [], \"location\": {\"address1\": \"S Of City\", \"address2\": null, \"address3\": null, \"city\": \"Fargo\", \"zip_code\": \"73840\", \"country\": \"US\", \"state\": \"OK\", \"display_address\": [\"S Of City\", \"Fargo, OK 73840\"]}, \"phone\": \"+15806982660\", \"display_phone\": \"(580) 698-2660\", \"distance\": 72.97664902263541}], \"total\": 1, \"region\": {\"center\": {\"longitude\": -99.62325096130371, \"latitude\": 36.3756159312327}}}\n"
     ]
    }
   ],
   "source": [
    "response = requests.request(\"GET\", url, params =params, headers=headers)\n",
    "\n",
    "print(response.text)"
   ]
  },
  {
   "cell_type": "code",
   "execution_count": 6,
   "metadata": {},
   "outputs": [
    {
     "data": {
      "text/plain": [
       "<Response [200]>"
      ]
     },
     "execution_count": 6,
     "metadata": {},
     "output_type": "execute_result"
    }
   ],
   "source": [
    "response"
   ]
  },
  {
   "cell_type": "code",
   "execution_count": 7,
   "metadata": {},
   "outputs": [],
   "source": [
    "json_object = json.dumps(response.json(), indent=4)\n",
    " \n",
    "with open(\"YRsample.json\", \"w\") as outfile:\n",
    "    outfile.write(json_object)"
   ]
  },
  {
   "cell_type": "code",
   "execution_count": 8,
   "metadata": {},
   "outputs": [],
   "source": [
    "with open('YRsample.json', 'r') as f:\n",
    "  data = json.load(f)"
   ]
  },
  {
   "cell_type": "code",
   "execution_count": 9,
   "metadata": {},
   "outputs": [
    {
     "data": {
      "text/plain": [
       "dict_keys(['businesses', 'total', 'region'])"
      ]
     },
     "execution_count": 9,
     "metadata": {},
     "output_type": "execute_result"
    }
   ],
   "source": [
    "data.keys()"
   ]
  },
  {
   "cell_type": "code",
   "execution_count": 17,
   "metadata": {},
   "outputs": [],
   "source": [
    "data1 = data['businesses']"
   ]
  },
  {
   "cell_type": "code",
   "execution_count": 11,
   "metadata": {},
   "outputs": [
    {
     "data": {
      "text/html": [
       "<div>\n",
       "<style scoped>\n",
       "    .dataframe tbody tr th:only-of-type {\n",
       "        vertical-align: middle;\n",
       "    }\n",
       "\n",
       "    .dataframe tbody tr th {\n",
       "        vertical-align: top;\n",
       "    }\n",
       "\n",
       "    .dataframe thead th {\n",
       "        text-align: right;\n",
       "    }\n",
       "</style>\n",
       "<table border=\"1\" class=\"dataframe\">\n",
       "  <thead>\n",
       "    <tr style=\"text-align: right;\">\n",
       "      <th></th>\n",
       "      <th>id</th>\n",
       "      <th>alias</th>\n",
       "      <th>name</th>\n",
       "      <th>image_url</th>\n",
       "      <th>is_closed</th>\n",
       "      <th>url</th>\n",
       "      <th>review_count</th>\n",
       "      <th>categories</th>\n",
       "      <th>rating</th>\n",
       "      <th>transactions</th>\n",
       "      <th>...</th>\n",
       "      <th>coordinates.latitude</th>\n",
       "      <th>coordinates.longitude</th>\n",
       "      <th>location.address1</th>\n",
       "      <th>location.address2</th>\n",
       "      <th>location.address3</th>\n",
       "      <th>location.city</th>\n",
       "      <th>location.zip_code</th>\n",
       "      <th>location.country</th>\n",
       "      <th>location.state</th>\n",
       "      <th>location.display_address</th>\n",
       "    </tr>\n",
       "  </thead>\n",
       "  <tbody>\n",
       "    <tr>\n",
       "      <th>0</th>\n",
       "      <td>RCWAP_hvs4mUkERacEBiVg</td>\n",
       "      <td>circle-w-fargo</td>\n",
       "      <td>Circle W</td>\n",
       "      <td></td>\n",
       "      <td>False</td>\n",
       "      <td>https://www.yelp.com/biz/circle-w-fargo?adjust...</td>\n",
       "      <td>0</td>\n",
       "      <td>[{'alias': 'hotdogs', 'title': 'Fast Food'}]</td>\n",
       "      <td>0.0</td>\n",
       "      <td>[]</td>\n",
       "      <td>...</td>\n",
       "      <td>36.451401</td>\n",
       "      <td>-99.70208</td>\n",
       "      <td>S Of City</td>\n",
       "      <td>None</td>\n",
       "      <td>None</td>\n",
       "      <td>Fargo</td>\n",
       "      <td>73840</td>\n",
       "      <td>US</td>\n",
       "      <td>OK</td>\n",
       "      <td>[S Of City, Fargo, OK 73840]</td>\n",
       "    </tr>\n",
       "  </tbody>\n",
       "</table>\n",
       "<p>1 rows × 23 columns</p>\n",
       "</div>"
      ],
      "text/plain": [
       "                       id           alias      name image_url  is_closed  \\\n",
       "0  RCWAP_hvs4mUkERacEBiVg  circle-w-fargo  Circle W                False   \n",
       "\n",
       "                                                 url  review_count  \\\n",
       "0  https://www.yelp.com/biz/circle-w-fargo?adjust...             0   \n",
       "\n",
       "                                     categories  rating transactions  ...  \\\n",
       "0  [{'alias': 'hotdogs', 'title': 'Fast Food'}]     0.0           []  ...   \n",
       "\n",
       "  coordinates.latitude coordinates.longitude  location.address1  \\\n",
       "0            36.451401             -99.70208          S Of City   \n",
       "\n",
       "   location.address2  location.address3 location.city location.zip_code  \\\n",
       "0               None               None         Fargo             73840   \n",
       "\n",
       "  location.country location.state      location.display_address  \n",
       "0               US             OK  [S Of City, Fargo, OK 73840]  \n",
       "\n",
       "[1 rows x 23 columns]"
      ]
     },
     "execution_count": 11,
     "metadata": {},
     "output_type": "execute_result"
    }
   ],
   "source": [
    "pd.json_normalize(data1)"
   ]
  },
  {
   "cell_type": "code",
   "execution_count": 18,
   "metadata": {},
   "outputs": [],
   "source": [
    "df = pd.DataFrame(data1)\n"
   ]
  },
  {
   "cell_type": "code",
   "execution_count": 19,
   "metadata": {},
   "outputs": [
    {
     "data": {
      "text/html": [
       "<div>\n",
       "<style scoped>\n",
       "    .dataframe tbody tr th:only-of-type {\n",
       "        vertical-align: middle;\n",
       "    }\n",
       "\n",
       "    .dataframe tbody tr th {\n",
       "        vertical-align: top;\n",
       "    }\n",
       "\n",
       "    .dataframe thead th {\n",
       "        text-align: right;\n",
       "    }\n",
       "</style>\n",
       "<table border=\"1\" class=\"dataframe\">\n",
       "  <thead>\n",
       "    <tr style=\"text-align: right;\">\n",
       "      <th></th>\n",
       "      <th>name</th>\n",
       "    </tr>\n",
       "  </thead>\n",
       "  <tbody>\n",
       "    <tr>\n",
       "      <th>0</th>\n",
       "      <td>Circle W</td>\n",
       "    </tr>\n",
       "  </tbody>\n",
       "</table>\n",
       "</div>"
      ],
      "text/plain": [
       "       name\n",
       "0  Circle W"
      ]
     },
     "execution_count": 19,
     "metadata": {},
     "output_type": "execute_result"
    }
   ],
   "source": [
    "YR_YMCA = df.filter(['name'])\n",
    "YR_YMCA"
   ]
  },
  {
   "cell_type": "code",
   "execution_count": 14,
   "metadata": {},
   "outputs": [],
   "source": [
    "YR_YMCA.to_csv('YRYMCA.csv')"
   ]
  },
  {
   "cell_type": "code",
   "execution_count": null,
   "metadata": {},
   "outputs": [],
   "source": []
  }
 ],
 "metadata": {
  "kernelspec": {
   "display_name": "TheOne",
   "language": "python",
   "name": "theone"
  },
  "language_info": {
   "codemirror_mode": {
    "name": "ipython",
    "version": 3
   },
   "file_extension": ".py",
   "mimetype": "text/x-python",
   "name": "python",
   "nbconvert_exporter": "python",
   "pygments_lexer": "ipython3",
   "version": "3.9.7"
  },
  "orig_nbformat": 4
 },
 "nbformat": 4,
 "nbformat_minor": 2
}
