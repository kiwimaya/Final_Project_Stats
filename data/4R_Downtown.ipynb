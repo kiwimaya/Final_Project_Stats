{
 "cells": [
  {
   "cell_type": "code",
   "execution_count": 1,
   "metadata": {},
   "outputs": [],
   "source": [
    "import requests\n",
    "import os\n",
    "import json\n",
    "import pandas as pd"
   ]
  },
  {
   "cell_type": "code",
   "execution_count": 2,
   "metadata": {},
   "outputs": [],
   "source": [
    "api_key = os.environ[\"4sq\"]"
   ]
  },
  {
   "cell_type": "code",
   "execution_count": 3,
   "metadata": {},
   "outputs": [],
   "source": [
    "url= 'https://api.foursquare.com/v3/autocomplete?query=Restaurants&ll=46.8758%2C-96.78567&radius=4000'"
   ]
  },
  {
   "cell_type": "code",
   "execution_count": 4,
   "metadata": {},
   "outputs": [],
   "source": [
    "headers = {\n",
    "    \"Accept\": \"application/json\",\n",
    "    \"Authorization\": api_key\n",
    "}"
   ]
  },
  {
   "cell_type": "code",
   "execution_count": 5,
   "metadata": {},
   "outputs": [],
   "source": [
    "###url = \"https://api.foursquare.com/v3/places/search\""
   ]
  },
  {
   "cell_type": "code",
   "execution_count": 6,
   "metadata": {},
   "outputs": [
    {
     "ename": "IndentationError",
     "evalue": "unexpected indent (3004061325.py, line 2)",
     "output_type": "error",
     "traceback": [
      "\u001b[1;36m  Cell \u001b[1;32mIn[6], line 2\u001b[1;36m\u001b[0m\n\u001b[1;33m    \"query\": \"Restaurants\",\u001b[0m\n\u001b[1;37m    ^\u001b[0m\n\u001b[1;31mIndentationError\u001b[0m\u001b[1;31m:\u001b[0m unexpected indent\n"
     ]
    }
   ],
   "source": [
    "###params = {\n",
    "  \t\"query\": \"Restaurants\",\n",
    "\t\"ll\": \"46.8758,-96.78567\",\n",
    "  \t\"open_now\": \"true\",\n",
    "  \t\"sort\":\"DISTANCE\"}\n",
    "\n",
    "###headers = {\n",
    "    \"Accept\": \"application/json\",\n",
    "    \"Authorization\": api_key\n",
    "}"
   ]
  },
  {
   "cell_type": "code",
   "execution_count": null,
   "metadata": {},
   "outputs": [
    {
     "name": "stdout",
     "output_type": "stream",
     "text": [
      "{\"results\":[{\"fsq_id\":\"4b33d49ef964a520142025e3\",\"categories\":[{\"id\":13003,\"name\":\"Bar\",\"icon\":{\"prefix\":\"https://ss3.4sqi.net/img/categories_v2/nightlife/pub_\",\"suffix\":\".png\"}},{\"id\":13031,\"name\":\"Burger Joint\",\"icon\":{\"prefix\":\"https://ss3.4sqi.net/img/categories_v2/food/burger_\",\"suffix\":\".png\"}},{\"id\":13068,\"name\":\"American Restaurant\",\"icon\":{\"prefix\":\"https://ss3.4sqi.net/img/categories_v2/food/default_\",\"suffix\":\".png\"}}],\"chains\":[],\"distance\":172,\"geocodes\":{\"main\":{\"latitude\":46.87679,\"longitude\":-96.787114},\"roof\":{\"latitude\":46.87679,\"longitude\":-96.787114}},\"link\":\"/v3/places/4b33d49ef964a520142025e3\",\"location\":{\"address\":\"518 1st Ave N\",\"census_block\":\"380170007002004\",\"country\":\"US\",\"cross_street\":\"btwn Broadway & 5th St.\",\"dma\":\"Fargo-Valley City\",\"formatted_address\":\"518 1st Ave N (btwn Broadway & 5th St.), Fargo, ND 58102\",\"locality\":\"Fargo\",\"postcode\":\"58102\",\"region\":\"ND\"},\"name\":\"JL Beers\",\"related_places\":{},\"timezone\":\"America/Chicago\"},{\"fsq_id\":\"52435e12498e95641e400072\",\"categories\":[{\"id\":13003,\"name\":\"Bar\",\"icon\":{\"prefix\":\"https://ss3.4sqi.net/img/categories_v2/nightlife/pub_\",\"suffix\":\".png\"}},{\"id\":13305,\"name\":\"Burrito Restaurant\",\"icon\":{\"prefix\":\"https://ss3.4sqi.net/img/categories_v2/food/burrito_\",\"suffix\":\".png\"}},{\"id\":13306,\"name\":\"Taco Restaurant\",\"icon\":{\"prefix\":\"https://ss3.4sqi.net/img/categories_v2/food/taco_\",\"suffix\":\".png\"}}],\"chains\":[],\"distance\":179,\"geocodes\":{\"main\":{\"latitude\":46.876769,\"longitude\":-96.787203},\"roof\":{\"latitude\":46.876769,\"longitude\":-96.787203}},\"link\":\"/v3/places/52435e12498e95641e400072\",\"location\":{\"address\":\"520 1st Ave N\",\"census_block\":\"380170007002004\",\"country\":\"US\",\"cross_street\":\"\",\"dma\":\"Fargo-Valley City\",\"formatted_address\":\"520 1st Ave N, Fargo, ND 58102\",\"locality\":\"Fargo\",\"postcode\":\"58102\",\"region\":\"ND\"},\"name\":\"Vinyl Taco\",\"related_places\":{},\"timezone\":\"America/Chicago\"},{\"fsq_id\":\"5c7b3b168a6f17002ce29e0d\",\"categories\":[{\"id\":13302,\"name\":\"Mediterranean Restaurant\",\"icon\":{\"prefix\":\"https://ss3.4sqi.net/img/categories_v2/food/mediterranean_\",\"suffix\":\".png\"}},{\"id\":13309,\"name\":\"Middle Eastern Restaurant\",\"icon\":{\"prefix\":\"https://ss3.4sqi.net/img/categories_v2/food/middleeastern_\",\"suffix\":\".png\"}}],\"chains\":[],\"distance\":188,\"geocodes\":{\"drop_off\":{\"latitude\":46.876635,\"longitude\":-96.787693},\"main\":{\"latitude\":46.876642,\"longitude\":-96.787998},\"roof\":{\"latitude\":46.876642,\"longitude\":-96.787998}},\"link\":\"/v3/places/5c7b3b168a6f17002ce29e0d\",\"location\":{\"address\":\"68 Broadway N\",\"census_block\":\"380170007002005\",\"country\":\"US\",\"cross_street\":\"\",\"dma\":\"Fargo-Valley City\",\"formatted_address\":\"68 Broadway N, Fargo, ND 58102\",\"locality\":\"Fargo\",\"postcode\":\"58102\",\"region\":\"ND\"},\"name\":\"Ishtar Mediterranean Cuisine\",\"related_places\":{},\"timezone\":\"America/Chicago\"},{\"fsq_id\":\"554e7890498e1a6ae33197d5\",\"categories\":[{\"id\":13003,\"name\":\"Bar\",\"icon\":{\"prefix\":\"https://ss3.4sqi.net/img/categories_v2/nightlife/pub_\",\"suffix\":\".png\"}},{\"id\":13026,\"name\":\"BBQ Joint\",\"icon\":{\"prefix\":\"https://ss3.4sqi.net/img/categories_v2/food/bbqalt_\",\"suffix\":\".png\"}},{\"id\":13068,\"name\":\"American Restaurant\",\"icon\":{\"prefix\":\"https://ss3.4sqi.net/img/categories_v2/food/default_\",\"suffix\":\".png\"}}],\"chains\":[],\"distance\":199,\"geocodes\":{\"main\":{\"latitude\":46.876155,\"longitude\":-96.788276},\"roof\":{\"latitude\":46.876155,\"longitude\":-96.788276}},\"link\":\"/v3/places/554e7890498e1a6ae33197d5\",\"location\":{\"address\":\"609 Np Ave N\",\"census_block\":\"380170007002012\",\"country\":\"US\",\"cross_street\":\"\",\"dma\":\"Fargo-Valley City\",\"formatted_address\":\"609 Np Ave N, Fargo, ND 58102\",\"locality\":\"Fargo\",\"postcode\":\"58102\",\"region\":\"ND\"},\"name\":\"NoBull Smokehouse\",\"related_places\":{},\"timezone\":\"America/Chicago\"},{\"fsq_id\":\"5575c038498efe5cbe6af881\",\"categories\":[{\"id\":13003,\"name\":\"Bar\",\"icon\":{\"prefix\":\"https://ss3.4sqi.net/img/categories_v2/nightlife/pub_\",\"suffix\":\".png\"}},{\"id\":13031,\"name\":\"Burger Joint\",\"icon\":{\"prefix\":\"https://ss3.4sqi.net/img/categories_v2/food/burger_\",\"suffix\":\".png\"}},{\"id\":13314,\"name\":\"New American Restaurant\",\"icon\":{\"prefix\":\"https://ss3.4sqi.net/img/categories_v2/food/newamerican_\",\"suffix\":\".png\"}}],\"chains\":[],\"distance\":229,\"geocodes\":{\"front_door\":{\"latitude\":46.876821,\"longitude\":-96.78831},\"main\":{\"latitude\":46.87491,\"longitude\":-96.7884}},\"link\":\"/v3/places/5575c038498efe5cbe6af881\",\"location\":{\"address\":\"612 1st Ave N\",\"census_block\":\"380170007002005\",\"country\":\"US\",\"cross_street\":\"Broadway\",\"dma\":\"Fargo-Valley City\",\"formatted_address\":\"612 1st Ave N (Broadway), Fargo, ND 58102\",\"locality\":\"Fargo\",\"postcode\":\"58102\",\"region\":\"ND\"},\"name\":\"Pounds\",\"related_places\":{},\"timezone\":\"America/Chicago\"},{\"fsq_id\":\"4c363fee2c8020a11bff8600\",\"categories\":[{\"id\":13039,\"name\":\"Deli\",\"icon\":{\"prefix\":\"https://ss3.4sqi.net/img/categories_v2/food/deli_\",\"suffix\":\".png\"}},{\"id\":13145,\"name\":\"Fast Food Restaurant\",\"icon\":{\"prefix\":\"https://ss3.4sqi.net/img/categories_v2/food/fastfood_\",\"suffix\":\".png\"}}],\"chains\":[{\"id\":\"ab4bee40-d68a-012e-5619-003048cad9da\",\"name\":\"Subway\"}],\"distance\":242,\"geocodes\":{\"drop_off\":{\"latitude\":46.877574,\"longitude\":-96.787687},\"main\":{\"latitude\":46.877575,\"longitude\":-96.787365},\"roof\":{\"latitude\":46.877575,\"longitude\":-96.787365}},\"link\":\"/v3/places/4c363fee2c8020a11bff8600\",\"location\":{\"address\":\"115 Broadway N\",\"census_block\":\"380170007001025\",\"country\":\"US\",\"dma\":\"Fargo-Valley City\",\"formatted_address\":\"115 Broadway N, Fargo, ND 58102\",\"locality\":\"Fargo\",\"postcode\":\"58102\",\"region\":\"ND\"},\"name\":\"Subway\",\"related_places\":{},\"timezone\":\"America/Chicago\"},{\"fsq_id\":\"4babb5d5f964a520a0c23ae3\",\"categories\":[{\"id\":13303,\"name\":\"Mexican Restaurant\",\"icon\":{\"prefix\":\"https://ss3.4sqi.net/img/categories_v2/food/mexican_\",\"suffix\":\".png\"}}],\"chains\":[],\"distance\":245,\"geocodes\":{\"main\":{\"latitude\":46.877617,\"longitude\":-96.787185},\"roof\":{\"latitude\":46.877617,\"longitude\":-96.787185}},\"link\":\"/v3/places/4babb5d5f964a520a0c23ae3\",\"location\":{\"address\":\"1825 University Dr S\",\"census_block\":\"380170007001025\",\"country\":\"US\",\"cross_street\":\"\",\"dma\":\"Fargo-Valley City\",\"formatted_address\":\"1825 University Dr S, Fargo, ND 58103\",\"locality\":\"Fargo\",\"postcode\":\"58103\",\"region\":\"ND\"},\"name\":\"Taco Shop\",\"related_places\":{},\"timezone\":\"America/Chicago\"},{\"fsq_id\":\"52c6084b498ed1cd40c01154\",\"categories\":[{\"id\":13007,\"name\":\"Beer Garden\",\"icon\":{\"prefix\":\"https://ss3.4sqi.net/img/categories_v2/nightlife/beergarden_\",\"suffix\":\".png\"}},{\"id\":13165,\"name\":\"German Restaurant\",\"icon\":{\"prefix\":\"https://ss3.4sqi.net/img/categories_v2/food/german_\",\"suffix\":\".png\"}}],\"chains\":[],\"distance\":248,\"geocodes\":{\"main\":{\"latitude\":46.876749,\"longitude\":-96.788315},\"roof\":{\"latitude\":46.876749,\"longitude\":-96.788315}},\"link\":\"/v3/places/52c6084b498ed1cd40c01154\",\"location\":{\"address\":\"630 1st Ave N\",\"census_block\":\"380170007002005\",\"country\":\"US\",\"cross_street\":\"\",\"dma\":\"Fargo-Valley City\",\"formatted_address\":\"630 1st Ave N, Fargo, ND 58102\",\"locality\":\"Fargo\",\"postcode\":\"58102\",\"region\":\"ND\"},\"name\":\"Würst Bier Hall\",\"related_places\":{},\"timezone\":\"America/Chicago\"},{\"fsq_id\":\"619a668decd54e0935b12c08\",\"categories\":[{\"id\":13068,\"name\":\"American Restaurant\",\"icon\":{\"prefix\":\"https://ss3.4sqi.net/img/categories_v2/food/default_\",\"suffix\":\".png\"}},{\"id\":13236,\"name\":\"Italian Restaurant\",\"icon\":{\"prefix\":\"https://ss3.4sqi.net/img/categories_v2/food/italian_\",\"suffix\":\".png\"}},{\"id\":13383,\"name\":\"Steakhouse\",\"icon\":{\"prefix\":\"https://ss3.4sqi.net/img/categories_v2/food/steakhouse_\",\"suffix\":\".png\"}}],\"chains\":[],\"distance\":269,\"geocodes\":{\"drop_off\":{\"latitude\":46.878295,\"longitude\":-96.786196},\"main\":{\"latitude\":46.878295,\"longitude\":-96.785843},\"roof\":{\"latitude\":46.878295,\"longitude\":-96.785843}},\"link\":\"/v3/places/619a668decd54e0935b12c08\",\"location\":{\"address\":\"201 5th St N\",\"census_block\":\"380170007001027\",\"country\":\"US\",\"cross_street\":\"\",\"dma\":\"Fargo-Valley City\",\"formatted_address\":\"201 5th St N, Fargo, ND 58102\",\"locality\":\"Fargo\",\"postcode\":\"58102\",\"region\":\"ND\"},\"name\":\"84 Italian Steakhouse\",\"related_places\":{\"parent\":{\"fsq_id\":\"4b68674ef964a5205e762be3\",\"name\":\"Radisson Hotel Fargo\"}},\"timezone\":\"America/Chicago\"},{\"fsq_id\":\"4ddc200a1838306b81ff5347\",\"categories\":[{\"id\":13064,\"name\":\"Pizzeria\",\"icon\":{\"prefix\":\"https://ss3.4sqi.net/img/categories_v2/food/pizza_\",\"suffix\":\".png\"}}],\"chains\":[],\"distance\":276,\"geocodes\":{\"drop_off\":{\"latitude\":46.874416,\"longitude\":-96.788447},\"main\":{\"latitude\":46.874184,\"longitude\":-96.788459},\"roof\":{\"latitude\":46.874184,\"longitude\":-96.788459}},\"link\":\"/v3/places/4ddc200a1838306b81ff5347\",\"location\":{\"address\":\"606 Main Ave\",\"census_block\":\"380170007002031\",\"country\":\"US\",\"cross_street\":\"at Broadway\",\"dma\":\"Fargo-Valley City\",\"formatted_address\":\"606 Main Ave (at Broadway), Fargo, ND 58103\",\"locality\":\"Fargo\",\"postcode\":\"58103\",\"region\":\"ND\"},\"name\":\"Rhombus Guys\",\"related_places\":{},\"timezone\":\"America/Chicago\"}],\"context\":{\"geo_bounds\":{\"circle\":{\"center\":{\"latitude\":46.8758,\"longitude\":-96.78567},\"radius\":22000}}}}\n"
     ]
    }
   ],
   "source": [
    "response3 = requests.request(\"GET\", url, params=params, headers=headers)\n",
    "\n",
    "print(response3.text)"
   ]
  },
  {
   "cell_type": "code",
   "execution_count": null,
   "metadata": {},
   "outputs": [],
   "source": [
    "json_object = json.dumps(response3.json(), indent=4)\n",
    " \n",
    "with open(\"4RSample.json\", \"w\") as outfile:\n",
    "    outfile.write(json_object)"
   ]
  },
  {
   "cell_type": "code",
   "execution_count": null,
   "metadata": {},
   "outputs": [],
   "source": [
    "with open('4RSample.json', 'r') as f:\n",
    "  data8 = json.load(f)"
   ]
  },
  {
   "cell_type": "code",
   "execution_count": null,
   "metadata": {},
   "outputs": [
    {
     "data": {
      "text/html": [
       "<div>\n",
       "<style scoped>\n",
       "    .dataframe tbody tr th:only-of-type {\n",
       "        vertical-align: middle;\n",
       "    }\n",
       "\n",
       "    .dataframe tbody tr th {\n",
       "        vertical-align: top;\n",
       "    }\n",
       "\n",
       "    .dataframe thead th {\n",
       "        text-align: right;\n",
       "    }\n",
       "</style>\n",
       "<table border=\"1\" class=\"dataframe\">\n",
       "  <thead>\n",
       "    <tr style=\"text-align: right;\">\n",
       "      <th></th>\n",
       "      <th>results</th>\n",
       "      <th>context.geo_bounds.circle.center.latitude</th>\n",
       "      <th>context.geo_bounds.circle.center.longitude</th>\n",
       "      <th>context.geo_bounds.circle.radius</th>\n",
       "    </tr>\n",
       "  </thead>\n",
       "  <tbody>\n",
       "    <tr>\n",
       "      <th>0</th>\n",
       "      <td>[{'fsq_id': '4b33d49ef964a520142025e3', 'categ...</td>\n",
       "      <td>46.8758</td>\n",
       "      <td>-96.78567</td>\n",
       "      <td>22000</td>\n",
       "    </tr>\n",
       "  </tbody>\n",
       "</table>\n",
       "</div>"
      ],
      "text/plain": [
       "                                             results  \\\n",
       "0  [{'fsq_id': '4b33d49ef964a520142025e3', 'categ...   \n",
       "\n",
       "   context.geo_bounds.circle.center.latitude  \\\n",
       "0                                    46.8758   \n",
       "\n",
       "   context.geo_bounds.circle.center.longitude  \\\n",
       "0                                   -96.78567   \n",
       "\n",
       "   context.geo_bounds.circle.radius  \n",
       "0                             22000  "
      ]
     },
     "execution_count": 8,
     "metadata": {},
     "output_type": "execute_result"
    }
   ],
   "source": [
    "pd.json_normalize(data8)"
   ]
  },
  {
   "cell_type": "code",
   "execution_count": null,
   "metadata": {},
   "outputs": [
    {
     "data": {
      "text/plain": [
       "dict_keys(['results', 'context'])"
      ]
     },
     "execution_count": 9,
     "metadata": {},
     "output_type": "execute_result"
    }
   ],
   "source": [
    "data8.keys()"
   ]
  },
  {
   "cell_type": "code",
   "execution_count": null,
   "metadata": {},
   "outputs": [
    {
     "name": "stdout",
     "output_type": "stream",
     "text": [
      "[{'fsq_id': '4b33d49ef964a520142025e3', 'categories': [{'id': 13003, 'name': 'Bar', 'icon': {'prefix': 'https://ss3.4sqi.net/img/categories_v2/nightlife/pub_', 'suffix': '.png'}}, {'id': 13031, 'name': 'Burger Joint', 'icon': {'prefix': 'https://ss3.4sqi.net/img/categories_v2/food/burger_', 'suffix': '.png'}}, {'id': 13068, 'name': 'American Restaurant', 'icon': {'prefix': 'https://ss3.4sqi.net/img/categories_v2/food/default_', 'suffix': '.png'}}], 'chains': [], 'distance': 172, 'geocodes': {'main': {'latitude': 46.87679, 'longitude': -96.787114}, 'roof': {'latitude': 46.87679, 'longitude': -96.787114}}, 'link': '/v3/places/4b33d49ef964a520142025e3', 'location': {'address': '518 1st Ave N', 'census_block': '380170007002004', 'country': 'US', 'cross_street': 'btwn Broadway & 5th St.', 'dma': 'Fargo-Valley City', 'formatted_address': '518 1st Ave N (btwn Broadway & 5th St.), Fargo, ND 58102', 'locality': 'Fargo', 'postcode': '58102', 'region': 'ND'}, 'name': 'JL Beers', 'related_places': {}, 'timezone': 'America/Chicago'}, {'fsq_id': '52435e12498e95641e400072', 'categories': [{'id': 13003, 'name': 'Bar', 'icon': {'prefix': 'https://ss3.4sqi.net/img/categories_v2/nightlife/pub_', 'suffix': '.png'}}, {'id': 13305, 'name': 'Burrito Restaurant', 'icon': {'prefix': 'https://ss3.4sqi.net/img/categories_v2/food/burrito_', 'suffix': '.png'}}, {'id': 13306, 'name': 'Taco Restaurant', 'icon': {'prefix': 'https://ss3.4sqi.net/img/categories_v2/food/taco_', 'suffix': '.png'}}], 'chains': [], 'distance': 179, 'geocodes': {'main': {'latitude': 46.876769, 'longitude': -96.787203}, 'roof': {'latitude': 46.876769, 'longitude': -96.787203}}, 'link': '/v3/places/52435e12498e95641e400072', 'location': {'address': '520 1st Ave N', 'census_block': '380170007002004', 'country': 'US', 'cross_street': '', 'dma': 'Fargo-Valley City', 'formatted_address': '520 1st Ave N, Fargo, ND 58102', 'locality': 'Fargo', 'postcode': '58102', 'region': 'ND'}, 'name': 'Vinyl Taco', 'related_places': {}, 'timezone': 'America/Chicago'}, {'fsq_id': '5c7b3b168a6f17002ce29e0d', 'categories': [{'id': 13302, 'name': 'Mediterranean Restaurant', 'icon': {'prefix': 'https://ss3.4sqi.net/img/categories_v2/food/mediterranean_', 'suffix': '.png'}}, {'id': 13309, 'name': 'Middle Eastern Restaurant', 'icon': {'prefix': 'https://ss3.4sqi.net/img/categories_v2/food/middleeastern_', 'suffix': '.png'}}], 'chains': [], 'distance': 188, 'geocodes': {'drop_off': {'latitude': 46.876635, 'longitude': -96.787693}, 'main': {'latitude': 46.876642, 'longitude': -96.787998}, 'roof': {'latitude': 46.876642, 'longitude': -96.787998}}, 'link': '/v3/places/5c7b3b168a6f17002ce29e0d', 'location': {'address': '68 Broadway N', 'census_block': '380170007002005', 'country': 'US', 'cross_street': '', 'dma': 'Fargo-Valley City', 'formatted_address': '68 Broadway N, Fargo, ND 58102', 'locality': 'Fargo', 'postcode': '58102', 'region': 'ND'}, 'name': 'Ishtar Mediterranean Cuisine', 'related_places': {}, 'timezone': 'America/Chicago'}, {'fsq_id': '554e7890498e1a6ae33197d5', 'categories': [{'id': 13003, 'name': 'Bar', 'icon': {'prefix': 'https://ss3.4sqi.net/img/categories_v2/nightlife/pub_', 'suffix': '.png'}}, {'id': 13026, 'name': 'BBQ Joint', 'icon': {'prefix': 'https://ss3.4sqi.net/img/categories_v2/food/bbqalt_', 'suffix': '.png'}}, {'id': 13068, 'name': 'American Restaurant', 'icon': {'prefix': 'https://ss3.4sqi.net/img/categories_v2/food/default_', 'suffix': '.png'}}], 'chains': [], 'distance': 199, 'geocodes': {'main': {'latitude': 46.876155, 'longitude': -96.788276}, 'roof': {'latitude': 46.876155, 'longitude': -96.788276}}, 'link': '/v3/places/554e7890498e1a6ae33197d5', 'location': {'address': '609 Np Ave N', 'census_block': '380170007002012', 'country': 'US', 'cross_street': '', 'dma': 'Fargo-Valley City', 'formatted_address': '609 Np Ave N, Fargo, ND 58102', 'locality': 'Fargo', 'postcode': '58102', 'region': 'ND'}, 'name': 'NoBull Smokehouse', 'related_places': {}, 'timezone': 'America/Chicago'}, {'fsq_id': '5575c038498efe5cbe6af881', 'categories': [{'id': 13003, 'name': 'Bar', 'icon': {'prefix': 'https://ss3.4sqi.net/img/categories_v2/nightlife/pub_', 'suffix': '.png'}}, {'id': 13031, 'name': 'Burger Joint', 'icon': {'prefix': 'https://ss3.4sqi.net/img/categories_v2/food/burger_', 'suffix': '.png'}}, {'id': 13314, 'name': 'New American Restaurant', 'icon': {'prefix': 'https://ss3.4sqi.net/img/categories_v2/food/newamerican_', 'suffix': '.png'}}], 'chains': [], 'distance': 229, 'geocodes': {'front_door': {'latitude': 46.876821, 'longitude': -96.78831}, 'main': {'latitude': 46.87491, 'longitude': -96.7884}}, 'link': '/v3/places/5575c038498efe5cbe6af881', 'location': {'address': '612 1st Ave N', 'census_block': '380170007002005', 'country': 'US', 'cross_street': 'Broadway', 'dma': 'Fargo-Valley City', 'formatted_address': '612 1st Ave N (Broadway), Fargo, ND 58102', 'locality': 'Fargo', 'postcode': '58102', 'region': 'ND'}, 'name': 'Pounds', 'related_places': {}, 'timezone': 'America/Chicago'}, {'fsq_id': '4c363fee2c8020a11bff8600', 'categories': [{'id': 13039, 'name': 'Deli', 'icon': {'prefix': 'https://ss3.4sqi.net/img/categories_v2/food/deli_', 'suffix': '.png'}}, {'id': 13145, 'name': 'Fast Food Restaurant', 'icon': {'prefix': 'https://ss3.4sqi.net/img/categories_v2/food/fastfood_', 'suffix': '.png'}}], 'chains': [{'id': 'ab4bee40-d68a-012e-5619-003048cad9da', 'name': 'Subway'}], 'distance': 242, 'geocodes': {'drop_off': {'latitude': 46.877574, 'longitude': -96.787687}, 'main': {'latitude': 46.877575, 'longitude': -96.787365}, 'roof': {'latitude': 46.877575, 'longitude': -96.787365}}, 'link': '/v3/places/4c363fee2c8020a11bff8600', 'location': {'address': '115 Broadway N', 'census_block': '380170007001025', 'country': 'US', 'dma': 'Fargo-Valley City', 'formatted_address': '115 Broadway N, Fargo, ND 58102', 'locality': 'Fargo', 'postcode': '58102', 'region': 'ND'}, 'name': 'Subway', 'related_places': {}, 'timezone': 'America/Chicago'}, {'fsq_id': '4babb5d5f964a520a0c23ae3', 'categories': [{'id': 13303, 'name': 'Mexican Restaurant', 'icon': {'prefix': 'https://ss3.4sqi.net/img/categories_v2/food/mexican_', 'suffix': '.png'}}], 'chains': [], 'distance': 245, 'geocodes': {'main': {'latitude': 46.877617, 'longitude': -96.787185}, 'roof': {'latitude': 46.877617, 'longitude': -96.787185}}, 'link': '/v3/places/4babb5d5f964a520a0c23ae3', 'location': {'address': '1825 University Dr S', 'census_block': '380170007001025', 'country': 'US', 'cross_street': '', 'dma': 'Fargo-Valley City', 'formatted_address': '1825 University Dr S, Fargo, ND 58103', 'locality': 'Fargo', 'postcode': '58103', 'region': 'ND'}, 'name': 'Taco Shop', 'related_places': {}, 'timezone': 'America/Chicago'}, {'fsq_id': '52c6084b498ed1cd40c01154', 'categories': [{'id': 13007, 'name': 'Beer Garden', 'icon': {'prefix': 'https://ss3.4sqi.net/img/categories_v2/nightlife/beergarden_', 'suffix': '.png'}}, {'id': 13165, 'name': 'German Restaurant', 'icon': {'prefix': 'https://ss3.4sqi.net/img/categories_v2/food/german_', 'suffix': '.png'}}], 'chains': [], 'distance': 248, 'geocodes': {'main': {'latitude': 46.876749, 'longitude': -96.788315}, 'roof': {'latitude': 46.876749, 'longitude': -96.788315}}, 'link': '/v3/places/52c6084b498ed1cd40c01154', 'location': {'address': '630 1st Ave N', 'census_block': '380170007002005', 'country': 'US', 'cross_street': '', 'dma': 'Fargo-Valley City', 'formatted_address': '630 1st Ave N, Fargo, ND 58102', 'locality': 'Fargo', 'postcode': '58102', 'region': 'ND'}, 'name': 'Würst Bier Hall', 'related_places': {}, 'timezone': 'America/Chicago'}, {'fsq_id': '619a668decd54e0935b12c08', 'categories': [{'id': 13068, 'name': 'American Restaurant', 'icon': {'prefix': 'https://ss3.4sqi.net/img/categories_v2/food/default_', 'suffix': '.png'}}, {'id': 13236, 'name': 'Italian Restaurant', 'icon': {'prefix': 'https://ss3.4sqi.net/img/categories_v2/food/italian_', 'suffix': '.png'}}, {'id': 13383, 'name': 'Steakhouse', 'icon': {'prefix': 'https://ss3.4sqi.net/img/categories_v2/food/steakhouse_', 'suffix': '.png'}}], 'chains': [], 'distance': 269, 'geocodes': {'drop_off': {'latitude': 46.878295, 'longitude': -96.786196}, 'main': {'latitude': 46.878295, 'longitude': -96.785843}, 'roof': {'latitude': 46.878295, 'longitude': -96.785843}}, 'link': '/v3/places/619a668decd54e0935b12c08', 'location': {'address': '201 5th St N', 'census_block': '380170007001027', 'country': 'US', 'cross_street': '', 'dma': 'Fargo-Valley City', 'formatted_address': '201 5th St N, Fargo, ND 58102', 'locality': 'Fargo', 'postcode': '58102', 'region': 'ND'}, 'name': '84 Italian Steakhouse', 'related_places': {'parent': {'fsq_id': '4b68674ef964a5205e762be3', 'name': 'Radisson Hotel Fargo'}}, 'timezone': 'America/Chicago'}, {'fsq_id': '4ddc200a1838306b81ff5347', 'categories': [{'id': 13064, 'name': 'Pizzeria', 'icon': {'prefix': 'https://ss3.4sqi.net/img/categories_v2/food/pizza_', 'suffix': '.png'}}], 'chains': [], 'distance': 276, 'geocodes': {'drop_off': {'latitude': 46.874416, 'longitude': -96.788447}, 'main': {'latitude': 46.874184, 'longitude': -96.788459}, 'roof': {'latitude': 46.874184, 'longitude': -96.788459}}, 'link': '/v3/places/4ddc200a1838306b81ff5347', 'location': {'address': '606 Main Ave', 'census_block': '380170007002031', 'country': 'US', 'cross_street': 'at Broadway', 'dma': 'Fargo-Valley City', 'formatted_address': '606 Main Ave (at Broadway), Fargo, ND 58103', 'locality': 'Fargo', 'postcode': '58103', 'region': 'ND'}, 'name': 'Rhombus Guys', 'related_places': {}, 'timezone': 'America/Chicago'}]\n"
     ]
    }
   ],
   "source": [
    "data9 = data8['results']\n",
    "print(data9)"
   ]
  },
  {
   "cell_type": "code",
   "execution_count": null,
   "metadata": {},
   "outputs": [],
   "source": [
    "df = pd.DataFrame(data9)"
   ]
  },
  {
   "cell_type": "code",
   "execution_count": null,
   "metadata": {},
   "outputs": [
    {
     "data": {
      "text/html": [
       "<div>\n",
       "<style scoped>\n",
       "    .dataframe tbody tr th:only-of-type {\n",
       "        vertical-align: middle;\n",
       "    }\n",
       "\n",
       "    .dataframe tbody tr th {\n",
       "        vertical-align: top;\n",
       "    }\n",
       "\n",
       "    .dataframe thead th {\n",
       "        text-align: right;\n",
       "    }\n",
       "</style>\n",
       "<table border=\"1\" class=\"dataframe\">\n",
       "  <thead>\n",
       "    <tr style=\"text-align: right;\">\n",
       "      <th></th>\n",
       "      <th>distance</th>\n",
       "      <th>name</th>\n",
       "    </tr>\n",
       "  </thead>\n",
       "  <tbody>\n",
       "    <tr>\n",
       "      <th>0</th>\n",
       "      <td>172</td>\n",
       "      <td>JL Beers</td>\n",
       "    </tr>\n",
       "    <tr>\n",
       "      <th>1</th>\n",
       "      <td>179</td>\n",
       "      <td>Vinyl Taco</td>\n",
       "    </tr>\n",
       "    <tr>\n",
       "      <th>2</th>\n",
       "      <td>188</td>\n",
       "      <td>Ishtar Mediterranean Cuisine</td>\n",
       "    </tr>\n",
       "    <tr>\n",
       "      <th>3</th>\n",
       "      <td>199</td>\n",
       "      <td>NoBull Smokehouse</td>\n",
       "    </tr>\n",
       "    <tr>\n",
       "      <th>4</th>\n",
       "      <td>229</td>\n",
       "      <td>Pounds</td>\n",
       "    </tr>\n",
       "    <tr>\n",
       "      <th>5</th>\n",
       "      <td>242</td>\n",
       "      <td>Subway</td>\n",
       "    </tr>\n",
       "    <tr>\n",
       "      <th>6</th>\n",
       "      <td>245</td>\n",
       "      <td>Taco Shop</td>\n",
       "    </tr>\n",
       "    <tr>\n",
       "      <th>7</th>\n",
       "      <td>248</td>\n",
       "      <td>Würst Bier Hall</td>\n",
       "    </tr>\n",
       "    <tr>\n",
       "      <th>8</th>\n",
       "      <td>269</td>\n",
       "      <td>84 Italian Steakhouse</td>\n",
       "    </tr>\n",
       "    <tr>\n",
       "      <th>9</th>\n",
       "      <td>276</td>\n",
       "      <td>Rhombus Guys</td>\n",
       "    </tr>\n",
       "  </tbody>\n",
       "</table>\n",
       "</div>"
      ],
      "text/plain": [
       "   distance                          name\n",
       "0       172                      JL Beers\n",
       "1       179                    Vinyl Taco\n",
       "2       188  Ishtar Mediterranean Cuisine\n",
       "3       199             NoBull Smokehouse\n",
       "4       229                        Pounds\n",
       "5       242                        Subway\n",
       "6       245                     Taco Shop\n",
       "7       248               Würst Bier Hall\n",
       "8       269         84 Italian Steakhouse\n",
       "9       276                  Rhombus Guys"
      ]
     },
     "execution_count": 12,
     "metadata": {},
     "output_type": "execute_result"
    }
   ],
   "source": [
    "R4_Downtown = df.filter(['distance','name'])\n",
    "R4_Downtown"
   ]
  },
  {
   "cell_type": "code",
   "execution_count": null,
   "metadata": {},
   "outputs": [],
   "source": [
    "R4_Downtown.to_csv('4RDowntown.csv')"
   ]
  },
  {
   "cell_type": "code",
   "execution_count": null,
   "metadata": {},
   "outputs": [],
   "source": []
  }
 ],
 "metadata": {
  "kernelspec": {
   "display_name": "TheOne",
   "language": "python",
   "name": "theone"
  },
  "language_info": {
   "codemirror_mode": {
    "name": "ipython",
    "version": 3
   },
   "file_extension": ".py",
   "mimetype": "text/x-python",
   "name": "python",
   "nbconvert_exporter": "python",
   "pygments_lexer": "ipython3",
   "version": "3.9.7"
  },
  "orig_nbformat": 4
 },
 "nbformat": 4,
 "nbformat_minor": 2
}
