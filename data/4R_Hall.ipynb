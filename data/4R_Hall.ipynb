{
 "cells": [
  {
   "cell_type": "code",
   "execution_count": 1,
   "metadata": {},
   "outputs": [],
   "source": [
    "import requests\n",
    "import os\n",
    "import json\n",
    "import pandas as pd"
   ]
  },
  {
   "cell_type": "code",
   "execution_count": 2,
   "metadata": {},
   "outputs": [],
   "source": [
    "api_key = os.environ[\"4sq\"]"
   ]
  },
  {
   "cell_type": "code",
   "execution_count": 3,
   "metadata": {},
   "outputs": [],
   "source": [
    "url= 'https://api.foursquare.com/v3/autocomplete?query=Restaurants&ll=46.87581%2C-96.78996&radius=4000'"
   ]
  },
  {
   "cell_type": "code",
   "execution_count": 4,
   "metadata": {},
   "outputs": [],
   "source": [
    "headers = {\n",
    "    \"Accept\": \"application/json\",\n",
    "    \"Authorization\": api_key\n",
    "}"
   ]
  },
  {
   "cell_type": "code",
   "execution_count": 5,
   "metadata": {},
   "outputs": [],
   "source": [
    "###url = \"https://api.foursquare.com/v3/places/search\""
   ]
  },
  {
   "cell_type": "code",
   "execution_count": 6,
   "metadata": {},
   "outputs": [
    {
     "ename": "IndentationError",
     "evalue": "unexpected indent (2302659375.py, line 2)",
     "output_type": "error",
     "traceback": [
      "\u001b[1;36m  Cell \u001b[1;32mIn[6], line 2\u001b[1;36m\u001b[0m\n\u001b[1;33m    \"query\": \"Restaurants\",\u001b[0m\n\u001b[1;37m    ^\u001b[0m\n\u001b[1;31mIndentationError\u001b[0m\u001b[1;31m:\u001b[0m unexpected indent\n"
     ]
    }
   ],
   "source": [
    "###params = {\n",
    "  \t\"query\": \"Restaurants\",\n",
    "\t\"ll\": \"46.87581,-96.78996\",\n",
    "  \t\"open_now\": \"true\",\n",
    "  \t\"sort\":\"DISTANCE\"\n",
    "}\n",
    "\n",
    "###headers = {\n",
    "    \"Accept\": \"application/json\",\n",
    "    \"Authorization\": api_key\n",
    "}"
   ]
  },
  {
   "cell_type": "code",
   "execution_count": null,
   "metadata": {},
   "outputs": [
    {
     "name": "stdout",
     "output_type": "stream",
     "text": [
      "{\"results\":[{\"fsq_id\":\"554e7890498e1a6ae33197d5\",\"categories\":[{\"id\":13003,\"name\":\"Bar\",\"icon\":{\"prefix\":\"https://ss3.4sqi.net/img/categories_v2/nightlife/pub_\",\"suffix\":\".png\"}},{\"id\":13026,\"name\":\"BBQ Joint\",\"icon\":{\"prefix\":\"https://ss3.4sqi.net/img/categories_v2/food/bbqalt_\",\"suffix\":\".png\"}},{\"id\":13068,\"name\":\"American Restaurant\",\"icon\":{\"prefix\":\"https://ss3.4sqi.net/img/categories_v2/food/default_\",\"suffix\":\".png\"}}],\"chains\":[],\"distance\":134,\"geocodes\":{\"main\":{\"latitude\":46.876155,\"longitude\":-96.788276},\"roof\":{\"latitude\":46.876155,\"longitude\":-96.788276}},\"link\":\"/v3/places/554e7890498e1a6ae33197d5\",\"location\":{\"address\":\"609 Np Ave N\",\"census_block\":\"380170007002012\",\"country\":\"US\",\"cross_street\":\"\",\"dma\":\"Fargo-Valley City\",\"formatted_address\":\"609 Np Ave N, Fargo, ND 58102\",\"locality\":\"Fargo\",\"postcode\":\"58102\",\"region\":\"ND\"},\"name\":\"NoBull Smokehouse\",\"related_places\":{},\"timezone\":\"America/Chicago\"},{\"fsq_id\":\"52c6084b498ed1cd40c01154\",\"categories\":[{\"id\":13007,\"name\":\"Beer Garden\",\"icon\":{\"prefix\":\"https://ss3.4sqi.net/img/categories_v2/nightlife/beergarden_\",\"suffix\":\".png\"}},{\"id\":13165,\"name\":\"German Restaurant\",\"icon\":{\"prefix\":\"https://ss3.4sqi.net/img/categories_v2/food/german_\",\"suffix\":\".png\"}}],\"chains\":[],\"distance\":141,\"geocodes\":{\"main\":{\"latitude\":46.876749,\"longitude\":-96.788315},\"roof\":{\"latitude\":46.876749,\"longitude\":-96.788315}},\"link\":\"/v3/places/52c6084b498ed1cd40c01154\",\"location\":{\"address\":\"630 1st Ave N\",\"census_block\":\"380170007002005\",\"country\":\"US\",\"cross_street\":\"\",\"dma\":\"Fargo-Valley City\",\"formatted_address\":\"630 1st Ave N, Fargo, ND 58102\",\"locality\":\"Fargo\",\"postcode\":\"58102\",\"region\":\"ND\"},\"name\":\"Würst Bier Hall\",\"related_places\":{},\"timezone\":\"America/Chicago\"},{\"fsq_id\":\"5575c038498efe5cbe6af881\",\"categories\":[{\"id\":13003,\"name\":\"Bar\",\"icon\":{\"prefix\":\"https://ss3.4sqi.net/img/categories_v2/nightlife/pub_\",\"suffix\":\".png\"}},{\"id\":13031,\"name\":\"Burger Joint\",\"icon\":{\"prefix\":\"https://ss3.4sqi.net/img/categories_v2/food/burger_\",\"suffix\":\".png\"}},{\"id\":13314,\"name\":\"New American Restaurant\",\"icon\":{\"prefix\":\"https://ss3.4sqi.net/img/categories_v2/food/newamerican_\",\"suffix\":\".png\"}}],\"chains\":[],\"distance\":155,\"geocodes\":{\"front_door\":{\"latitude\":46.876821,\"longitude\":-96.78831},\"main\":{\"latitude\":46.87491,\"longitude\":-96.7884}},\"link\":\"/v3/places/5575c038498efe5cbe6af881\",\"location\":{\"address\":\"612 1st Ave N\",\"census_block\":\"380170007002005\",\"country\":\"US\",\"cross_street\":\"Broadway\",\"dma\":\"Fargo-Valley City\",\"formatted_address\":\"612 1st Ave N (Broadway), Fargo, ND 58102\",\"locality\":\"Fargo\",\"postcode\":\"58102\",\"region\":\"ND\"},\"name\":\"Pounds\",\"related_places\":{},\"timezone\":\"America/Chicago\"},{\"fsq_id\":\"5c7b3b168a6f17002ce29e0d\",\"categories\":[{\"id\":13302,\"name\":\"Mediterranean Restaurant\",\"icon\":{\"prefix\":\"https://ss3.4sqi.net/img/categories_v2/food/mediterranean_\",\"suffix\":\".png\"}},{\"id\":13309,\"name\":\"Middle Eastern Restaurant\",\"icon\":{\"prefix\":\"https://ss3.4sqi.net/img/categories_v2/food/middleeastern_\",\"suffix\":\".png\"}}],\"chains\":[],\"distance\":176,\"geocodes\":{\"drop_off\":{\"latitude\":46.876635,\"longitude\":-96.787693},\"main\":{\"latitude\":46.876642,\"longitude\":-96.787998},\"roof\":{\"latitude\":46.876642,\"longitude\":-96.787998}},\"link\":\"/v3/places/5c7b3b168a6f17002ce29e0d\",\"location\":{\"address\":\"68 Broadway N\",\"census_block\":\"380170007002005\",\"country\":\"US\",\"cross_street\":\"\",\"dma\":\"Fargo-Valley City\",\"formatted_address\":\"68 Broadway N, Fargo, ND 58102\",\"locality\":\"Fargo\",\"postcode\":\"58102\",\"region\":\"ND\"},\"name\":\"Ishtar Mediterranean Cuisine\",\"related_places\":{},\"timezone\":\"America/Chicago\"},{\"fsq_id\":\"4b4fb6bdf964a5202b1227e3\",\"categories\":[{\"id\":13303,\"name\":\"Mexican Restaurant\",\"icon\":{\"prefix\":\"https://ss3.4sqi.net/img/categories_v2/food/mexican_\",\"suffix\":\".png\"}}],\"chains\":[],\"distance\":207,\"geocodes\":{\"main\":{\"latitude\":46.874334,\"longitude\":-96.791917},\"roof\":{\"latitude\":46.874334,\"longitude\":-96.791917}},\"link\":\"/v3/places/4b4fb6bdf964a5202b1227e3\",\"location\":{\"address\":\"814 Main Ave\",\"census_block\":\"380170007002034\",\"country\":\"US\",\"cross_street\":\"\",\"dma\":\"Fargo-Valley City\",\"formatted_address\":\"814 Main Ave, Fargo, ND 58103\",\"locality\":\"Fargo\",\"postcode\":\"58103\",\"region\":\"ND\"},\"name\":\"Mexican Village\",\"related_places\":{},\"timezone\":\"America/Chicago\"},{\"fsq_id\":\"4ddc200a1838306b81ff5347\",\"categories\":[{\"id\":13064,\"name\":\"Pizzeria\",\"icon\":{\"prefix\":\"https://ss3.4sqi.net/img/categories_v2/food/pizza_\",\"suffix\":\".png\"}}],\"chains\":[],\"distance\":217,\"geocodes\":{\"drop_off\":{\"latitude\":46.874416,\"longitude\":-96.788447},\"main\":{\"latitude\":46.874184,\"longitude\":-96.788459},\"roof\":{\"latitude\":46.874184,\"longitude\":-96.788459}},\"link\":\"/v3/places/4ddc200a1838306b81ff5347\",\"location\":{\"address\":\"606 Main Ave\",\"census_block\":\"380170007002031\",\"country\":\"US\",\"cross_street\":\"at Broadway\",\"dma\":\"Fargo-Valley City\",\"formatted_address\":\"606 Main Ave (at Broadway), Fargo, ND 58103\",\"locality\":\"Fargo\",\"postcode\":\"58103\",\"region\":\"ND\"},\"name\":\"Rhombus Guys\",\"related_places\":{},\"timezone\":\"America/Chicago\"},{\"fsq_id\":\"4b87fc98f964a52011d731e3\",\"categories\":[{\"id\":13002,\"name\":\"Bakery\",\"icon\":{\"prefix\":\"https://ss3.4sqi.net/img/categories_v2/food/bakery_\",\"suffix\":\".png\"}},{\"id\":13046,\"name\":\"Ice Cream Parlor\",\"icon\":{\"prefix\":\"https://ss3.4sqi.net/img/categories_v2/food/icecream_\",\"suffix\":\".png\"}},{\"id\":13068,\"name\":\"American Restaurant\",\"icon\":{\"prefix\":\"https://ss3.4sqi.net/img/categories_v2/food/default_\",\"suffix\":\".png\"}}],\"chains\":[],\"distance\":228,\"geocodes\":{\"main\":{\"latitude\":46.87391,\"longitude\":-96.791415},\"roof\":{\"latitude\":46.87391,\"longitude\":-96.791415}},\"link\":\"/v3/places/4b87fc98f964a52011d731e3\",\"location\":{\"address\":\"13 8th St S\",\"census_block\":\"380170007002034\",\"country\":\"US\",\"cross_street\":\"at Main Ave\",\"dma\":\"Fargo-Valley City\",\"formatted_address\":\"13 8th St S (at Main Ave), Fargo, ND 58103\",\"locality\":\"Fargo\",\"postcode\":\"58103\",\"region\":\"ND\"},\"name\":\"Nichole's Fine Pastry\",\"related_places\":{},\"timezone\":\"America/Chicago\"},{\"fsq_id\":\"52435e12498e95641e400072\",\"categories\":[{\"id\":13003,\"name\":\"Bar\",\"icon\":{\"prefix\":\"https://ss3.4sqi.net/img/categories_v2/nightlife/pub_\",\"suffix\":\".png\"}},{\"id\":13305,\"name\":\"Burrito Restaurant\",\"icon\":{\"prefix\":\"https://ss3.4sqi.net/img/categories_v2/food/burrito_\",\"suffix\":\".png\"}},{\"id\":13306,\"name\":\"Taco Restaurant\",\"icon\":{\"prefix\":\"https://ss3.4sqi.net/img/categories_v2/food/taco_\",\"suffix\":\".png\"}}],\"chains\":[],\"distance\":248,\"geocodes\":{\"main\":{\"latitude\":46.876769,\"longitude\":-96.787203},\"roof\":{\"latitude\":46.876769,\"longitude\":-96.787203}},\"link\":\"/v3/places/52435e12498e95641e400072\",\"location\":{\"address\":\"520 1st Ave N\",\"census_block\":\"380170007002004\",\"country\":\"US\",\"cross_street\":\"\",\"dma\":\"Fargo-Valley City\",\"formatted_address\":\"520 1st Ave N, Fargo, ND 58102\",\"locality\":\"Fargo\",\"postcode\":\"58102\",\"region\":\"ND\"},\"name\":\"Vinyl Taco\",\"related_places\":{},\"timezone\":\"America/Chicago\"},{\"fsq_id\":\"4b33d49ef964a520142025e3\",\"categories\":[{\"id\":13003,\"name\":\"Bar\",\"icon\":{\"prefix\":\"https://ss3.4sqi.net/img/categories_v2/nightlife/pub_\",\"suffix\":\".png\"}},{\"id\":13031,\"name\":\"Burger Joint\",\"icon\":{\"prefix\":\"https://ss3.4sqi.net/img/categories_v2/food/burger_\",\"suffix\":\".png\"}},{\"id\":13068,\"name\":\"American Restaurant\",\"icon\":{\"prefix\":\"https://ss3.4sqi.net/img/categories_v2/food/default_\",\"suffix\":\".png\"}}],\"chains\":[],\"distance\":254,\"geocodes\":{\"main\":{\"latitude\":46.87679,\"longitude\":-96.787114},\"roof\":{\"latitude\":46.87679,\"longitude\":-96.787114}},\"link\":\"/v3/places/4b33d49ef964a520142025e3\",\"location\":{\"address\":\"518 1st Ave N\",\"census_block\":\"380170007002004\",\"country\":\"US\",\"cross_street\":\"btwn Broadway & 5th St.\",\"dma\":\"Fargo-Valley City\",\"formatted_address\":\"518 1st Ave N (btwn Broadway & 5th St.), Fargo, ND 58102\",\"locality\":\"Fargo\",\"postcode\":\"58102\",\"region\":\"ND\"},\"name\":\"JL Beers\",\"related_places\":{},\"timezone\":\"America/Chicago\"},{\"fsq_id\":\"5bd3b9471af852002c7787da\",\"categories\":[{\"id\":13068,\"name\":\"American Restaurant\",\"icon\":{\"prefix\":\"https://ss3.4sqi.net/img/categories_v2/food/default_\",\"suffix\":\".png\"}}],\"chains\":[],\"distance\":257,\"geocodes\":{\"drop_off\":{\"latitude\":46.878021,\"longitude\":-96.789255},\"main\":{\"latitude\":46.878275,\"longitude\":-96.789253},\"roof\":{\"latitude\":46.878275,\"longitude\":-96.789253}},\"link\":\"/v3/places/5bd3b9471af852002c7787da\",\"location\":{\"address\":\"635 2nd Ave N\",\"census_block\":\"380170007001012\",\"country\":\"US\",\"cross_street\":\"\",\"dma\":\"Fargo-Valley City\",\"formatted_address\":\"635 2nd Ave N, Fargo, ND 58102\",\"locality\":\"Fargo\",\"postcode\":\"58102\",\"region\":\"ND\"},\"name\":\"46 North Pints & Provisions\",\"related_places\":{},\"timezone\":\"America/Chicago\"}],\"context\":{\"geo_bounds\":{\"circle\":{\"center\":{\"latitude\":46.87581,\"longitude\":-96.78996},\"radius\":22000}}}}\n"
     ]
    }
   ],
   "source": [
    "response = requests.request(\"GET\", url, params=params, headers=headers)\n",
    "\n",
    "print(response.text)"
   ]
  },
  {
   "cell_type": "code",
   "execution_count": null,
   "metadata": {},
   "outputs": [],
   "source": [
    "json_object = json.dumps(response.json(), indent=4)\n",
    " \n",
    "with open(\"4RSample.json\", \"w\") as outfile:\n",
    "    outfile.write(json_object)"
   ]
  },
  {
   "cell_type": "code",
   "execution_count": null,
   "metadata": {},
   "outputs": [],
   "source": [
    "with open('4RSample.json', 'r') as f:\n",
    "  data = json.load(f)"
   ]
  },
  {
   "cell_type": "code",
   "execution_count": null,
   "metadata": {},
   "outputs": [
    {
     "data": {
      "text/html": [
       "<div>\n",
       "<style scoped>\n",
       "    .dataframe tbody tr th:only-of-type {\n",
       "        vertical-align: middle;\n",
       "    }\n",
       "\n",
       "    .dataframe tbody tr th {\n",
       "        vertical-align: top;\n",
       "    }\n",
       "\n",
       "    .dataframe thead th {\n",
       "        text-align: right;\n",
       "    }\n",
       "</style>\n",
       "<table border=\"1\" class=\"dataframe\">\n",
       "  <thead>\n",
       "    <tr style=\"text-align: right;\">\n",
       "      <th></th>\n",
       "      <th>results</th>\n",
       "      <th>context.geo_bounds.circle.center.latitude</th>\n",
       "      <th>context.geo_bounds.circle.center.longitude</th>\n",
       "      <th>context.geo_bounds.circle.radius</th>\n",
       "    </tr>\n",
       "  </thead>\n",
       "  <tbody>\n",
       "    <tr>\n",
       "      <th>0</th>\n",
       "      <td>[{'fsq_id': '554e7890498e1a6ae33197d5', 'categ...</td>\n",
       "      <td>46.87581</td>\n",
       "      <td>-96.78996</td>\n",
       "      <td>22000</td>\n",
       "    </tr>\n",
       "  </tbody>\n",
       "</table>\n",
       "</div>"
      ],
      "text/plain": [
       "                                             results  \\\n",
       "0  [{'fsq_id': '554e7890498e1a6ae33197d5', 'categ...   \n",
       "\n",
       "   context.geo_bounds.circle.center.latitude  \\\n",
       "0                                   46.87581   \n",
       "\n",
       "   context.geo_bounds.circle.center.longitude  \\\n",
       "0                                   -96.78996   \n",
       "\n",
       "   context.geo_bounds.circle.radius  \n",
       "0                             22000  "
      ]
     },
     "execution_count": 8,
     "metadata": {},
     "output_type": "execute_result"
    }
   ],
   "source": [
    "pd.json_normalize(data)"
   ]
  },
  {
   "cell_type": "code",
   "execution_count": null,
   "metadata": {},
   "outputs": [
    {
     "data": {
      "text/plain": [
       "dict_keys(['results', 'context'])"
      ]
     },
     "execution_count": 9,
     "metadata": {},
     "output_type": "execute_result"
    }
   ],
   "source": [
    "data.keys()"
   ]
  },
  {
   "cell_type": "code",
   "execution_count": null,
   "metadata": {},
   "outputs": [
    {
     "name": "stdout",
     "output_type": "stream",
     "text": [
      "[{'fsq_id': '554e7890498e1a6ae33197d5', 'categories': [{'id': 13003, 'name': 'Bar', 'icon': {'prefix': 'https://ss3.4sqi.net/img/categories_v2/nightlife/pub_', 'suffix': '.png'}}, {'id': 13026, 'name': 'BBQ Joint', 'icon': {'prefix': 'https://ss3.4sqi.net/img/categories_v2/food/bbqalt_', 'suffix': '.png'}}, {'id': 13068, 'name': 'American Restaurant', 'icon': {'prefix': 'https://ss3.4sqi.net/img/categories_v2/food/default_', 'suffix': '.png'}}], 'chains': [], 'distance': 134, 'geocodes': {'main': {'latitude': 46.876155, 'longitude': -96.788276}, 'roof': {'latitude': 46.876155, 'longitude': -96.788276}}, 'link': '/v3/places/554e7890498e1a6ae33197d5', 'location': {'address': '609 Np Ave N', 'census_block': '380170007002012', 'country': 'US', 'cross_street': '', 'dma': 'Fargo-Valley City', 'formatted_address': '609 Np Ave N, Fargo, ND 58102', 'locality': 'Fargo', 'postcode': '58102', 'region': 'ND'}, 'name': 'NoBull Smokehouse', 'related_places': {}, 'timezone': 'America/Chicago'}, {'fsq_id': '52c6084b498ed1cd40c01154', 'categories': [{'id': 13007, 'name': 'Beer Garden', 'icon': {'prefix': 'https://ss3.4sqi.net/img/categories_v2/nightlife/beergarden_', 'suffix': '.png'}}, {'id': 13165, 'name': 'German Restaurant', 'icon': {'prefix': 'https://ss3.4sqi.net/img/categories_v2/food/german_', 'suffix': '.png'}}], 'chains': [], 'distance': 141, 'geocodes': {'main': {'latitude': 46.876749, 'longitude': -96.788315}, 'roof': {'latitude': 46.876749, 'longitude': -96.788315}}, 'link': '/v3/places/52c6084b498ed1cd40c01154', 'location': {'address': '630 1st Ave N', 'census_block': '380170007002005', 'country': 'US', 'cross_street': '', 'dma': 'Fargo-Valley City', 'formatted_address': '630 1st Ave N, Fargo, ND 58102', 'locality': 'Fargo', 'postcode': '58102', 'region': 'ND'}, 'name': 'Würst Bier Hall', 'related_places': {}, 'timezone': 'America/Chicago'}, {'fsq_id': '5575c038498efe5cbe6af881', 'categories': [{'id': 13003, 'name': 'Bar', 'icon': {'prefix': 'https://ss3.4sqi.net/img/categories_v2/nightlife/pub_', 'suffix': '.png'}}, {'id': 13031, 'name': 'Burger Joint', 'icon': {'prefix': 'https://ss3.4sqi.net/img/categories_v2/food/burger_', 'suffix': '.png'}}, {'id': 13314, 'name': 'New American Restaurant', 'icon': {'prefix': 'https://ss3.4sqi.net/img/categories_v2/food/newamerican_', 'suffix': '.png'}}], 'chains': [], 'distance': 155, 'geocodes': {'front_door': {'latitude': 46.876821, 'longitude': -96.78831}, 'main': {'latitude': 46.87491, 'longitude': -96.7884}}, 'link': '/v3/places/5575c038498efe5cbe6af881', 'location': {'address': '612 1st Ave N', 'census_block': '380170007002005', 'country': 'US', 'cross_street': 'Broadway', 'dma': 'Fargo-Valley City', 'formatted_address': '612 1st Ave N (Broadway), Fargo, ND 58102', 'locality': 'Fargo', 'postcode': '58102', 'region': 'ND'}, 'name': 'Pounds', 'related_places': {}, 'timezone': 'America/Chicago'}, {'fsq_id': '5c7b3b168a6f17002ce29e0d', 'categories': [{'id': 13302, 'name': 'Mediterranean Restaurant', 'icon': {'prefix': 'https://ss3.4sqi.net/img/categories_v2/food/mediterranean_', 'suffix': '.png'}}, {'id': 13309, 'name': 'Middle Eastern Restaurant', 'icon': {'prefix': 'https://ss3.4sqi.net/img/categories_v2/food/middleeastern_', 'suffix': '.png'}}], 'chains': [], 'distance': 176, 'geocodes': {'drop_off': {'latitude': 46.876635, 'longitude': -96.787693}, 'main': {'latitude': 46.876642, 'longitude': -96.787998}, 'roof': {'latitude': 46.876642, 'longitude': -96.787998}}, 'link': '/v3/places/5c7b3b168a6f17002ce29e0d', 'location': {'address': '68 Broadway N', 'census_block': '380170007002005', 'country': 'US', 'cross_street': '', 'dma': 'Fargo-Valley City', 'formatted_address': '68 Broadway N, Fargo, ND 58102', 'locality': 'Fargo', 'postcode': '58102', 'region': 'ND'}, 'name': 'Ishtar Mediterranean Cuisine', 'related_places': {}, 'timezone': 'America/Chicago'}, {'fsq_id': '4b4fb6bdf964a5202b1227e3', 'categories': [{'id': 13303, 'name': 'Mexican Restaurant', 'icon': {'prefix': 'https://ss3.4sqi.net/img/categories_v2/food/mexican_', 'suffix': '.png'}}], 'chains': [], 'distance': 207, 'geocodes': {'main': {'latitude': 46.874334, 'longitude': -96.791917}, 'roof': {'latitude': 46.874334, 'longitude': -96.791917}}, 'link': '/v3/places/4b4fb6bdf964a5202b1227e3', 'location': {'address': '814 Main Ave', 'census_block': '380170007002034', 'country': 'US', 'cross_street': '', 'dma': 'Fargo-Valley City', 'formatted_address': '814 Main Ave, Fargo, ND 58103', 'locality': 'Fargo', 'postcode': '58103', 'region': 'ND'}, 'name': 'Mexican Village', 'related_places': {}, 'timezone': 'America/Chicago'}, {'fsq_id': '4ddc200a1838306b81ff5347', 'categories': [{'id': 13064, 'name': 'Pizzeria', 'icon': {'prefix': 'https://ss3.4sqi.net/img/categories_v2/food/pizza_', 'suffix': '.png'}}], 'chains': [], 'distance': 217, 'geocodes': {'drop_off': {'latitude': 46.874416, 'longitude': -96.788447}, 'main': {'latitude': 46.874184, 'longitude': -96.788459}, 'roof': {'latitude': 46.874184, 'longitude': -96.788459}}, 'link': '/v3/places/4ddc200a1838306b81ff5347', 'location': {'address': '606 Main Ave', 'census_block': '380170007002031', 'country': 'US', 'cross_street': 'at Broadway', 'dma': 'Fargo-Valley City', 'formatted_address': '606 Main Ave (at Broadway), Fargo, ND 58103', 'locality': 'Fargo', 'postcode': '58103', 'region': 'ND'}, 'name': 'Rhombus Guys', 'related_places': {}, 'timezone': 'America/Chicago'}, {'fsq_id': '4b87fc98f964a52011d731e3', 'categories': [{'id': 13002, 'name': 'Bakery', 'icon': {'prefix': 'https://ss3.4sqi.net/img/categories_v2/food/bakery_', 'suffix': '.png'}}, {'id': 13046, 'name': 'Ice Cream Parlor', 'icon': {'prefix': 'https://ss3.4sqi.net/img/categories_v2/food/icecream_', 'suffix': '.png'}}, {'id': 13068, 'name': 'American Restaurant', 'icon': {'prefix': 'https://ss3.4sqi.net/img/categories_v2/food/default_', 'suffix': '.png'}}], 'chains': [], 'distance': 228, 'geocodes': {'main': {'latitude': 46.87391, 'longitude': -96.791415}, 'roof': {'latitude': 46.87391, 'longitude': -96.791415}}, 'link': '/v3/places/4b87fc98f964a52011d731e3', 'location': {'address': '13 8th St S', 'census_block': '380170007002034', 'country': 'US', 'cross_street': 'at Main Ave', 'dma': 'Fargo-Valley City', 'formatted_address': '13 8th St S (at Main Ave), Fargo, ND 58103', 'locality': 'Fargo', 'postcode': '58103', 'region': 'ND'}, 'name': \"Nichole's Fine Pastry\", 'related_places': {}, 'timezone': 'America/Chicago'}, {'fsq_id': '52435e12498e95641e400072', 'categories': [{'id': 13003, 'name': 'Bar', 'icon': {'prefix': 'https://ss3.4sqi.net/img/categories_v2/nightlife/pub_', 'suffix': '.png'}}, {'id': 13305, 'name': 'Burrito Restaurant', 'icon': {'prefix': 'https://ss3.4sqi.net/img/categories_v2/food/burrito_', 'suffix': '.png'}}, {'id': 13306, 'name': 'Taco Restaurant', 'icon': {'prefix': 'https://ss3.4sqi.net/img/categories_v2/food/taco_', 'suffix': '.png'}}], 'chains': [], 'distance': 248, 'geocodes': {'main': {'latitude': 46.876769, 'longitude': -96.787203}, 'roof': {'latitude': 46.876769, 'longitude': -96.787203}}, 'link': '/v3/places/52435e12498e95641e400072', 'location': {'address': '520 1st Ave N', 'census_block': '380170007002004', 'country': 'US', 'cross_street': '', 'dma': 'Fargo-Valley City', 'formatted_address': '520 1st Ave N, Fargo, ND 58102', 'locality': 'Fargo', 'postcode': '58102', 'region': 'ND'}, 'name': 'Vinyl Taco', 'related_places': {}, 'timezone': 'America/Chicago'}, {'fsq_id': '4b33d49ef964a520142025e3', 'categories': [{'id': 13003, 'name': 'Bar', 'icon': {'prefix': 'https://ss3.4sqi.net/img/categories_v2/nightlife/pub_', 'suffix': '.png'}}, {'id': 13031, 'name': 'Burger Joint', 'icon': {'prefix': 'https://ss3.4sqi.net/img/categories_v2/food/burger_', 'suffix': '.png'}}, {'id': 13068, 'name': 'American Restaurant', 'icon': {'prefix': 'https://ss3.4sqi.net/img/categories_v2/food/default_', 'suffix': '.png'}}], 'chains': [], 'distance': 254, 'geocodes': {'main': {'latitude': 46.87679, 'longitude': -96.787114}, 'roof': {'latitude': 46.87679, 'longitude': -96.787114}}, 'link': '/v3/places/4b33d49ef964a520142025e3', 'location': {'address': '518 1st Ave N', 'census_block': '380170007002004', 'country': 'US', 'cross_street': 'btwn Broadway & 5th St.', 'dma': 'Fargo-Valley City', 'formatted_address': '518 1st Ave N (btwn Broadway & 5th St.), Fargo, ND 58102', 'locality': 'Fargo', 'postcode': '58102', 'region': 'ND'}, 'name': 'JL Beers', 'related_places': {}, 'timezone': 'America/Chicago'}, {'fsq_id': '5bd3b9471af852002c7787da', 'categories': [{'id': 13068, 'name': 'American Restaurant', 'icon': {'prefix': 'https://ss3.4sqi.net/img/categories_v2/food/default_', 'suffix': '.png'}}], 'chains': [], 'distance': 257, 'geocodes': {'drop_off': {'latitude': 46.878021, 'longitude': -96.789255}, 'main': {'latitude': 46.878275, 'longitude': -96.789253}, 'roof': {'latitude': 46.878275, 'longitude': -96.789253}}, 'link': '/v3/places/5bd3b9471af852002c7787da', 'location': {'address': '635 2nd Ave N', 'census_block': '380170007001012', 'country': 'US', 'cross_street': '', 'dma': 'Fargo-Valley City', 'formatted_address': '635 2nd Ave N, Fargo, ND 58102', 'locality': 'Fargo', 'postcode': '58102', 'region': 'ND'}, 'name': '46 North Pints & Provisions', 'related_places': {}, 'timezone': 'America/Chicago'}]\n"
     ]
    }
   ],
   "source": [
    "data1 = data['results']\n",
    "print(data1)"
   ]
  },
  {
   "cell_type": "code",
   "execution_count": null,
   "metadata": {},
   "outputs": [],
   "source": [
    "df = pd.DataFrame(data1)"
   ]
  },
  {
   "cell_type": "code",
   "execution_count": null,
   "metadata": {},
   "outputs": [
    {
     "data": {
      "text/html": [
       "<div>\n",
       "<style scoped>\n",
       "    .dataframe tbody tr th:only-of-type {\n",
       "        vertical-align: middle;\n",
       "    }\n",
       "\n",
       "    .dataframe tbody tr th {\n",
       "        vertical-align: top;\n",
       "    }\n",
       "\n",
       "    .dataframe thead th {\n",
       "        text-align: right;\n",
       "    }\n",
       "</style>\n",
       "<table border=\"1\" class=\"dataframe\">\n",
       "  <thead>\n",
       "    <tr style=\"text-align: right;\">\n",
       "      <th></th>\n",
       "      <th>distance</th>\n",
       "      <th>name</th>\n",
       "    </tr>\n",
       "  </thead>\n",
       "  <tbody>\n",
       "    <tr>\n",
       "      <th>0</th>\n",
       "      <td>134</td>\n",
       "      <td>NoBull Smokehouse</td>\n",
       "    </tr>\n",
       "    <tr>\n",
       "      <th>1</th>\n",
       "      <td>141</td>\n",
       "      <td>Würst Bier Hall</td>\n",
       "    </tr>\n",
       "    <tr>\n",
       "      <th>2</th>\n",
       "      <td>155</td>\n",
       "      <td>Pounds</td>\n",
       "    </tr>\n",
       "    <tr>\n",
       "      <th>3</th>\n",
       "      <td>176</td>\n",
       "      <td>Ishtar Mediterranean Cuisine</td>\n",
       "    </tr>\n",
       "    <tr>\n",
       "      <th>4</th>\n",
       "      <td>207</td>\n",
       "      <td>Mexican Village</td>\n",
       "    </tr>\n",
       "    <tr>\n",
       "      <th>5</th>\n",
       "      <td>217</td>\n",
       "      <td>Rhombus Guys</td>\n",
       "    </tr>\n",
       "    <tr>\n",
       "      <th>6</th>\n",
       "      <td>228</td>\n",
       "      <td>Nichole's Fine Pastry</td>\n",
       "    </tr>\n",
       "    <tr>\n",
       "      <th>7</th>\n",
       "      <td>248</td>\n",
       "      <td>Vinyl Taco</td>\n",
       "    </tr>\n",
       "    <tr>\n",
       "      <th>8</th>\n",
       "      <td>254</td>\n",
       "      <td>JL Beers</td>\n",
       "    </tr>\n",
       "    <tr>\n",
       "      <th>9</th>\n",
       "      <td>257</td>\n",
       "      <td>46 North Pints &amp; Provisions</td>\n",
       "    </tr>\n",
       "  </tbody>\n",
       "</table>\n",
       "</div>"
      ],
      "text/plain": [
       "   distance                          name\n",
       "0       134             NoBull Smokehouse\n",
       "1       141               Würst Bier Hall\n",
       "2       155                        Pounds\n",
       "3       176  Ishtar Mediterranean Cuisine\n",
       "4       207               Mexican Village\n",
       "5       217                  Rhombus Guys\n",
       "6       228         Nichole's Fine Pastry\n",
       "7       248                    Vinyl Taco\n",
       "8       254                      JL Beers\n",
       "9       257   46 North Pints & Provisions"
      ]
     },
     "execution_count": 12,
     "metadata": {},
     "output_type": "execute_result"
    }
   ],
   "source": [
    "R4_Hall = df.filter(['distance','name'])\n",
    "R4_Hall"
   ]
  },
  {
   "cell_type": "code",
   "execution_count": null,
   "metadata": {},
   "outputs": [],
   "source": [
    "R4_Hall.to_csv('4RHall.csv')"
   ]
  },
  {
   "cell_type": "code",
   "execution_count": null,
   "metadata": {},
   "outputs": [],
   "source": []
  }
 ],
 "metadata": {
  "kernelspec": {
   "display_name": "TheOne",
   "language": "python",
   "name": "theone"
  },
  "language_info": {
   "codemirror_mode": {
    "name": "ipython",
    "version": 3
   },
   "file_extension": ".py",
   "mimetype": "text/x-python",
   "name": "python",
   "nbconvert_exporter": "python",
   "pygments_lexer": "ipython3",
   "version": "3.9.7"
  },
  "orig_nbformat": 4
 },
 "nbformat": 4,
 "nbformat_minor": 2
}
