{
 "cells": [
  {
   "cell_type": "code",
   "execution_count": 26,
   "metadata": {},
   "outputs": [],
   "source": [
    "import requests\n",
    "import os\n",
    "import json\n",
    "import pandas as pd"
   ]
  },
  {
   "cell_type": "code",
   "execution_count": 27,
   "metadata": {},
   "outputs": [],
   "source": [
    "api_key = os.environ[\"4sq\"]"
   ]
  },
  {
   "cell_type": "code",
   "execution_count": 28,
   "metadata": {},
   "outputs": [],
   "source": [
    "url= 'https://api.foursquare.com/v3/autocomplete?query=Mall&ll=46.87581%2C-96.78996&radius=4000'"
   ]
  },
  {
   "cell_type": "code",
   "execution_count": 29,
   "metadata": {},
   "outputs": [],
   "source": [
    "headers = {\n",
    "    \"Accept\": \"application/json\",\n",
    "    \"Authorization\": api_key\n",
    "}"
   ]
  },
  {
   "cell_type": "code",
   "execution_count": 30,
   "metadata": {},
   "outputs": [],
   "source": [
    "###Do not use\n",
    "###url = \"https://api.foursquare.com/v3/places/search\""
   ]
  },
  {
   "cell_type": "code",
   "execution_count": 31,
   "metadata": {},
   "outputs": [
    {
     "ename": "IndentationError",
     "evalue": "unexpected indent (3279135499.py, line 3)",
     "output_type": "error",
     "traceback": [
      "\u001b[1;36m  Cell \u001b[1;32mIn[31], line 3\u001b[1;36m\u001b[0m\n\u001b[1;33m    \"query\": \"Shopping Mall\",\u001b[0m\n\u001b[1;37m    ^\u001b[0m\n\u001b[1;31mIndentationError\u001b[0m\u001b[1;31m:\u001b[0m unexpected indent\n"
     ]
    }
   ],
   "source": [
    "###Do not use \n",
    "###params = {\n",
    "  \t\"query\": \"Shopping Mall\",\n",
    "  \t\"ll\": \"46.87310,-96.78644\",\n",
    "  \t\"open_now\": \"true\",\n",
    "  \t\"sort\":\"DISTANCE\"\n",
    "}\n",
    "\n",
    "##headers = {\n",
    "    \"Accept\": \"application/json\",\n",
    "    \"Authorization\": api_key\n",
    "}"
   ]
  },
  {
   "cell_type": "code",
   "execution_count": null,
   "metadata": {},
   "outputs": [
    {
     "name": "stdout",
     "output_type": "stream",
     "text": [
      "{\"results\":[{\"type\":\"place\",\"text\":{\"primary\":\"West Acres Mall\",\"secondary\":\"3902 13th Ave S, Fargo, ND 58103\",\"highlight\":[{\"start\":11,\"length\":4}]},\"link\":\"/v3/places/4b37e911f964a5206d4825e3\",\"place\":{\"fsq_id\":\"4b37e911f964a5206d4825e3\",\"categories\":[{\"id\":17114,\"name\":\"Shopping Mall\",\"icon\":{\"prefix\":\"https://ss3.4sqi.net/img/categories_v2/shops/mall_\",\"suffix\":\".png\"}}],\"distance\":4844,\"geocodes\":{\"main\":{\"latitude\":46.859622,\"longitude\":-96.84616},\"roof\":{\"latitude\":46.859622,\"longitude\":-96.84616}},\"location\":{\"address\":\"3902 13th Ave S\",\"address_extended\":\"Ste 3717\",\"census_block\":\"380170101063003\",\"country\":\"US\",\"cross_street\":\"btwn 38th & 42nd St. S\",\"dma\":\"Fargo-Valley City\",\"formatted_address\":\"3902 13th Ave S (btwn 38th & 42nd St. S), Fargo, ND 58103\",\"locality\":\"Fargo\",\"postcode\":\"58103\",\"region\":\"ND\"},\"name\":\"West Acres Mall\"}},{\"type\":\"place\",\"text\":{\"primary\":\"Center Mall North\",\"secondary\":\"10 4th St N, Moorhead, MN 56560\",\"highlight\":[{\"start\":7,\"length\":4}]},\"link\":\"/v3/places/8bc12391097d4cdbd08fd602\",\"place\":{\"fsq_id\":\"8bc12391097d4cdbd08fd602\",\"categories\":[{\"id\":17115,\"name\":\"Shopping Plaza\",\"icon\":{\"prefix\":\"https://ss3.4sqi.net/img/categories_v2/shops/mall_\",\"suffix\":\".png\"}}],\"distance\":1082,\"geocodes\":{\"main\":{\"latitude\":46.876805,\"longitude\":-96.775784},\"roof\":{\"latitude\":46.876805,\"longitude\":-96.775784}},\"location\":{\"address\":\"10 4th St N\",\"census_block\":\"270270203002004\",\"country\":\"US\",\"dma\":\"Fargo-Valley City\",\"formatted_address\":\"10 4th St N, Moorhead, MN 56560\",\"locality\":\"Moorhead\",\"postcode\":\"56560\",\"region\":\"MN\"},\"name\":\"Center Mall North\"}},{\"type\":\"place\",\"text\":{\"primary\":\"Moorhead Center Mall\",\"secondary\":\"510 Center Ave, Moorhead, MN 56560\",\"highlight\":[{\"start\":16,\"length\":4}]},\"link\":\"/v3/places/4b68d814f964a520be8f2be3\",\"place\":{\"fsq_id\":\"4b68d814f964a520be8f2be3\",\"categories\":[{\"id\":17114,\"name\":\"Shopping Mall\",\"icon\":{\"prefix\":\"https://ss3.4sqi.net/img/categories_v2/shops/mall_\",\"suffix\":\".png\"}}],\"distance\":1278,\"geocodes\":{\"main\":{\"latitude\":46.875742,\"longitude\":-96.772614},\"roof\":{\"latitude\":46.875742,\"longitude\":-96.772614}},\"location\":{\"address\":\"510 Center Ave\",\"census_block\":\"270270203002006\",\"country\":\"US\",\"cross_street\":\"\",\"dma\":\"Fargo-Valley City\",\"formatted_address\":\"510 Center Ave, Moorhead, MN 56560\",\"locality\":\"Moorhead\",\"postcode\":\"56560\",\"region\":\"MN\"},\"name\":\"Moorhead Center Mall\"}},{\"type\":\"place\",\"text\":{\"primary\":\"West Acres Mall\",\"secondary\":\"3902 13th Ave S, Fargo, ND 58103\",\"highlight\":[{\"start\":11,\"length\":4}]},\"link\":\"/v3/places/4eb99ee32c5b2a8b4c342376\",\"place\":{\"fsq_id\":\"4eb99ee32c5b2a8b4c342376\",\"categories\":[{\"id\":17114,\"name\":\"Shopping Mall\",\"icon\":{\"prefix\":\"https://ss3.4sqi.net/img/categories_v2/shops/mall_\",\"suffix\":\".png\"}}],\"distance\":4678,\"geocodes\":{\"main\":{\"latitude\":46.859473,\"longitude\":-96.846533},\"roof\":{\"latitude\":46.859473,\"longitude\":-96.846533}},\"location\":{\"address\":\"3902 13th Ave S\",\"census_block\":\"380170101063003\",\"country\":\"US\",\"cross_street\":\"\",\"dma\":\"Fargo-Valley City\",\"formatted_address\":\"3902 13th Ave S, Fargo, ND 58103\",\"locality\":\"Fargo\",\"postcode\":\"58103\",\"region\":\"ND\"},\"name\":\"West Acres Mall\"}},{\"type\":\"place\",\"text\":{\"primary\":\"Malloy Electric\",\"secondary\":\"3207 Main Ave, Fargo, ND 58103\",\"highlight\":[{\"start\":0,\"length\":4}]},\"link\":\"/v3/places/809dca001e18012f487f54d8\",\"place\":{\"fsq_id\":\"809dca001e18012f487f54d8\",\"categories\":[{\"id\":11000,\"name\":\"Business and Professional Services\",\"icon\":{\"prefix\":\"https://ss3.4sqi.net/img/categories_v2/building/default_\",\"suffix\":\".png\"}}],\"distance\":3137,\"geocodes\":{\"main\":{\"latitude\":46.876638,\"longitude\":-96.831251},\"roof\":{\"latitude\":46.876638,\"longitude\":-96.831251}},\"location\":{\"address\":\"3207 Main Ave\",\"address_extended\":\"Ste C\",\"census_block\":\"380170006011001\",\"country\":\"US\",\"dma\":\"Fargo-Valley City\",\"formatted_address\":\"3207 Main Ave, Fargo, ND 58103\",\"locality\":\"Fargo\",\"postcode\":\"58103\",\"region\":\"ND\"},\"name\":\"Malloy Electric\"}},{\"type\":\"place\",\"text\":{\"primary\":\"Crafters Mall Crafts by Hand\",\"secondary\":\"4101 13th Ave S, Fargo, ND 58103\",\"highlight\":[{\"start\":9,\"length\":4}]},\"link\":\"/v3/places/52abde74b59b45275f15b587\",\"place\":{\"fsq_id\":\"52abde74b59b45275f15b587\",\"categories\":[{\"id\":17000,\"name\":\"Retail\",\"icon\":{\"prefix\":\"https://ss3.4sqi.net/img/categories_v2/shops/default_\",\"suffix\":\".png\"}}],\"distance\":1525,\"geocodes\":{\"main\":{\"latitude\":46.869,\"longitude\":-96.807403},\"roof\":{\"latitude\":46.869,\"longitude\":-96.807403}},\"location\":{\"address\":\"4101 13th Ave S\",\"census_block\":\"380170008021004\",\"country\":\"US\",\"dma\":\"Fargo-Valley City\",\"formatted_address\":\"4101 13th Ave S, Fargo, ND 58103\",\"locality\":\"Fargo\",\"postcode\":\"58103\",\"region\":\"ND\"},\"name\":\"Crafters Mall Crafts by Hand\"}},{\"type\":\"place\",\"text\":{\"primary\":\"Shirt Shop In The Mall\",\"secondary\":\"3902 13th Ave S, Fargo, ND 58103\",\"highlight\":[{\"start\":18,\"length\":4}]},\"link\":\"/v3/places/fed55cde37744eca567612ca\",\"place\":{\"fsq_id\":\"fed55cde37744eca567612ca\",\"categories\":[{\"id\":17038,\"name\":\"Textiles Store\",\"icon\":{\"prefix\":\"https://ss3.4sqi.net/img/categories_v2/shops/default_\",\"suffix\":\".png\"}}],\"distance\":4626,\"geocodes\":{\"main\":{\"latitude\":46.859537,\"longitude\":-96.846008},\"roof\":{\"latitude\":46.859537,\"longitude\":-96.846008}},\"location\":{\"address\":\"3902 13th Ave S\",\"census_block\":\"380170101063003\",\"country\":\"US\",\"dma\":\"Fargo-Valley City\",\"formatted_address\":\"3902 13th Ave S, Fargo, ND 58103\",\"locality\":\"Fargo\",\"postcode\":\"58103\",\"region\":\"ND\"},\"name\":\"Shirt Shop In The Mall\"}},{\"type\":\"place\",\"text\":{\"primary\":\"Super 8 Fargo/I-29/West Acres Mall\",\"secondary\":\"3518 Interstate Blvd S, Fargo, ND 58103\",\"highlight\":[{\"start\":30,\"length\":4}]},\"link\":\"/v3/places/4b390728f964a5208f5425e3\",\"place\":{\"fsq_id\":\"4b390728f964a5208f5425e3\",\"categories\":[{\"id\":19014,\"name\":\"Hotel\",\"icon\":{\"prefix\":\"https://ss3.4sqi.net/img/categories_v2/travel/hotel_\",\"suffix\":\".png\"}}],\"distance\":4013,\"geocodes\":{\"main\":{\"latitude\":46.863902,\"longitude\":-96.839513},\"roof\":{\"latitude\":46.863902,\"longitude\":-96.839513}},\"location\":{\"address\":\"3518 Interstate Blvd S\",\"census_block\":\"380170006011044\",\"country\":\"US\",\"cross_street\":\"\",\"dma\":\"Fargo-Valley City\",\"formatted_address\":\"3518 Interstate Blvd S, Fargo, ND 58103\",\"locality\":\"Fargo\",\"postcode\":\"58103\",\"region\":\"ND\"},\"name\":\"Super 8 Fargo/I-29/West Acres Mall\"}},{\"type\":\"search\",\"text\":{\"primary\":\"Malls\",\"secondary\":\"Search for malls\",\"highlight\":[{\"start\":0,\"length\":4}]},\"link\":\"/v3/places/search?ll=46.87581%2C-96.78996&radius=4000&query=malls\",\"search\":{\"query\":\"malls\"}},{\"type\":\"place\",\"text\":{\"primary\":\"West Acres Regional Shopping Center - Stores and Services, Shirt Shop in The Mall\",\"secondary\":\"3902 13th Ave S, Fargo, ND 58103\",\"highlight\":[{\"start\":77,\"length\":4}]},\"link\":\"/v3/places/a2f0c342e40e4a48e5e3511a\",\"place\":{\"fsq_id\":\"a2f0c342e40e4a48e5e3511a\",\"categories\":[{\"id\":17000,\"name\":\"Retail\",\"icon\":{\"prefix\":\"https://ss3.4sqi.net/img/categories_v2/shops/default_\",\"suffix\":\".png\"}}],\"distance\":4524,\"geocodes\":{\"main\":{\"latitude\":46.860787,\"longitude\":-96.845307}},\"location\":{\"address\":\"3902 13th Ave S\",\"census_block\":\"380170101063003\",\"country\":\"US\",\"dma\":\"Fargo-Valley City\",\"formatted_address\":\"3902 13th Ave S, Fargo, ND 58103\",\"locality\":\"Fargo\",\"postcode\":\"58103\",\"region\":\"ND\"},\"name\":\"West Acres Regional Shopping Center - Stores and Services, Shirt Shop in The Mall\"}}]}\n"
     ]
    }
   ],
   "source": [
    "response = requests.request(\"GET\", url, headers=headers)\n",
    "\n",
    "print(response.text)"
   ]
  },
  {
   "cell_type": "code",
   "execution_count": 32,
   "metadata": {},
   "outputs": [],
   "source": [
    "json_object = json.dumps(response.json(), indent=4)\n",
    " \n",
    "with open(\"4Ssqsample.json\", \"w\") as outfile:\n",
    "    outfile.write(json_object)"
   ]
  },
  {
   "cell_type": "code",
   "execution_count": 33,
   "metadata": {},
   "outputs": [],
   "source": [
    "with open('4Ssqsample.json', 'r') as f:\n",
    "  data = json.load(f)"
   ]
  },
  {
   "cell_type": "code",
   "execution_count": 34,
   "metadata": {},
   "outputs": [
    {
     "data": {
      "text/html": [
       "<div>\n",
       "<style scoped>\n",
       "    .dataframe tbody tr th:only-of-type {\n",
       "        vertical-align: middle;\n",
       "    }\n",
       "\n",
       "    .dataframe tbody tr th {\n",
       "        vertical-align: top;\n",
       "    }\n",
       "\n",
       "    .dataframe thead th {\n",
       "        text-align: right;\n",
       "    }\n",
       "</style>\n",
       "<table border=\"1\" class=\"dataframe\">\n",
       "  <thead>\n",
       "    <tr style=\"text-align: right;\">\n",
       "      <th></th>\n",
       "      <th>results</th>\n",
       "    </tr>\n",
       "  </thead>\n",
       "  <tbody>\n",
       "    <tr>\n",
       "      <th>0</th>\n",
       "      <td>[{'type': 'place', 'text': {'primary': 'West A...</td>\n",
       "    </tr>\n",
       "  </tbody>\n",
       "</table>\n",
       "</div>"
      ],
      "text/plain": [
       "                                             results\n",
       "0  [{'type': 'place', 'text': {'primary': 'West A..."
      ]
     },
     "execution_count": 34,
     "metadata": {},
     "output_type": "execute_result"
    }
   ],
   "source": [
    "pd.json_normalize(data)"
   ]
  },
  {
   "cell_type": "code",
   "execution_count": 35,
   "metadata": {},
   "outputs": [
    {
     "data": {
      "text/plain": [
       "dict_keys(['results'])"
      ]
     },
     "execution_count": 35,
     "metadata": {},
     "output_type": "execute_result"
    }
   ],
   "source": [
    "data.keys()"
   ]
  },
  {
   "cell_type": "code",
   "execution_count": 36,
   "metadata": {},
   "outputs": [
    {
     "name": "stdout",
     "output_type": "stream",
     "text": [
      "[{'type': 'place', 'text': {'primary': 'West Acres Mall', 'secondary': '3902 13th Ave S, Fargo, ND 58103', 'highlight': [{'start': 11, 'length': 4}]}, 'link': '/v3/places/4b37e911f964a5206d4825e3', 'place': {'fsq_id': '4b37e911f964a5206d4825e3', 'categories': [{'id': 17114, 'name': 'Shopping Mall', 'icon': {'prefix': 'https://ss3.4sqi.net/img/categories_v2/shops/mall_', 'suffix': '.png'}}], 'distance': 4844, 'geocodes': {'main': {'latitude': 46.859622, 'longitude': -96.84616}, 'roof': {'latitude': 46.859622, 'longitude': -96.84616}}, 'location': {'address': '3902 13th Ave S', 'address_extended': 'Ste 3717', 'census_block': '380170101063003', 'country': 'US', 'cross_street': 'btwn 38th & 42nd St. S', 'dma': 'Fargo-Valley City', 'formatted_address': '3902 13th Ave S (btwn 38th & 42nd St. S), Fargo, ND 58103', 'locality': 'Fargo', 'postcode': '58103', 'region': 'ND'}, 'name': 'West Acres Mall'}}, {'type': 'place', 'text': {'primary': 'Center Mall North', 'secondary': '10 4th St N, Moorhead, MN 56560', 'highlight': [{'start': 7, 'length': 4}]}, 'link': '/v3/places/8bc12391097d4cdbd08fd602', 'place': {'fsq_id': '8bc12391097d4cdbd08fd602', 'categories': [{'id': 17115, 'name': 'Shopping Plaza', 'icon': {'prefix': 'https://ss3.4sqi.net/img/categories_v2/shops/mall_', 'suffix': '.png'}}], 'distance': 1082, 'geocodes': {'main': {'latitude': 46.876805, 'longitude': -96.775784}, 'roof': {'latitude': 46.876805, 'longitude': -96.775784}}, 'location': {'address': '10 4th St N', 'census_block': '270270203002004', 'country': 'US', 'dma': 'Fargo-Valley City', 'formatted_address': '10 4th St N, Moorhead, MN 56560', 'locality': 'Moorhead', 'postcode': '56560', 'region': 'MN'}, 'name': 'Center Mall North'}}, {'type': 'place', 'text': {'primary': 'Moorhead Center Mall', 'secondary': '510 Center Ave, Moorhead, MN 56560', 'highlight': [{'start': 16, 'length': 4}]}, 'link': '/v3/places/4b68d814f964a520be8f2be3', 'place': {'fsq_id': '4b68d814f964a520be8f2be3', 'categories': [{'id': 17114, 'name': 'Shopping Mall', 'icon': {'prefix': 'https://ss3.4sqi.net/img/categories_v2/shops/mall_', 'suffix': '.png'}}], 'distance': 1278, 'geocodes': {'main': {'latitude': 46.875742, 'longitude': -96.772614}, 'roof': {'latitude': 46.875742, 'longitude': -96.772614}}, 'location': {'address': '510 Center Ave', 'census_block': '270270203002006', 'country': 'US', 'cross_street': '', 'dma': 'Fargo-Valley City', 'formatted_address': '510 Center Ave, Moorhead, MN 56560', 'locality': 'Moorhead', 'postcode': '56560', 'region': 'MN'}, 'name': 'Moorhead Center Mall'}}, {'type': 'place', 'text': {'primary': 'West Acres Mall', 'secondary': '3902 13th Ave S, Fargo, ND 58103', 'highlight': [{'start': 11, 'length': 4}]}, 'link': '/v3/places/4eb99ee32c5b2a8b4c342376', 'place': {'fsq_id': '4eb99ee32c5b2a8b4c342376', 'categories': [{'id': 17114, 'name': 'Shopping Mall', 'icon': {'prefix': 'https://ss3.4sqi.net/img/categories_v2/shops/mall_', 'suffix': '.png'}}], 'distance': 4678, 'geocodes': {'main': {'latitude': 46.859473, 'longitude': -96.846533}, 'roof': {'latitude': 46.859473, 'longitude': -96.846533}}, 'location': {'address': '3902 13th Ave S', 'census_block': '380170101063003', 'country': 'US', 'cross_street': '', 'dma': 'Fargo-Valley City', 'formatted_address': '3902 13th Ave S, Fargo, ND 58103', 'locality': 'Fargo', 'postcode': '58103', 'region': 'ND'}, 'name': 'West Acres Mall'}}, {'type': 'place', 'text': {'primary': 'Malloy Electric', 'secondary': '3207 Main Ave, Fargo, ND 58103', 'highlight': [{'start': 0, 'length': 4}]}, 'link': '/v3/places/809dca001e18012f487f54d8', 'place': {'fsq_id': '809dca001e18012f487f54d8', 'categories': [{'id': 11000, 'name': 'Business and Professional Services', 'icon': {'prefix': 'https://ss3.4sqi.net/img/categories_v2/building/default_', 'suffix': '.png'}}], 'distance': 3137, 'geocodes': {'main': {'latitude': 46.876638, 'longitude': -96.831251}, 'roof': {'latitude': 46.876638, 'longitude': -96.831251}}, 'location': {'address': '3207 Main Ave', 'address_extended': 'Ste C', 'census_block': '380170006011001', 'country': 'US', 'dma': 'Fargo-Valley City', 'formatted_address': '3207 Main Ave, Fargo, ND 58103', 'locality': 'Fargo', 'postcode': '58103', 'region': 'ND'}, 'name': 'Malloy Electric'}}, {'type': 'place', 'text': {'primary': 'Crafters Mall Crafts by Hand', 'secondary': '4101 13th Ave S, Fargo, ND 58103', 'highlight': [{'start': 9, 'length': 4}]}, 'link': '/v3/places/52abde74b59b45275f15b587', 'place': {'fsq_id': '52abde74b59b45275f15b587', 'categories': [{'id': 17000, 'name': 'Retail', 'icon': {'prefix': 'https://ss3.4sqi.net/img/categories_v2/shops/default_', 'suffix': '.png'}}], 'distance': 1525, 'geocodes': {'main': {'latitude': 46.869, 'longitude': -96.807403}, 'roof': {'latitude': 46.869, 'longitude': -96.807403}}, 'location': {'address': '4101 13th Ave S', 'census_block': '380170008021004', 'country': 'US', 'dma': 'Fargo-Valley City', 'formatted_address': '4101 13th Ave S, Fargo, ND 58103', 'locality': 'Fargo', 'postcode': '58103', 'region': 'ND'}, 'name': 'Crafters Mall Crafts by Hand'}}, {'type': 'place', 'text': {'primary': 'Shirt Shop In The Mall', 'secondary': '3902 13th Ave S, Fargo, ND 58103', 'highlight': [{'start': 18, 'length': 4}]}, 'link': '/v3/places/fed55cde37744eca567612ca', 'place': {'fsq_id': 'fed55cde37744eca567612ca', 'categories': [{'id': 17038, 'name': 'Textiles Store', 'icon': {'prefix': 'https://ss3.4sqi.net/img/categories_v2/shops/default_', 'suffix': '.png'}}], 'distance': 4626, 'geocodes': {'main': {'latitude': 46.859537, 'longitude': -96.846008}, 'roof': {'latitude': 46.859537, 'longitude': -96.846008}}, 'location': {'address': '3902 13th Ave S', 'census_block': '380170101063003', 'country': 'US', 'dma': 'Fargo-Valley City', 'formatted_address': '3902 13th Ave S, Fargo, ND 58103', 'locality': 'Fargo', 'postcode': '58103', 'region': 'ND'}, 'name': 'Shirt Shop In The Mall'}}, {'type': 'place', 'text': {'primary': 'Super 8 Fargo/I-29/West Acres Mall', 'secondary': '3518 Interstate Blvd S, Fargo, ND 58103', 'highlight': [{'start': 30, 'length': 4}]}, 'link': '/v3/places/4b390728f964a5208f5425e3', 'place': {'fsq_id': '4b390728f964a5208f5425e3', 'categories': [{'id': 19014, 'name': 'Hotel', 'icon': {'prefix': 'https://ss3.4sqi.net/img/categories_v2/travel/hotel_', 'suffix': '.png'}}], 'distance': 4013, 'geocodes': {'main': {'latitude': 46.863902, 'longitude': -96.839513}, 'roof': {'latitude': 46.863902, 'longitude': -96.839513}}, 'location': {'address': '3518 Interstate Blvd S', 'census_block': '380170006011044', 'country': 'US', 'cross_street': '', 'dma': 'Fargo-Valley City', 'formatted_address': '3518 Interstate Blvd S, Fargo, ND 58103', 'locality': 'Fargo', 'postcode': '58103', 'region': 'ND'}, 'name': 'Super 8 Fargo/I-29/West Acres Mall'}}, {'type': 'search', 'text': {'primary': 'Malls', 'secondary': 'Search for malls', 'highlight': [{'start': 0, 'length': 4}]}, 'link': '/v3/places/search?ll=46.87581%2C-96.78996&radius=4000&query=malls', 'search': {'query': 'malls'}}, {'type': 'place', 'text': {'primary': 'West Acres Regional Shopping Center - Stores and Services, Shirt Shop in The Mall', 'secondary': '3902 13th Ave S, Fargo, ND 58103', 'highlight': [{'start': 77, 'length': 4}]}, 'link': '/v3/places/a2f0c342e40e4a48e5e3511a', 'place': {'fsq_id': 'a2f0c342e40e4a48e5e3511a', 'categories': [{'id': 17000, 'name': 'Retail', 'icon': {'prefix': 'https://ss3.4sqi.net/img/categories_v2/shops/default_', 'suffix': '.png'}}], 'distance': 4524, 'geocodes': {'main': {'latitude': 46.860787, 'longitude': -96.845307}}, 'location': {'address': '3902 13th Ave S', 'census_block': '380170101063003', 'country': 'US', 'dma': 'Fargo-Valley City', 'formatted_address': '3902 13th Ave S, Fargo, ND 58103', 'locality': 'Fargo', 'postcode': '58103', 'region': 'ND'}, 'name': 'West Acres Regional Shopping Center - Stores and Services, Shirt Shop in The Mall'}}]\n"
     ]
    }
   ],
   "source": [
    "data1 = data['results']\n",
    "print(data1)"
   ]
  },
  {
   "cell_type": "code",
   "execution_count": 37,
   "metadata": {},
   "outputs": [
    {
     "name": "stdout",
     "output_type": "stream",
     "text": [
      "{'type': 'place', 'text': {'primary': 'West Acres Mall', 'secondary': '3902 13th Ave S, Fargo, ND 58103', 'highlight': [{'start': 11, 'length': 4}]}, 'link': '/v3/places/4b37e911f964a5206d4825e3', 'place': {'fsq_id': '4b37e911f964a5206d4825e3', 'categories': [{'id': 17114, 'name': 'Shopping Mall', 'icon': {'prefix': 'https://ss3.4sqi.net/img/categories_v2/shops/mall_', 'suffix': '.png'}}], 'distance': 4844, 'geocodes': {'main': {'latitude': 46.859622, 'longitude': -96.84616}, 'roof': {'latitude': 46.859622, 'longitude': -96.84616}}, 'location': {'address': '3902 13th Ave S', 'address_extended': 'Ste 3717', 'census_block': '380170101063003', 'country': 'US', 'cross_street': 'btwn 38th & 42nd St. S', 'dma': 'Fargo-Valley City', 'formatted_address': '3902 13th Ave S (btwn 38th & 42nd St. S), Fargo, ND 58103', 'locality': 'Fargo', 'postcode': '58103', 'region': 'ND'}, 'name': 'West Acres Mall'}}\n"
     ]
    }
   ],
   "source": [
    "data2 = data1[0]\n",
    "print(data2)"
   ]
  },
  {
   "cell_type": "code",
   "execution_count": 38,
   "metadata": {},
   "outputs": [
    {
     "data": {
      "text/plain": [
       "{'primary': 'West Acres Mall',\n",
       " 'secondary': '3902 13th Ave S, Fargo, ND 58103',\n",
       " 'highlight': [{'start': 11, 'length': 4}]}"
      ]
     },
     "execution_count": 38,
     "metadata": {},
     "output_type": "execute_result"
    }
   ],
   "source": [
    "data3 = data2['text']\n",
    "data3"
   ]
  },
  {
   "cell_type": "code",
   "execution_count": 39,
   "metadata": {},
   "outputs": [
    {
     "data": {
      "text/html": [
       "<div>\n",
       "<style scoped>\n",
       "    .dataframe tbody tr th:only-of-type {\n",
       "        vertical-align: middle;\n",
       "    }\n",
       "\n",
       "    .dataframe tbody tr th {\n",
       "        vertical-align: top;\n",
       "    }\n",
       "\n",
       "    .dataframe thead th {\n",
       "        text-align: right;\n",
       "    }\n",
       "</style>\n",
       "<table border=\"1\" class=\"dataframe\">\n",
       "  <thead>\n",
       "    <tr style=\"text-align: right;\">\n",
       "      <th></th>\n",
       "      <th>primary</th>\n",
       "      <th>secondary</th>\n",
       "      <th>highlight</th>\n",
       "    </tr>\n",
       "  </thead>\n",
       "  <tbody>\n",
       "    <tr>\n",
       "      <th>0</th>\n",
       "      <td>West Acres Mall</td>\n",
       "      <td>3902 13th Ave S, Fargo, ND 58103</td>\n",
       "      <td>[{'start': 11, 'length': 4}]</td>\n",
       "    </tr>\n",
       "  </tbody>\n",
       "</table>\n",
       "</div>"
      ],
      "text/plain": [
       "           primary                         secondary  \\\n",
       "0  West Acres Mall  3902 13th Ave S, Fargo, ND 58103   \n",
       "\n",
       "                      highlight  \n",
       "0  [{'start': 11, 'length': 4}]  "
      ]
     },
     "execution_count": 39,
     "metadata": {},
     "output_type": "execute_result"
    }
   ],
   "source": [
    "pd.json_normalize(data3)"
   ]
  },
  {
   "cell_type": "code",
   "execution_count": 40,
   "metadata": {},
   "outputs": [],
   "source": [
    "df = pd.DataFrame(data3)\n"
   ]
  },
  {
   "cell_type": "code",
   "execution_count": 41,
   "metadata": {},
   "outputs": [
    {
     "data": {
      "text/html": [
       "<div>\n",
       "<style scoped>\n",
       "    .dataframe tbody tr th:only-of-type {\n",
       "        vertical-align: middle;\n",
       "    }\n",
       "\n",
       "    .dataframe tbody tr th {\n",
       "        vertical-align: top;\n",
       "    }\n",
       "\n",
       "    .dataframe thead th {\n",
       "        text-align: right;\n",
       "    }\n",
       "</style>\n",
       "<table border=\"1\" class=\"dataframe\">\n",
       "  <thead>\n",
       "    <tr style=\"text-align: right;\">\n",
       "      <th></th>\n",
       "      <th>primary</th>\n",
       "    </tr>\n",
       "  </thead>\n",
       "  <tbody>\n",
       "    <tr>\n",
       "      <th>0</th>\n",
       "      <td>West Acres Mall</td>\n",
       "    </tr>\n",
       "  </tbody>\n",
       "</table>\n",
       "</div>"
      ],
      "text/plain": [
       "           primary\n",
       "0  West Acres Mall"
      ]
     },
     "execution_count": 41,
     "metadata": {},
     "output_type": "execute_result"
    }
   ],
   "source": [
    "S4_Hall = df.filter(['primary'])\n",
    "S4_Hall"
   ]
  },
  {
   "cell_type": "code",
   "execution_count": 42,
   "metadata": {},
   "outputs": [],
   "source": [
    "S4_Hall.to_csv('4SHall.csv')"
   ]
  }
 ],
 "metadata": {
  "kernelspec": {
   "display_name": "TheOne",
   "language": "python",
   "name": "theone"
  },
  "language_info": {
   "codemirror_mode": {
    "name": "ipython",
    "version": 3
   },
   "file_extension": ".py",
   "mimetype": "text/x-python",
   "name": "python",
   "nbconvert_exporter": "python",
   "pygments_lexer": "ipython3",
   "version": "3.9.7"
  },
  "orig_nbformat": 4
 },
 "nbformat": 4,
 "nbformat_minor": 2
}
