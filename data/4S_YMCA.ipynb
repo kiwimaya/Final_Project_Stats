{
 "cells": [
  {
   "cell_type": "code",
   "execution_count": 61,
   "metadata": {},
   "outputs": [],
   "source": [
    "import requests\n",
    "import os\n",
    "import json\n",
    "import pandas as pd"
   ]
  },
  {
   "cell_type": "code",
   "execution_count": 62,
   "metadata": {},
   "outputs": [],
   "source": [
    "api_key = os.environ[\"4sq\"]"
   ]
  },
  {
   "cell_type": "code",
   "execution_count": 63,
   "metadata": {},
   "outputs": [],
   "source": [
    "url= 'https://api.foursquare.com/v3/autocomplete?query=Mall&ll=46.8731%2C-96.78644&radius=4000'"
   ]
  },
  {
   "cell_type": "code",
   "execution_count": 64,
   "metadata": {},
   "outputs": [],
   "source": [
    "headers = {\n",
    "    \"Accept\": \"application/json\",\n",
    "    \"Authorization\": api_key\n",
    "}"
   ]
  },
  {
   "cell_type": "code",
   "execution_count": 65,
   "metadata": {},
   "outputs": [],
   "source": [
    "###Do not use\n",
    "###url = \"https://api.foursquare.com/v3/places/search\""
   ]
  },
  {
   "cell_type": "code",
   "execution_count": 66,
   "metadata": {},
   "outputs": [
    {
     "ename": "IndentationError",
     "evalue": "unexpected indent (3279135499.py, line 3)",
     "output_type": "error",
     "traceback": [
      "\u001b[1;36m  Cell \u001b[1;32mIn[66], line 3\u001b[1;36m\u001b[0m\n\u001b[1;33m    \"query\": \"Shopping Mall\",\u001b[0m\n\u001b[1;37m    ^\u001b[0m\n\u001b[1;31mIndentationError\u001b[0m\u001b[1;31m:\u001b[0m unexpected indent\n"
     ]
    }
   ],
   "source": [
    "###Do not use \n",
    "###params = {\n",
    "  \t\"query\": \"Shopping Mall\",\n",
    "  \t\"ll\": \"46.87310,-96.78644\",\n",
    "  \t\"open_now\": \"true\",\n",
    "  \t\"sort\":\"DISTANCE\"\n",
    "}\n",
    "\n",
    "##headers = {\n",
    "    \"Accept\": \"application/json\",\n",
    "    \"Authorization\": api_key\n",
    "}"
   ]
  },
  {
   "cell_type": "code",
   "execution_count": 71,
   "metadata": {},
   "outputs": [
    {
     "name": "stdout",
     "output_type": "stream",
     "text": [
      "{\"results\":[{\"type\":\"place\",\"text\":{\"primary\":\"Center Mall North\",\"secondary\":\"10 4th St N, Moorhead, MN 56560\",\"highlight\":[{\"start\":7,\"length\":4}]},\"link\":\"/v3/places/8bc12391097d4cdbd08fd602\",\"place\":{\"fsq_id\":\"8bc12391097d4cdbd08fd602\",\"categories\":[{\"id\":17115,\"name\":\"Shopping Plaza\",\"icon\":{\"prefix\":\"https://ss3.4sqi.net/img/categories_v2/shops/mall_\",\"suffix\":\".png\"}}],\"distance\":908,\"geocodes\":{\"main\":{\"latitude\":46.876805,\"longitude\":-96.775784},\"roof\":{\"latitude\":46.876805,\"longitude\":-96.775784}},\"location\":{\"address\":\"10 4th St N\",\"census_block\":\"270270203002004\",\"country\":\"US\",\"dma\":\"Fargo-Valley City\",\"formatted_address\":\"10 4th St N, Moorhead, MN 56560\",\"locality\":\"Moorhead\",\"postcode\":\"56560\",\"region\":\"MN\"},\"name\":\"Center Mall North\"}},{\"type\":\"place\",\"text\":{\"primary\":\"Malloy Electric\",\"secondary\":\"3207 Main Ave, Fargo, ND 58103\",\"highlight\":[{\"start\":0,\"length\":4}]},\"link\":\"/v3/places/809dca001e18012f487f54d8\",\"place\":{\"fsq_id\":\"809dca001e18012f487f54d8\",\"categories\":[{\"id\":11000,\"name\":\"Business and Professional Services\",\"icon\":{\"prefix\":\"https://ss3.4sqi.net/img/categories_v2/building/default_\",\"suffix\":\".png\"}}],\"distance\":3426,\"geocodes\":{\"main\":{\"latitude\":46.876638,\"longitude\":-96.831251},\"roof\":{\"latitude\":46.876638,\"longitude\":-96.831251}},\"location\":{\"address\":\"3207 Main Ave\",\"address_extended\":\"Ste C\",\"census_block\":\"380170006011001\",\"country\":\"US\",\"dma\":\"Fargo-Valley City\",\"formatted_address\":\"3207 Main Ave, Fargo, ND 58103\",\"locality\":\"Fargo\",\"postcode\":\"58103\",\"region\":\"ND\"},\"name\":\"Malloy Electric\"}},{\"type\":\"place\",\"text\":{\"primary\":\"Moorhead Center Mall\",\"secondary\":\"510 Center Ave, Moorhead, MN 56560\",\"highlight\":[{\"start\":16,\"length\":4}]},\"link\":\"/v3/places/4b68d814f964a520be8f2be3\",\"place\":{\"fsq_id\":\"4b68d814f964a520be8f2be3\",\"categories\":[{\"id\":17114,\"name\":\"Shopping Mall\",\"icon\":{\"prefix\":\"https://ss3.4sqi.net/img/categories_v2/shops/mall_\",\"suffix\":\".png\"}}],\"distance\":1049,\"geocodes\":{\"main\":{\"latitude\":46.875742,\"longitude\":-96.772614},\"roof\":{\"latitude\":46.875742,\"longitude\":-96.772614}},\"location\":{\"address\":\"510 Center Ave\",\"census_block\":\"270270203002006\",\"country\":\"US\",\"cross_street\":\"\",\"dma\":\"Fargo-Valley City\",\"formatted_address\":\"510 Center Ave, Moorhead, MN 56560\",\"locality\":\"Moorhead\",\"postcode\":\"56560\",\"region\":\"MN\"},\"name\":\"Moorhead Center Mall\"}},{\"type\":\"search\",\"text\":{\"primary\":\"Malls\",\"secondary\":\"Search for malls\",\"highlight\":[{\"start\":0,\"length\":4}]},\"link\":\"/v3/places/search?ll=46.8731%2C-96.78644&radius=4000&query=malls\",\"search\":{\"query\":\"malls\"}},{\"type\":\"place\",\"text\":{\"primary\":\"Crafters Mall Crafts by Hand\",\"secondary\":\"4101 13th Ave S, Fargo, ND 58103\",\"highlight\":[{\"start\":9,\"length\":4}]},\"link\":\"/v3/places/52abde74b59b45275f15b587\",\"place\":{\"fsq_id\":\"52abde74b59b45275f15b587\",\"categories\":[{\"id\":17000,\"name\":\"Retail\",\"icon\":{\"prefix\":\"https://ss3.4sqi.net/img/categories_v2/shops/default_\",\"suffix\":\".png\"}}],\"distance\":1656,\"geocodes\":{\"main\":{\"latitude\":46.869,\"longitude\":-96.807403},\"roof\":{\"latitude\":46.869,\"longitude\":-96.807403}},\"location\":{\"address\":\"4101 13th Ave S\",\"census_block\":\"380170008021004\",\"country\":\"US\",\"dma\":\"Fargo-Valley City\",\"formatted_address\":\"4101 13th Ave S, Fargo, ND 58103\",\"locality\":\"Fargo\",\"postcode\":\"58103\",\"region\":\"ND\"},\"name\":\"Crafters Mall Crafts by Hand\"}},{\"type\":\"address\",\"text\":{\"primary\":\"1511 18th St Ofc MALL\",\"secondary\":\"Spirit Lake IA 51360\",\"highlight\":[{\"start\":17,\"length\":4}]},\"link\":\"/v3/address/US-5553415700000717cd3f-MALL\",\"address\":{\"address_id\":\"US-5553415700000717cd3f-MALL\"}},{\"type\":\"search\",\"text\":{\"primary\":\"Shopping Malls\",\"secondary\":\"Search Nearby\",\"highlight\":[{\"start\":9,\"length\":4}]},\"link\":\"/v3/places/search?ll=46.8731%2C-96.78644&radius=4000&categories=17114\",\"search\":{\"category\":{\"id\":17114,\"name\":\"Shopping Malls\"}}},{\"type\":\"address\",\"text\":{\"primary\":\"711 Louisiana St Ste MALL\",\"secondary\":\"Houston TX 77002\",\"highlight\":[{\"start\":21,\"length\":4}]},\"link\":\"/v3/address/US-5553415700000ce037b2-MALL\",\"address\":{\"address_id\":\"US-5553415700000ce037b2-MALL\"}},{\"type\":\"address\",\"text\":{\"primary\":\"1415 Louisiana St Ste MALL\",\"secondary\":\"Houston TX 77002\",\"highlight\":[{\"start\":22,\"length\":4}]},\"link\":\"/v3/address/US-5553415700000d680320-MALL\",\"address\":{\"address_id\":\"US-5553415700000d680320-MALL\"}},{\"type\":\"address\",\"text\":{\"primary\":\"49 E Broadway Frnt MALL\",\"secondary\":\"New York NY 10002\",\"highlight\":[{\"start\":19,\"length\":4}]},\"link\":\"/v3/address/US-5553415600000718f47d-MALL\",\"address\":{\"address_id\":\"US-5553415600000718f47d-MALL\"}}]}\n"
     ]
    }
   ],
   "source": [
    "response = requests.request(\"GET\", url, headers=headers)\n",
    "\n",
    "print(response.text)"
   ]
  },
  {
   "cell_type": "code",
   "execution_count": 72,
   "metadata": {},
   "outputs": [],
   "source": [
    "json_object = json.dumps(response.json(), indent=4)\n",
    " \n",
    "with open(\"4Ssqsample.json\", \"w\") as outfile:\n",
    "    outfile.write(json_object)"
   ]
  },
  {
   "cell_type": "code",
   "execution_count": 73,
   "metadata": {},
   "outputs": [],
   "source": [
    "with open('4Ssqsample.json', 'r') as f:\n",
    "  data = json.load(f)"
   ]
  },
  {
   "cell_type": "code",
   "execution_count": 74,
   "metadata": {},
   "outputs": [
    {
     "data": {
      "text/html": [
       "<div>\n",
       "<style scoped>\n",
       "    .dataframe tbody tr th:only-of-type {\n",
       "        vertical-align: middle;\n",
       "    }\n",
       "\n",
       "    .dataframe tbody tr th {\n",
       "        vertical-align: top;\n",
       "    }\n",
       "\n",
       "    .dataframe thead th {\n",
       "        text-align: right;\n",
       "    }\n",
       "</style>\n",
       "<table border=\"1\" class=\"dataframe\">\n",
       "  <thead>\n",
       "    <tr style=\"text-align: right;\">\n",
       "      <th></th>\n",
       "      <th>results</th>\n",
       "    </tr>\n",
       "  </thead>\n",
       "  <tbody>\n",
       "    <tr>\n",
       "      <th>0</th>\n",
       "      <td>[{'type': 'place', 'text': {'primary': 'Center...</td>\n",
       "    </tr>\n",
       "  </tbody>\n",
       "</table>\n",
       "</div>"
      ],
      "text/plain": [
       "                                             results\n",
       "0  [{'type': 'place', 'text': {'primary': 'Center..."
      ]
     },
     "execution_count": 74,
     "metadata": {},
     "output_type": "execute_result"
    }
   ],
   "source": [
    "pd.json_normalize(data)"
   ]
  },
  {
   "cell_type": "code",
   "execution_count": 75,
   "metadata": {},
   "outputs": [
    {
     "data": {
      "text/plain": [
       "dict_keys(['results'])"
      ]
     },
     "execution_count": 75,
     "metadata": {},
     "output_type": "execute_result"
    }
   ],
   "source": [
    "data.keys()"
   ]
  },
  {
   "cell_type": "code",
   "execution_count": 76,
   "metadata": {},
   "outputs": [
    {
     "name": "stdout",
     "output_type": "stream",
     "text": [
      "[{'type': 'place', 'text': {'primary': 'Center Mall North', 'secondary': '10 4th St N, Moorhead, MN 56560', 'highlight': [{'start': 7, 'length': 4}]}, 'link': '/v3/places/8bc12391097d4cdbd08fd602', 'place': {'fsq_id': '8bc12391097d4cdbd08fd602', 'categories': [{'id': 17115, 'name': 'Shopping Plaza', 'icon': {'prefix': 'https://ss3.4sqi.net/img/categories_v2/shops/mall_', 'suffix': '.png'}}], 'distance': 908, 'geocodes': {'main': {'latitude': 46.876805, 'longitude': -96.775784}, 'roof': {'latitude': 46.876805, 'longitude': -96.775784}}, 'location': {'address': '10 4th St N', 'census_block': '270270203002004', 'country': 'US', 'dma': 'Fargo-Valley City', 'formatted_address': '10 4th St N, Moorhead, MN 56560', 'locality': 'Moorhead', 'postcode': '56560', 'region': 'MN'}, 'name': 'Center Mall North'}}, {'type': 'place', 'text': {'primary': 'Malloy Electric', 'secondary': '3207 Main Ave, Fargo, ND 58103', 'highlight': [{'start': 0, 'length': 4}]}, 'link': '/v3/places/809dca001e18012f487f54d8', 'place': {'fsq_id': '809dca001e18012f487f54d8', 'categories': [{'id': 11000, 'name': 'Business and Professional Services', 'icon': {'prefix': 'https://ss3.4sqi.net/img/categories_v2/building/default_', 'suffix': '.png'}}], 'distance': 3426, 'geocodes': {'main': {'latitude': 46.876638, 'longitude': -96.831251}, 'roof': {'latitude': 46.876638, 'longitude': -96.831251}}, 'location': {'address': '3207 Main Ave', 'address_extended': 'Ste C', 'census_block': '380170006011001', 'country': 'US', 'dma': 'Fargo-Valley City', 'formatted_address': '3207 Main Ave, Fargo, ND 58103', 'locality': 'Fargo', 'postcode': '58103', 'region': 'ND'}, 'name': 'Malloy Electric'}}, {'type': 'place', 'text': {'primary': 'Moorhead Center Mall', 'secondary': '510 Center Ave, Moorhead, MN 56560', 'highlight': [{'start': 16, 'length': 4}]}, 'link': '/v3/places/4b68d814f964a520be8f2be3', 'place': {'fsq_id': '4b68d814f964a520be8f2be3', 'categories': [{'id': 17114, 'name': 'Shopping Mall', 'icon': {'prefix': 'https://ss3.4sqi.net/img/categories_v2/shops/mall_', 'suffix': '.png'}}], 'distance': 1049, 'geocodes': {'main': {'latitude': 46.875742, 'longitude': -96.772614}, 'roof': {'latitude': 46.875742, 'longitude': -96.772614}}, 'location': {'address': '510 Center Ave', 'census_block': '270270203002006', 'country': 'US', 'cross_street': '', 'dma': 'Fargo-Valley City', 'formatted_address': '510 Center Ave, Moorhead, MN 56560', 'locality': 'Moorhead', 'postcode': '56560', 'region': 'MN'}, 'name': 'Moorhead Center Mall'}}, {'type': 'search', 'text': {'primary': 'Malls', 'secondary': 'Search for malls', 'highlight': [{'start': 0, 'length': 4}]}, 'link': '/v3/places/search?ll=46.8731%2C-96.78644&radius=4000&query=malls', 'search': {'query': 'malls'}}, {'type': 'place', 'text': {'primary': 'Crafters Mall Crafts by Hand', 'secondary': '4101 13th Ave S, Fargo, ND 58103', 'highlight': [{'start': 9, 'length': 4}]}, 'link': '/v3/places/52abde74b59b45275f15b587', 'place': {'fsq_id': '52abde74b59b45275f15b587', 'categories': [{'id': 17000, 'name': 'Retail', 'icon': {'prefix': 'https://ss3.4sqi.net/img/categories_v2/shops/default_', 'suffix': '.png'}}], 'distance': 1656, 'geocodes': {'main': {'latitude': 46.869, 'longitude': -96.807403}, 'roof': {'latitude': 46.869, 'longitude': -96.807403}}, 'location': {'address': '4101 13th Ave S', 'census_block': '380170008021004', 'country': 'US', 'dma': 'Fargo-Valley City', 'formatted_address': '4101 13th Ave S, Fargo, ND 58103', 'locality': 'Fargo', 'postcode': '58103', 'region': 'ND'}, 'name': 'Crafters Mall Crafts by Hand'}}, {'type': 'address', 'text': {'primary': '1511 18th St Ofc MALL', 'secondary': 'Spirit Lake IA 51360', 'highlight': [{'start': 17, 'length': 4}]}, 'link': '/v3/address/US-5553415700000717cd3f-MALL', 'address': {'address_id': 'US-5553415700000717cd3f-MALL'}}, {'type': 'search', 'text': {'primary': 'Shopping Malls', 'secondary': 'Search Nearby', 'highlight': [{'start': 9, 'length': 4}]}, 'link': '/v3/places/search?ll=46.8731%2C-96.78644&radius=4000&categories=17114', 'search': {'category': {'id': 17114, 'name': 'Shopping Malls'}}}, {'type': 'address', 'text': {'primary': '711 Louisiana St Ste MALL', 'secondary': 'Houston TX 77002', 'highlight': [{'start': 21, 'length': 4}]}, 'link': '/v3/address/US-5553415700000ce037b2-MALL', 'address': {'address_id': 'US-5553415700000ce037b2-MALL'}}, {'type': 'address', 'text': {'primary': '1415 Louisiana St Ste MALL', 'secondary': 'Houston TX 77002', 'highlight': [{'start': 22, 'length': 4}]}, 'link': '/v3/address/US-5553415700000d680320-MALL', 'address': {'address_id': 'US-5553415700000d680320-MALL'}}, {'type': 'address', 'text': {'primary': '49 E Broadway Frnt MALL', 'secondary': 'New York NY 10002', 'highlight': [{'start': 19, 'length': 4}]}, 'link': '/v3/address/US-5553415600000718f47d-MALL', 'address': {'address_id': 'US-5553415600000718f47d-MALL'}}]\n"
     ]
    }
   ],
   "source": [
    "data1 = data['results']\n",
    "print(data1)"
   ]
  },
  {
   "cell_type": "code",
   "execution_count": 77,
   "metadata": {},
   "outputs": [
    {
     "name": "stdout",
     "output_type": "stream",
     "text": [
      "{'type': 'place', 'text': {'primary': 'Center Mall North', 'secondary': '10 4th St N, Moorhead, MN 56560', 'highlight': [{'start': 7, 'length': 4}]}, 'link': '/v3/places/8bc12391097d4cdbd08fd602', 'place': {'fsq_id': '8bc12391097d4cdbd08fd602', 'categories': [{'id': 17115, 'name': 'Shopping Plaza', 'icon': {'prefix': 'https://ss3.4sqi.net/img/categories_v2/shops/mall_', 'suffix': '.png'}}], 'distance': 908, 'geocodes': {'main': {'latitude': 46.876805, 'longitude': -96.775784}, 'roof': {'latitude': 46.876805, 'longitude': -96.775784}}, 'location': {'address': '10 4th St N', 'census_block': '270270203002004', 'country': 'US', 'dma': 'Fargo-Valley City', 'formatted_address': '10 4th St N, Moorhead, MN 56560', 'locality': 'Moorhead', 'postcode': '56560', 'region': 'MN'}, 'name': 'Center Mall North'}}\n"
     ]
    }
   ],
   "source": [
    "data2 = data1[0]\n",
    "print(data2)"
   ]
  },
  {
   "cell_type": "code",
   "execution_count": 78,
   "metadata": {},
   "outputs": [
    {
     "data": {
      "text/plain": [
       "{'primary': 'Center Mall North',\n",
       " 'secondary': '10 4th St N, Moorhead, MN 56560',\n",
       " 'highlight': [{'start': 7, 'length': 4}]}"
      ]
     },
     "execution_count": 78,
     "metadata": {},
     "output_type": "execute_result"
    }
   ],
   "source": [
    "data3 = data2['text']\n",
    "data3"
   ]
  },
  {
   "cell_type": "code",
   "execution_count": 79,
   "metadata": {},
   "outputs": [
    {
     "data": {
      "text/html": [
       "<div>\n",
       "<style scoped>\n",
       "    .dataframe tbody tr th:only-of-type {\n",
       "        vertical-align: middle;\n",
       "    }\n",
       "\n",
       "    .dataframe tbody tr th {\n",
       "        vertical-align: top;\n",
       "    }\n",
       "\n",
       "    .dataframe thead th {\n",
       "        text-align: right;\n",
       "    }\n",
       "</style>\n",
       "<table border=\"1\" class=\"dataframe\">\n",
       "  <thead>\n",
       "    <tr style=\"text-align: right;\">\n",
       "      <th></th>\n",
       "      <th>primary</th>\n",
       "      <th>secondary</th>\n",
       "      <th>highlight</th>\n",
       "    </tr>\n",
       "  </thead>\n",
       "  <tbody>\n",
       "    <tr>\n",
       "      <th>0</th>\n",
       "      <td>Center Mall North</td>\n",
       "      <td>10 4th St N, Moorhead, MN 56560</td>\n",
       "      <td>[{'start': 7, 'length': 4}]</td>\n",
       "    </tr>\n",
       "  </tbody>\n",
       "</table>\n",
       "</div>"
      ],
      "text/plain": [
       "             primary                        secondary  \\\n",
       "0  Center Mall North  10 4th St N, Moorhead, MN 56560   \n",
       "\n",
       "                     highlight  \n",
       "0  [{'start': 7, 'length': 4}]  "
      ]
     },
     "execution_count": 79,
     "metadata": {},
     "output_type": "execute_result"
    }
   ],
   "source": [
    "pd.json_normalize(data3)"
   ]
  },
  {
   "cell_type": "code",
   "execution_count": 80,
   "metadata": {},
   "outputs": [],
   "source": [
    "df = pd.DataFrame(data3)\n"
   ]
  },
  {
   "cell_type": "code",
   "execution_count": 81,
   "metadata": {},
   "outputs": [
    {
     "data": {
      "text/html": [
       "<div>\n",
       "<style scoped>\n",
       "    .dataframe tbody tr th:only-of-type {\n",
       "        vertical-align: middle;\n",
       "    }\n",
       "\n",
       "    .dataframe tbody tr th {\n",
       "        vertical-align: top;\n",
       "    }\n",
       "\n",
       "    .dataframe thead th {\n",
       "        text-align: right;\n",
       "    }\n",
       "</style>\n",
       "<table border=\"1\" class=\"dataframe\">\n",
       "  <thead>\n",
       "    <tr style=\"text-align: right;\">\n",
       "      <th></th>\n",
       "      <th>primary</th>\n",
       "    </tr>\n",
       "  </thead>\n",
       "  <tbody>\n",
       "    <tr>\n",
       "      <th>0</th>\n",
       "      <td>Center Mall North</td>\n",
       "    </tr>\n",
       "  </tbody>\n",
       "</table>\n",
       "</div>"
      ],
      "text/plain": [
       "             primary\n",
       "0  Center Mall North"
      ]
     },
     "execution_count": 81,
     "metadata": {},
     "output_type": "execute_result"
    }
   ],
   "source": [
    "S4_YMCA = df.filter(['primary'])\n",
    "S4_YMCA"
   ]
  },
  {
   "cell_type": "code",
   "execution_count": 82,
   "metadata": {},
   "outputs": [],
   "source": [
    "S4_YMCA.to_csv('4SYMCA.csv')"
   ]
  }
 ],
 "metadata": {
  "kernelspec": {
   "display_name": "TheOne",
   "language": "python",
   "name": "theone"
  },
  "language_info": {
   "codemirror_mode": {
    "name": "ipython",
    "version": 3
   },
   "file_extension": ".py",
   "mimetype": "text/x-python",
   "name": "python",
   "nbconvert_exporter": "python",
   "pygments_lexer": "ipython3",
   "version": "3.9.7"
  },
  "orig_nbformat": 4
 },
 "nbformat": 4,
 "nbformat_minor": 2
}
