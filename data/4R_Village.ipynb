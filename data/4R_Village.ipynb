{
 "cells": [
  {
   "cell_type": "code",
   "execution_count": 13,
   "metadata": {},
   "outputs": [],
   "source": [
    "import requests\n",
    "import os\n",
    "import json\n",
    "import pandas as pd"
   ]
  },
  {
   "cell_type": "code",
   "execution_count": 14,
   "metadata": {},
   "outputs": [],
   "source": [
    "api_key = os.environ[\"4sq\"]"
   ]
  },
  {
   "cell_type": "code",
   "execution_count": 15,
   "metadata": {},
   "outputs": [],
   "source": [
    "url= 'https://api.foursquare.com/v3/autocomplete?query=Restaurants&ll=46.90244%2C-96.79780&radius=4000'"
   ]
  },
  {
   "cell_type": "code",
   "execution_count": 16,
   "metadata": {},
   "outputs": [],
   "source": [
    "headers = {\n",
    "    \"Accept\": \"application/json\",\n",
    "    \"Authorization\": api_key\n",
    "}"
   ]
  },
  {
   "cell_type": "code",
   "execution_count": 17,
   "metadata": {},
   "outputs": [],
   "source": [
    "###url = \"https://api.foursquare.com/v3/places/search\""
   ]
  },
  {
   "cell_type": "code",
   "execution_count": 18,
   "metadata": {},
   "outputs": [
    {
     "ename": "IndentationError",
     "evalue": "unexpected indent (3018388774.py, line 2)",
     "output_type": "error",
     "traceback": [
      "\u001b[1;36m  Cell \u001b[1;32mIn[18], line 2\u001b[1;36m\u001b[0m\n\u001b[1;33m    \"query\": \"Restaurants\",\u001b[0m\n\u001b[1;37m    ^\u001b[0m\n\u001b[1;31mIndentationError\u001b[0m\u001b[1;31m:\u001b[0m unexpected indent\n"
     ]
    }
   ],
   "source": [
    "###params = {\n",
    "  \t\"query\": \"Restaurants\",\n",
    "\t\"ll\": \"46.90244,-96.79780\",\n",
    "  \t\"open_now\": \"true\",\n",
    "  \t\"sort\":\"DISTANCE\"\n",
    "}\n",
    "\n",
    "###headers = {\n",
    "    \"Accept\": \"application/json\",\n",
    "    \"Authorization\": api_key\n",
    "}"
   ]
  },
  {
   "cell_type": "code",
   "execution_count": null,
   "metadata": {},
   "outputs": [
    {
     "name": "stdout",
     "output_type": "stream",
     "text": [
      "{\"results\":[{\"fsq_id\":\"5dfd725cbd059b0008a1b244\",\"categories\":[{\"id\":13145,\"name\":\"Fast Food Restaurant\",\"icon\":{\"prefix\":\"https://ss3.4sqi.net/img/categories_v2/food/fastfood_\",\"suffix\":\".png\"}},{\"id\":13303,\"name\":\"Mexican Restaurant\",\"icon\":{\"prefix\":\"https://ss3.4sqi.net/img/categories_v2/food/mexican_\",\"suffix\":\".png\"}}],\"chains\":[{\"id\":\"ab4c58e0-d68a-012e-5619-003048cad9da\",\"name\":\"Chipotle Mexican Grill\"}],\"distance\":230,\"geocodes\":{\"main\":{\"latitude\":46.904312,\"longitude\":-96.796674},\"roof\":{\"latitude\":46.904312,\"longitude\":-96.796674}},\"link\":\"/v3/places/5dfd725cbd059b0008a1b244\",\"location\":{\"address\":\"1204 19th Ave N\",\"census_block\":\"380170003001001\",\"country\":\"US\",\"cross_street\":\"\",\"dma\":\"Fargo-Valley City\",\"formatted_address\":\"1204 19th Ave N, Fargo, ND 58102\",\"locality\":\"Fargo\",\"postcode\":\"58102\",\"region\":\"ND\"},\"name\":\"Chipotle Mexican Grill\",\"related_places\":{},\"timezone\":\"America/Chicago\"},{\"fsq_id\":\"5256d5f011d2d9278a7e41f2\",\"categories\":[{\"id\":13334,\"name\":\"Sandwich Spot\",\"icon\":{\"prefix\":\"https://ss3.4sqi.net/img/categories_v2/food/deli_\",\"suffix\":\".png\"}}],\"chains\":[],\"distance\":254,\"geocodes\":{\"main\":{\"latitude\":46.904163,\"longitude\":-96.795259},\"roof\":{\"latitude\":46.904163,\"longitude\":-96.795259}},\"link\":\"/v3/places/5256d5f011d2d9278a7e41f2\",\"location\":{\"address\":\"1100 19th Ave N\",\"address_extended\":\"Ste B\",\"census_block\":\"380170003001001\",\"country\":\"US\",\"cross_street\":\"\",\"dma\":\"Fargo-Valley City\",\"formatted_address\":\"1100 19th Ave N, Fargo, ND 58102\",\"locality\":\"Fargo\",\"postcode\":\"58102\",\"region\":\"ND\"},\"name\":\"Grand Junction Grilled Subs\",\"related_places\":{},\"timezone\":\"America/Chicago\"},{\"fsq_id\":\"4c47215d972c0f475ac22221\",\"categories\":[{\"id\":13064,\"name\":\"Pizzeria\",\"icon\":{\"prefix\":\"https://ss3.4sqi.net/img/categories_v2/food/pizza_\",\"suffix\":\".png\"}},{\"id\":13145,\"name\":\"Fast Food Restaurant\",\"icon\":{\"prefix\":\"https://ss3.4sqi.net/img/categories_v2/food/fastfood_\",\"suffix\":\".png\"}}],\"chains\":[{\"id\":\"ab4ab7c0-d68a-012e-5619-003048cad9da\",\"name\":\"Papa John's Pizza\"}],\"distance\":280,\"geocodes\":{\"main\":{\"latitude\":46.904184,\"longitude\":-96.794658},\"roof\":{\"latitude\":46.904184,\"longitude\":-96.794658}},\"link\":\"/v3/places/4c47215d972c0f475ac22221\",\"location\":{\"address\":\"1100 19th Ave N\",\"address_extended\":\"Ste N\",\"census_block\":\"380170003001001\",\"country\":\"US\",\"cross_street\":\"\",\"dma\":\"Fargo-Valley City\",\"formatted_address\":\"1100 19th Ave N, Fargo, ND 58102\",\"locality\":\"Fargo\",\"postcode\":\"58102\",\"region\":\"ND\"},\"name\":\"Papa John's Pizza\",\"related_places\":{},\"timezone\":\"America/Chicago\"},{\"fsq_id\":\"51476291e4b019af06b9d063\",\"categories\":[{\"id\":13307,\"name\":\"Tex-Mex Restaurant\",\"icon\":{\"prefix\":\"https://ss3.4sqi.net/img/categories_v2/food/mexican_\",\"suffix\":\".png\"}},{\"id\":13334,\"name\":\"Sandwich Spot\",\"icon\":{\"prefix\":\"https://ss3.4sqi.net/img/categories_v2/food/deli_\",\"suffix\":\".png\"}}],\"chains\":[],\"distance\":341,\"geocodes\":{\"main\":{\"latitude\":46.905011,\"longitude\":-96.795496},\"roof\":{\"latitude\":46.905011,\"longitude\":-96.795496}},\"link\":\"/v3/places/51476291e4b019af06b9d063\",\"location\":{\"address\":\"1105 19th Ave N\",\"census_block\":\"380170002042008\",\"country\":\"US\",\"cross_street\":\"\",\"dma\":\"Fargo-Valley City\",\"formatted_address\":\"1105 19th Ave N, Fargo, ND 58102\",\"locality\":\"Fargo\",\"postcode\":\"58102\",\"region\":\"ND\"},\"name\":\"Red Pepper\",\"related_places\":{},\"timezone\":\"America/Chicago\"},{\"fsq_id\":\"5dc45424c6fed1000825891b\",\"categories\":[{\"id\":13064,\"name\":\"Pizzeria\",\"icon\":{\"prefix\":\"https://ss3.4sqi.net/img/categories_v2/food/pizza_\",\"suffix\":\".png\"}},{\"id\":13145,\"name\":\"Fast Food Restaurant\",\"icon\":{\"prefix\":\"https://ss3.4sqi.net/img/categories_v2/food/fastfood_\",\"suffix\":\".png\"}}],\"chains\":[{\"id\":\"ab4ba130-d68a-012e-5619-003048cad9da\",\"name\":\"Little Caesars Pizza\"}],\"distance\":348,\"geocodes\":{\"main\":{\"latitude\":46.904057,\"longitude\":-96.793919},\"roof\":{\"latitude\":46.904057,\"longitude\":-96.793919}},\"link\":\"/v3/places/5dc45424c6fed1000825891b\",\"location\":{\"address\":\"1020 19th Ave N\",\"census_block\":\"380170003001001\",\"country\":\"US\",\"cross_street\":\"\",\"dma\":\"Fargo-Valley City\",\"formatted_address\":\"1020 19th Ave N, Fargo, ND 58102\",\"locality\":\"Fargo\",\"postcode\":\"58102\",\"region\":\"ND\"},\"name\":\"Little Caesars Pizza\",\"related_places\":{},\"timezone\":\"America/Chicago\"},{\"fsq_id\":\"4d41f0a9aed776eb349b6997\",\"categories\":[{\"id\":13064,\"name\":\"Pizzeria\",\"icon\":{\"prefix\":\"https://ss3.4sqi.net/img/categories_v2/food/pizza_\",\"suffix\":\".png\"}}],\"chains\":[{\"id\":\"ab4afc60-d68a-012e-5619-003048cad9da\",\"name\":\"Domino's Pizza\"}],\"distance\":364,\"geocodes\":{\"main\":{\"latitude\":46.905202,\"longitude\":-96.795454},\"roof\":{\"latitude\":46.905202,\"longitude\":-96.795454}},\"link\":\"/v3/places/4d41f0a9aed776eb349b6997\",\"location\":{\"address\":\"1109 19th Ave N\",\"census_block\":\"380170002042008\",\"country\":\"US\",\"dma\":\"Fargo-Valley City\",\"formatted_address\":\"1109 19th Ave N, Fargo, ND 58102\",\"locality\":\"Fargo\",\"postcode\":\"58102\",\"region\":\"ND\"},\"name\":\"Domino's Pizza\",\"related_places\":{},\"timezone\":\"America/Chicago\"},{\"fsq_id\":\"4bd1d75477b29c745c5e8d82\",\"categories\":[{\"id\":13039,\"name\":\"Deli\",\"icon\":{\"prefix\":\"https://ss3.4sqi.net/img/categories_v2/food/deli_\",\"suffix\":\".png\"}},{\"id\":13145,\"name\":\"Fast Food Restaurant\",\"icon\":{\"prefix\":\"https://ss3.4sqi.net/img/categories_v2/food/fastfood_\",\"suffix\":\".png\"}}],\"chains\":[{\"id\":\"ab4bee40-d68a-012e-5619-003048cad9da\",\"name\":\"Subway\"}],\"distance\":391,\"geocodes\":{\"drop_off\":{\"latitude\":46.905106,\"longitude\":-96.801122},\"front_door\":{\"latitude\":46.905076,\"longitude\":-96.801022},\"main\":{\"latitude\":46.905076,\"longitude\":-96.801022},\"roof\":{\"latitude\":46.905141,\"longitude\":-96.801091}},\"link\":\"/v3/places/4bd1d75477b29c745c5e8d82\",\"location\":{\"address\":\"1501 19th Ave N\",\"census_block\":\"380170003005074\",\"country\":\"US\",\"dma\":\"Fargo-Valley City\",\"formatted_address\":\"1501 19th Ave N, Fargo, ND 58102\",\"locality\":\"Fargo\",\"postcode\":\"58102\",\"region\":\"ND\"},\"name\":\"Subway\",\"related_places\":{},\"timezone\":\"America/Chicago\"},{\"fsq_id\":\"4b15c9b2f964a52049b423e3\",\"categories\":[{\"id\":13022,\"name\":\"Sports Bar\",\"icon\":{\"prefix\":\"https://ss3.4sqi.net/img/categories_v2/nightlife/sportsbar_\",\"suffix\":\".png\"}},{\"id\":13388,\"name\":\"Wings Joint\",\"icon\":{\"prefix\":\"https://ss3.4sqi.net/img/categories_v2/food/wings_\",\"suffix\":\".png\"}}],\"chains\":[{\"id\":\"24f90bcc-4ae4-458f-b9cf-3d0a5db0aa21\",\"name\":\"Buffalo Wild Wings\"}],\"distance\":446,\"geocodes\":{\"drop_off\":{\"latitude\":46.904904,\"longitude\":-96.800674},\"front_door\":{\"latitude\":46.905204,\"longitude\":-96.80177},\"main\":{\"latitude\":46.905204,\"longitude\":-96.80177},\"roof\":{\"latitude\":46.905353,\"longitude\":-96.801981}},\"link\":\"/v3/places/4b15c9b2f964a52049b423e3\",\"location\":{\"address\":\"1515 19th Ave N\",\"census_block\":\"380170003005074\",\"country\":\"US\",\"dma\":\"Fargo-Valley City\",\"formatted_address\":\"1515 19th Ave N, Fargo, ND 58102\",\"locality\":\"Fargo\",\"postcode\":\"58102\",\"region\":\"ND\"},\"name\":\"Buffalo Wild Wings\",\"related_places\":{},\"timezone\":\"America/Chicago\"},{\"fsq_id\":\"4bac0328f964a5200bde3ae3\",\"categories\":[{\"id\":13068,\"name\":\"American Restaurant\",\"icon\":{\"prefix\":\"https://ss3.4sqi.net/img/categories_v2/food/default_\",\"suffix\":\".png\"}},{\"id\":13000,\"name\":\"Dining and Drinking\",\"icon\":{\"prefix\":\"https://ss3.4sqi.net/img/categories_v2/food/default_\",\"suffix\":\".png\"}}],\"chains\":[{\"id\":\"edf79ac0-3481-46f2-982a-60e0cb28b40a\",\"name\":\"Applebee's\"}],\"distance\":524,\"geocodes\":{\"main\":{\"latitude\":46.906011,\"longitude\":-96.802517},\"roof\":{\"latitude\":46.906011,\"longitude\":-96.802517}},\"link\":\"/v3/places/4bac0328f964a5200bde3ae3\",\"location\":{\"address\":\"2001 16th St N\",\"census_block\":\"380170003005074\",\"country\":\"US\",\"cross_street\":\"\",\"dma\":\"Fargo-Valley City\",\"formatted_address\":\"2001 16th St N, Fargo, ND 58102\",\"locality\":\"Fargo\",\"postcode\":\"58102\",\"region\":\"ND\"},\"name\":\"Applebee's\",\"related_places\":{},\"timezone\":\"America/Chicago\"},{\"fsq_id\":\"4bd693ed5631c9b6c21ca630\",\"categories\":[{\"id\":13039,\"name\":\"Deli\",\"icon\":{\"prefix\":\"https://ss3.4sqi.net/img/categories_v2/food/deli_\",\"suffix\":\".png\"}},{\"id\":13145,\"name\":\"Fast Food Restaurant\",\"icon\":{\"prefix\":\"https://ss3.4sqi.net/img/categories_v2/food/fastfood_\",\"suffix\":\".png\"}}],\"chains\":[{\"id\":\"849b9cf3-71f3-4bf5-b3a6-5f2a8aa8a9e6\",\"name\":\"Jimmy John's\"}],\"distance\":1406,\"geocodes\":{\"main\":{\"latitude\":46.890186,\"longitude\":-96.802303}},\"link\":\"/v3/places/4bd693ed5631c9b6c21ca630\",\"location\":{\"address\":\"1414 12th Ave N\",\"address_extended\":\"Ste C\",\"census_block\":\"380170005021007\",\"country\":\"US\",\"cross_street\":\"Albrecht Blvd\",\"dma\":\"Fargo-Valley City\",\"formatted_address\":\"1414 12th Ave N (Albrecht Blvd), Fargo, ND 58102\",\"locality\":\"Fargo\",\"postcode\":\"58102\",\"region\":\"ND\"},\"name\":\"Jimmy John's\",\"related_places\":{},\"timezone\":\"America/Chicago\"}],\"context\":{\"geo_bounds\":{\"circle\":{\"center\":{\"latitude\":46.90244,\"longitude\":-96.7978},\"radius\":22000}}}}\n"
     ]
    }
   ],
   "source": [
    "response = requests.request(\"GET\", url, params=params, headers=headers)\n",
    "\n",
    "print(response.text)"
   ]
  },
  {
   "cell_type": "code",
   "execution_count": null,
   "metadata": {},
   "outputs": [],
   "source": [
    "json_object = json.dumps(response.json(), indent=4)\n",
    " \n",
    "with open(\"4Rsample.json\", \"w\") as outfile:\n",
    "    outfile.write(json_object)"
   ]
  },
  {
   "cell_type": "code",
   "execution_count": null,
   "metadata": {},
   "outputs": [],
   "source": [
    "with open('4Rsample.json', 'r') as f:\n",
    "  data = json.load(f)"
   ]
  },
  {
   "cell_type": "code",
   "execution_count": null,
   "metadata": {},
   "outputs": [
    {
     "data": {
      "text/html": [
       "<div>\n",
       "<style scoped>\n",
       "    .dataframe tbody tr th:only-of-type {\n",
       "        vertical-align: middle;\n",
       "    }\n",
       "\n",
       "    .dataframe tbody tr th {\n",
       "        vertical-align: top;\n",
       "    }\n",
       "\n",
       "    .dataframe thead th {\n",
       "        text-align: right;\n",
       "    }\n",
       "</style>\n",
       "<table border=\"1\" class=\"dataframe\">\n",
       "  <thead>\n",
       "    <tr style=\"text-align: right;\">\n",
       "      <th></th>\n",
       "      <th>results</th>\n",
       "      <th>context.geo_bounds.circle.center.latitude</th>\n",
       "      <th>context.geo_bounds.circle.center.longitude</th>\n",
       "      <th>context.geo_bounds.circle.radius</th>\n",
       "    </tr>\n",
       "  </thead>\n",
       "  <tbody>\n",
       "    <tr>\n",
       "      <th>0</th>\n",
       "      <td>[{'fsq_id': '5dfd725cbd059b0008a1b244', 'categ...</td>\n",
       "      <td>46.90244</td>\n",
       "      <td>-96.7978</td>\n",
       "      <td>22000</td>\n",
       "    </tr>\n",
       "  </tbody>\n",
       "</table>\n",
       "</div>"
      ],
      "text/plain": [
       "                                             results  \\\n",
       "0  [{'fsq_id': '5dfd725cbd059b0008a1b244', 'categ...   \n",
       "\n",
       "   context.geo_bounds.circle.center.latitude  \\\n",
       "0                                   46.90244   \n",
       "\n",
       "   context.geo_bounds.circle.center.longitude  \\\n",
       "0                                    -96.7978   \n",
       "\n",
       "   context.geo_bounds.circle.radius  \n",
       "0                             22000  "
      ]
     },
     "execution_count": 8,
     "metadata": {},
     "output_type": "execute_result"
    }
   ],
   "source": [
    "pd.json_normalize(data)"
   ]
  },
  {
   "cell_type": "code",
   "execution_count": null,
   "metadata": {},
   "outputs": [
    {
     "data": {
      "text/plain": [
       "dict_keys(['results', 'context'])"
      ]
     },
     "execution_count": 9,
     "metadata": {},
     "output_type": "execute_result"
    }
   ],
   "source": [
    "data.keys()"
   ]
  },
  {
   "cell_type": "code",
   "execution_count": null,
   "metadata": {},
   "outputs": [
    {
     "name": "stdout",
     "output_type": "stream",
     "text": [
      "[{'fsq_id': '5dfd725cbd059b0008a1b244', 'categories': [{'id': 13145, 'name': 'Fast Food Restaurant', 'icon': {'prefix': 'https://ss3.4sqi.net/img/categories_v2/food/fastfood_', 'suffix': '.png'}}, {'id': 13303, 'name': 'Mexican Restaurant', 'icon': {'prefix': 'https://ss3.4sqi.net/img/categories_v2/food/mexican_', 'suffix': '.png'}}], 'chains': [{'id': 'ab4c58e0-d68a-012e-5619-003048cad9da', 'name': 'Chipotle Mexican Grill'}], 'distance': 230, 'geocodes': {'main': {'latitude': 46.904312, 'longitude': -96.796674}, 'roof': {'latitude': 46.904312, 'longitude': -96.796674}}, 'link': '/v3/places/5dfd725cbd059b0008a1b244', 'location': {'address': '1204 19th Ave N', 'census_block': '380170003001001', 'country': 'US', 'cross_street': '', 'dma': 'Fargo-Valley City', 'formatted_address': '1204 19th Ave N, Fargo, ND 58102', 'locality': 'Fargo', 'postcode': '58102', 'region': 'ND'}, 'name': 'Chipotle Mexican Grill', 'related_places': {}, 'timezone': 'America/Chicago'}, {'fsq_id': '5256d5f011d2d9278a7e41f2', 'categories': [{'id': 13334, 'name': 'Sandwich Spot', 'icon': {'prefix': 'https://ss3.4sqi.net/img/categories_v2/food/deli_', 'suffix': '.png'}}], 'chains': [], 'distance': 254, 'geocodes': {'main': {'latitude': 46.904163, 'longitude': -96.795259}, 'roof': {'latitude': 46.904163, 'longitude': -96.795259}}, 'link': '/v3/places/5256d5f011d2d9278a7e41f2', 'location': {'address': '1100 19th Ave N', 'address_extended': 'Ste B', 'census_block': '380170003001001', 'country': 'US', 'cross_street': '', 'dma': 'Fargo-Valley City', 'formatted_address': '1100 19th Ave N, Fargo, ND 58102', 'locality': 'Fargo', 'postcode': '58102', 'region': 'ND'}, 'name': 'Grand Junction Grilled Subs', 'related_places': {}, 'timezone': 'America/Chicago'}, {'fsq_id': '4c47215d972c0f475ac22221', 'categories': [{'id': 13064, 'name': 'Pizzeria', 'icon': {'prefix': 'https://ss3.4sqi.net/img/categories_v2/food/pizza_', 'suffix': '.png'}}, {'id': 13145, 'name': 'Fast Food Restaurant', 'icon': {'prefix': 'https://ss3.4sqi.net/img/categories_v2/food/fastfood_', 'suffix': '.png'}}], 'chains': [{'id': 'ab4ab7c0-d68a-012e-5619-003048cad9da', 'name': \"Papa John's Pizza\"}], 'distance': 280, 'geocodes': {'main': {'latitude': 46.904184, 'longitude': -96.794658}, 'roof': {'latitude': 46.904184, 'longitude': -96.794658}}, 'link': '/v3/places/4c47215d972c0f475ac22221', 'location': {'address': '1100 19th Ave N', 'address_extended': 'Ste N', 'census_block': '380170003001001', 'country': 'US', 'cross_street': '', 'dma': 'Fargo-Valley City', 'formatted_address': '1100 19th Ave N, Fargo, ND 58102', 'locality': 'Fargo', 'postcode': '58102', 'region': 'ND'}, 'name': \"Papa John's Pizza\", 'related_places': {}, 'timezone': 'America/Chicago'}, {'fsq_id': '51476291e4b019af06b9d063', 'categories': [{'id': 13307, 'name': 'Tex-Mex Restaurant', 'icon': {'prefix': 'https://ss3.4sqi.net/img/categories_v2/food/mexican_', 'suffix': '.png'}}, {'id': 13334, 'name': 'Sandwich Spot', 'icon': {'prefix': 'https://ss3.4sqi.net/img/categories_v2/food/deli_', 'suffix': '.png'}}], 'chains': [], 'distance': 341, 'geocodes': {'main': {'latitude': 46.905011, 'longitude': -96.795496}, 'roof': {'latitude': 46.905011, 'longitude': -96.795496}}, 'link': '/v3/places/51476291e4b019af06b9d063', 'location': {'address': '1105 19th Ave N', 'census_block': '380170002042008', 'country': 'US', 'cross_street': '', 'dma': 'Fargo-Valley City', 'formatted_address': '1105 19th Ave N, Fargo, ND 58102', 'locality': 'Fargo', 'postcode': '58102', 'region': 'ND'}, 'name': 'Red Pepper', 'related_places': {}, 'timezone': 'America/Chicago'}, {'fsq_id': '5dc45424c6fed1000825891b', 'categories': [{'id': 13064, 'name': 'Pizzeria', 'icon': {'prefix': 'https://ss3.4sqi.net/img/categories_v2/food/pizza_', 'suffix': '.png'}}, {'id': 13145, 'name': 'Fast Food Restaurant', 'icon': {'prefix': 'https://ss3.4sqi.net/img/categories_v2/food/fastfood_', 'suffix': '.png'}}], 'chains': [{'id': 'ab4ba130-d68a-012e-5619-003048cad9da', 'name': 'Little Caesars Pizza'}], 'distance': 348, 'geocodes': {'main': {'latitude': 46.904057, 'longitude': -96.793919}, 'roof': {'latitude': 46.904057, 'longitude': -96.793919}}, 'link': '/v3/places/5dc45424c6fed1000825891b', 'location': {'address': '1020 19th Ave N', 'census_block': '380170003001001', 'country': 'US', 'cross_street': '', 'dma': 'Fargo-Valley City', 'formatted_address': '1020 19th Ave N, Fargo, ND 58102', 'locality': 'Fargo', 'postcode': '58102', 'region': 'ND'}, 'name': 'Little Caesars Pizza', 'related_places': {}, 'timezone': 'America/Chicago'}, {'fsq_id': '4d41f0a9aed776eb349b6997', 'categories': [{'id': 13064, 'name': 'Pizzeria', 'icon': {'prefix': 'https://ss3.4sqi.net/img/categories_v2/food/pizza_', 'suffix': '.png'}}], 'chains': [{'id': 'ab4afc60-d68a-012e-5619-003048cad9da', 'name': \"Domino's Pizza\"}], 'distance': 364, 'geocodes': {'main': {'latitude': 46.905202, 'longitude': -96.795454}, 'roof': {'latitude': 46.905202, 'longitude': -96.795454}}, 'link': '/v3/places/4d41f0a9aed776eb349b6997', 'location': {'address': '1109 19th Ave N', 'census_block': '380170002042008', 'country': 'US', 'dma': 'Fargo-Valley City', 'formatted_address': '1109 19th Ave N, Fargo, ND 58102', 'locality': 'Fargo', 'postcode': '58102', 'region': 'ND'}, 'name': \"Domino's Pizza\", 'related_places': {}, 'timezone': 'America/Chicago'}, {'fsq_id': '4bd1d75477b29c745c5e8d82', 'categories': [{'id': 13039, 'name': 'Deli', 'icon': {'prefix': 'https://ss3.4sqi.net/img/categories_v2/food/deli_', 'suffix': '.png'}}, {'id': 13145, 'name': 'Fast Food Restaurant', 'icon': {'prefix': 'https://ss3.4sqi.net/img/categories_v2/food/fastfood_', 'suffix': '.png'}}], 'chains': [{'id': 'ab4bee40-d68a-012e-5619-003048cad9da', 'name': 'Subway'}], 'distance': 391, 'geocodes': {'drop_off': {'latitude': 46.905106, 'longitude': -96.801122}, 'front_door': {'latitude': 46.905076, 'longitude': -96.801022}, 'main': {'latitude': 46.905076, 'longitude': -96.801022}, 'roof': {'latitude': 46.905141, 'longitude': -96.801091}}, 'link': '/v3/places/4bd1d75477b29c745c5e8d82', 'location': {'address': '1501 19th Ave N', 'census_block': '380170003005074', 'country': 'US', 'dma': 'Fargo-Valley City', 'formatted_address': '1501 19th Ave N, Fargo, ND 58102', 'locality': 'Fargo', 'postcode': '58102', 'region': 'ND'}, 'name': 'Subway', 'related_places': {}, 'timezone': 'America/Chicago'}, {'fsq_id': '4b15c9b2f964a52049b423e3', 'categories': [{'id': 13022, 'name': 'Sports Bar', 'icon': {'prefix': 'https://ss3.4sqi.net/img/categories_v2/nightlife/sportsbar_', 'suffix': '.png'}}, {'id': 13388, 'name': 'Wings Joint', 'icon': {'prefix': 'https://ss3.4sqi.net/img/categories_v2/food/wings_', 'suffix': '.png'}}], 'chains': [{'id': '24f90bcc-4ae4-458f-b9cf-3d0a5db0aa21', 'name': 'Buffalo Wild Wings'}], 'distance': 446, 'geocodes': {'drop_off': {'latitude': 46.904904, 'longitude': -96.800674}, 'front_door': {'latitude': 46.905204, 'longitude': -96.80177}, 'main': {'latitude': 46.905204, 'longitude': -96.80177}, 'roof': {'latitude': 46.905353, 'longitude': -96.801981}}, 'link': '/v3/places/4b15c9b2f964a52049b423e3', 'location': {'address': '1515 19th Ave N', 'census_block': '380170003005074', 'country': 'US', 'dma': 'Fargo-Valley City', 'formatted_address': '1515 19th Ave N, Fargo, ND 58102', 'locality': 'Fargo', 'postcode': '58102', 'region': 'ND'}, 'name': 'Buffalo Wild Wings', 'related_places': {}, 'timezone': 'America/Chicago'}, {'fsq_id': '4bac0328f964a5200bde3ae3', 'categories': [{'id': 13068, 'name': 'American Restaurant', 'icon': {'prefix': 'https://ss3.4sqi.net/img/categories_v2/food/default_', 'suffix': '.png'}}, {'id': 13000, 'name': 'Dining and Drinking', 'icon': {'prefix': 'https://ss3.4sqi.net/img/categories_v2/food/default_', 'suffix': '.png'}}], 'chains': [{'id': 'edf79ac0-3481-46f2-982a-60e0cb28b40a', 'name': \"Applebee's\"}], 'distance': 524, 'geocodes': {'main': {'latitude': 46.906011, 'longitude': -96.802517}, 'roof': {'latitude': 46.906011, 'longitude': -96.802517}}, 'link': '/v3/places/4bac0328f964a5200bde3ae3', 'location': {'address': '2001 16th St N', 'census_block': '380170003005074', 'country': 'US', 'cross_street': '', 'dma': 'Fargo-Valley City', 'formatted_address': '2001 16th St N, Fargo, ND 58102', 'locality': 'Fargo', 'postcode': '58102', 'region': 'ND'}, 'name': \"Applebee's\", 'related_places': {}, 'timezone': 'America/Chicago'}, {'fsq_id': '4bd693ed5631c9b6c21ca630', 'categories': [{'id': 13039, 'name': 'Deli', 'icon': {'prefix': 'https://ss3.4sqi.net/img/categories_v2/food/deli_', 'suffix': '.png'}}, {'id': 13145, 'name': 'Fast Food Restaurant', 'icon': {'prefix': 'https://ss3.4sqi.net/img/categories_v2/food/fastfood_', 'suffix': '.png'}}], 'chains': [{'id': '849b9cf3-71f3-4bf5-b3a6-5f2a8aa8a9e6', 'name': \"Jimmy John's\"}], 'distance': 1406, 'geocodes': {'main': {'latitude': 46.890186, 'longitude': -96.802303}}, 'link': '/v3/places/4bd693ed5631c9b6c21ca630', 'location': {'address': '1414 12th Ave N', 'address_extended': 'Ste C', 'census_block': '380170005021007', 'country': 'US', 'cross_street': 'Albrecht Blvd', 'dma': 'Fargo-Valley City', 'formatted_address': '1414 12th Ave N (Albrecht Blvd), Fargo, ND 58102', 'locality': 'Fargo', 'postcode': '58102', 'region': 'ND'}, 'name': \"Jimmy John's\", 'related_places': {}, 'timezone': 'America/Chicago'}]\n"
     ]
    }
   ],
   "source": [
    "data1 = data['results']\n",
    "print(data1)"
   ]
  },
  {
   "cell_type": "code",
   "execution_count": null,
   "metadata": {},
   "outputs": [
    {
     "data": {
      "text/html": [
       "<div>\n",
       "<style scoped>\n",
       "    .dataframe tbody tr th:only-of-type {\n",
       "        vertical-align: middle;\n",
       "    }\n",
       "\n",
       "    .dataframe tbody tr th {\n",
       "        vertical-align: top;\n",
       "    }\n",
       "\n",
       "    .dataframe thead th {\n",
       "        text-align: right;\n",
       "    }\n",
       "</style>\n",
       "<table border=\"1\" class=\"dataframe\">\n",
       "  <thead>\n",
       "    <tr style=\"text-align: right;\">\n",
       "      <th></th>\n",
       "      <th>fsq_id</th>\n",
       "      <th>categories</th>\n",
       "      <th>chains</th>\n",
       "      <th>distance</th>\n",
       "      <th>geocodes</th>\n",
       "      <th>link</th>\n",
       "      <th>location</th>\n",
       "      <th>name</th>\n",
       "      <th>related_places</th>\n",
       "      <th>timezone</th>\n",
       "    </tr>\n",
       "  </thead>\n",
       "  <tbody>\n",
       "    <tr>\n",
       "      <th>0</th>\n",
       "      <td>5dfd725cbd059b0008a1b244</td>\n",
       "      <td>[{'id': 13145, 'name': 'Fast Food Restaurant',...</td>\n",
       "      <td>[{'id': 'ab4c58e0-d68a-012e-5619-003048cad9da'...</td>\n",
       "      <td>230</td>\n",
       "      <td>{'main': {'latitude': 46.904312, 'longitude': ...</td>\n",
       "      <td>/v3/places/5dfd725cbd059b0008a1b244</td>\n",
       "      <td>{'address': '1204 19th Ave N', 'census_block':...</td>\n",
       "      <td>Chipotle Mexican Grill</td>\n",
       "      <td>{}</td>\n",
       "      <td>America/Chicago</td>\n",
       "    </tr>\n",
       "    <tr>\n",
       "      <th>1</th>\n",
       "      <td>5256d5f011d2d9278a7e41f2</td>\n",
       "      <td>[{'id': 13334, 'name': 'Sandwich Spot', 'icon'...</td>\n",
       "      <td>[]</td>\n",
       "      <td>254</td>\n",
       "      <td>{'main': {'latitude': 46.904163, 'longitude': ...</td>\n",
       "      <td>/v3/places/5256d5f011d2d9278a7e41f2</td>\n",
       "      <td>{'address': '1100 19th Ave N', 'address_extend...</td>\n",
       "      <td>Grand Junction Grilled Subs</td>\n",
       "      <td>{}</td>\n",
       "      <td>America/Chicago</td>\n",
       "    </tr>\n",
       "    <tr>\n",
       "      <th>2</th>\n",
       "      <td>4c47215d972c0f475ac22221</td>\n",
       "      <td>[{'id': 13064, 'name': 'Pizzeria', 'icon': {'p...</td>\n",
       "      <td>[{'id': 'ab4ab7c0-d68a-012e-5619-003048cad9da'...</td>\n",
       "      <td>280</td>\n",
       "      <td>{'main': {'latitude': 46.904184, 'longitude': ...</td>\n",
       "      <td>/v3/places/4c47215d972c0f475ac22221</td>\n",
       "      <td>{'address': '1100 19th Ave N', 'address_extend...</td>\n",
       "      <td>Papa John's Pizza</td>\n",
       "      <td>{}</td>\n",
       "      <td>America/Chicago</td>\n",
       "    </tr>\n",
       "    <tr>\n",
       "      <th>3</th>\n",
       "      <td>51476291e4b019af06b9d063</td>\n",
       "      <td>[{'id': 13307, 'name': 'Tex-Mex Restaurant', '...</td>\n",
       "      <td>[]</td>\n",
       "      <td>341</td>\n",
       "      <td>{'main': {'latitude': 46.905011, 'longitude': ...</td>\n",
       "      <td>/v3/places/51476291e4b019af06b9d063</td>\n",
       "      <td>{'address': '1105 19th Ave N', 'census_block':...</td>\n",
       "      <td>Red Pepper</td>\n",
       "      <td>{}</td>\n",
       "      <td>America/Chicago</td>\n",
       "    </tr>\n",
       "    <tr>\n",
       "      <th>4</th>\n",
       "      <td>5dc45424c6fed1000825891b</td>\n",
       "      <td>[{'id': 13064, 'name': 'Pizzeria', 'icon': {'p...</td>\n",
       "      <td>[{'id': 'ab4ba130-d68a-012e-5619-003048cad9da'...</td>\n",
       "      <td>348</td>\n",
       "      <td>{'main': {'latitude': 46.904057, 'longitude': ...</td>\n",
       "      <td>/v3/places/5dc45424c6fed1000825891b</td>\n",
       "      <td>{'address': '1020 19th Ave N', 'census_block':...</td>\n",
       "      <td>Little Caesars Pizza</td>\n",
       "      <td>{}</td>\n",
       "      <td>America/Chicago</td>\n",
       "    </tr>\n",
       "    <tr>\n",
       "      <th>5</th>\n",
       "      <td>4d41f0a9aed776eb349b6997</td>\n",
       "      <td>[{'id': 13064, 'name': 'Pizzeria', 'icon': {'p...</td>\n",
       "      <td>[{'id': 'ab4afc60-d68a-012e-5619-003048cad9da'...</td>\n",
       "      <td>364</td>\n",
       "      <td>{'main': {'latitude': 46.905202, 'longitude': ...</td>\n",
       "      <td>/v3/places/4d41f0a9aed776eb349b6997</td>\n",
       "      <td>{'address': '1109 19th Ave N', 'census_block':...</td>\n",
       "      <td>Domino's Pizza</td>\n",
       "      <td>{}</td>\n",
       "      <td>America/Chicago</td>\n",
       "    </tr>\n",
       "    <tr>\n",
       "      <th>6</th>\n",
       "      <td>4bd1d75477b29c745c5e8d82</td>\n",
       "      <td>[{'id': 13039, 'name': 'Deli', 'icon': {'prefi...</td>\n",
       "      <td>[{'id': 'ab4bee40-d68a-012e-5619-003048cad9da'...</td>\n",
       "      <td>391</td>\n",
       "      <td>{'drop_off': {'latitude': 46.905106, 'longitud...</td>\n",
       "      <td>/v3/places/4bd1d75477b29c745c5e8d82</td>\n",
       "      <td>{'address': '1501 19th Ave N', 'census_block':...</td>\n",
       "      <td>Subway</td>\n",
       "      <td>{}</td>\n",
       "      <td>America/Chicago</td>\n",
       "    </tr>\n",
       "    <tr>\n",
       "      <th>7</th>\n",
       "      <td>4b15c9b2f964a52049b423e3</td>\n",
       "      <td>[{'id': 13022, 'name': 'Sports Bar', 'icon': {...</td>\n",
       "      <td>[{'id': '24f90bcc-4ae4-458f-b9cf-3d0a5db0aa21'...</td>\n",
       "      <td>446</td>\n",
       "      <td>{'drop_off': {'latitude': 46.904904, 'longitud...</td>\n",
       "      <td>/v3/places/4b15c9b2f964a52049b423e3</td>\n",
       "      <td>{'address': '1515 19th Ave N', 'census_block':...</td>\n",
       "      <td>Buffalo Wild Wings</td>\n",
       "      <td>{}</td>\n",
       "      <td>America/Chicago</td>\n",
       "    </tr>\n",
       "    <tr>\n",
       "      <th>8</th>\n",
       "      <td>4bac0328f964a5200bde3ae3</td>\n",
       "      <td>[{'id': 13068, 'name': 'American Restaurant', ...</td>\n",
       "      <td>[{'id': 'edf79ac0-3481-46f2-982a-60e0cb28b40a'...</td>\n",
       "      <td>524</td>\n",
       "      <td>{'main': {'latitude': 46.906011, 'longitude': ...</td>\n",
       "      <td>/v3/places/4bac0328f964a5200bde3ae3</td>\n",
       "      <td>{'address': '2001 16th St N', 'census_block': ...</td>\n",
       "      <td>Applebee's</td>\n",
       "      <td>{}</td>\n",
       "      <td>America/Chicago</td>\n",
       "    </tr>\n",
       "    <tr>\n",
       "      <th>9</th>\n",
       "      <td>4bd693ed5631c9b6c21ca630</td>\n",
       "      <td>[{'id': 13039, 'name': 'Deli', 'icon': {'prefi...</td>\n",
       "      <td>[{'id': '849b9cf3-71f3-4bf5-b3a6-5f2a8aa8a9e6'...</td>\n",
       "      <td>1406</td>\n",
       "      <td>{'main': {'latitude': 46.890186, 'longitude': ...</td>\n",
       "      <td>/v3/places/4bd693ed5631c9b6c21ca630</td>\n",
       "      <td>{'address': '1414 12th Ave N', 'address_extend...</td>\n",
       "      <td>Jimmy John's</td>\n",
       "      <td>{}</td>\n",
       "      <td>America/Chicago</td>\n",
       "    </tr>\n",
       "  </tbody>\n",
       "</table>\n",
       "</div>"
      ],
      "text/plain": [
       "                     fsq_id  \\\n",
       "0  5dfd725cbd059b0008a1b244   \n",
       "1  5256d5f011d2d9278a7e41f2   \n",
       "2  4c47215d972c0f475ac22221   \n",
       "3  51476291e4b019af06b9d063   \n",
       "4  5dc45424c6fed1000825891b   \n",
       "5  4d41f0a9aed776eb349b6997   \n",
       "6  4bd1d75477b29c745c5e8d82   \n",
       "7  4b15c9b2f964a52049b423e3   \n",
       "8  4bac0328f964a5200bde3ae3   \n",
       "9  4bd693ed5631c9b6c21ca630   \n",
       "\n",
       "                                          categories  \\\n",
       "0  [{'id': 13145, 'name': 'Fast Food Restaurant',...   \n",
       "1  [{'id': 13334, 'name': 'Sandwich Spot', 'icon'...   \n",
       "2  [{'id': 13064, 'name': 'Pizzeria', 'icon': {'p...   \n",
       "3  [{'id': 13307, 'name': 'Tex-Mex Restaurant', '...   \n",
       "4  [{'id': 13064, 'name': 'Pizzeria', 'icon': {'p...   \n",
       "5  [{'id': 13064, 'name': 'Pizzeria', 'icon': {'p...   \n",
       "6  [{'id': 13039, 'name': 'Deli', 'icon': {'prefi...   \n",
       "7  [{'id': 13022, 'name': 'Sports Bar', 'icon': {...   \n",
       "8  [{'id': 13068, 'name': 'American Restaurant', ...   \n",
       "9  [{'id': 13039, 'name': 'Deli', 'icon': {'prefi...   \n",
       "\n",
       "                                              chains  distance  \\\n",
       "0  [{'id': 'ab4c58e0-d68a-012e-5619-003048cad9da'...       230   \n",
       "1                                                 []       254   \n",
       "2  [{'id': 'ab4ab7c0-d68a-012e-5619-003048cad9da'...       280   \n",
       "3                                                 []       341   \n",
       "4  [{'id': 'ab4ba130-d68a-012e-5619-003048cad9da'...       348   \n",
       "5  [{'id': 'ab4afc60-d68a-012e-5619-003048cad9da'...       364   \n",
       "6  [{'id': 'ab4bee40-d68a-012e-5619-003048cad9da'...       391   \n",
       "7  [{'id': '24f90bcc-4ae4-458f-b9cf-3d0a5db0aa21'...       446   \n",
       "8  [{'id': 'edf79ac0-3481-46f2-982a-60e0cb28b40a'...       524   \n",
       "9  [{'id': '849b9cf3-71f3-4bf5-b3a6-5f2a8aa8a9e6'...      1406   \n",
       "\n",
       "                                            geocodes  \\\n",
       "0  {'main': {'latitude': 46.904312, 'longitude': ...   \n",
       "1  {'main': {'latitude': 46.904163, 'longitude': ...   \n",
       "2  {'main': {'latitude': 46.904184, 'longitude': ...   \n",
       "3  {'main': {'latitude': 46.905011, 'longitude': ...   \n",
       "4  {'main': {'latitude': 46.904057, 'longitude': ...   \n",
       "5  {'main': {'latitude': 46.905202, 'longitude': ...   \n",
       "6  {'drop_off': {'latitude': 46.905106, 'longitud...   \n",
       "7  {'drop_off': {'latitude': 46.904904, 'longitud...   \n",
       "8  {'main': {'latitude': 46.906011, 'longitude': ...   \n",
       "9  {'main': {'latitude': 46.890186, 'longitude': ...   \n",
       "\n",
       "                                  link  \\\n",
       "0  /v3/places/5dfd725cbd059b0008a1b244   \n",
       "1  /v3/places/5256d5f011d2d9278a7e41f2   \n",
       "2  /v3/places/4c47215d972c0f475ac22221   \n",
       "3  /v3/places/51476291e4b019af06b9d063   \n",
       "4  /v3/places/5dc45424c6fed1000825891b   \n",
       "5  /v3/places/4d41f0a9aed776eb349b6997   \n",
       "6  /v3/places/4bd1d75477b29c745c5e8d82   \n",
       "7  /v3/places/4b15c9b2f964a52049b423e3   \n",
       "8  /v3/places/4bac0328f964a5200bde3ae3   \n",
       "9  /v3/places/4bd693ed5631c9b6c21ca630   \n",
       "\n",
       "                                            location  \\\n",
       "0  {'address': '1204 19th Ave N', 'census_block':...   \n",
       "1  {'address': '1100 19th Ave N', 'address_extend...   \n",
       "2  {'address': '1100 19th Ave N', 'address_extend...   \n",
       "3  {'address': '1105 19th Ave N', 'census_block':...   \n",
       "4  {'address': '1020 19th Ave N', 'census_block':...   \n",
       "5  {'address': '1109 19th Ave N', 'census_block':...   \n",
       "6  {'address': '1501 19th Ave N', 'census_block':...   \n",
       "7  {'address': '1515 19th Ave N', 'census_block':...   \n",
       "8  {'address': '2001 16th St N', 'census_block': ...   \n",
       "9  {'address': '1414 12th Ave N', 'address_extend...   \n",
       "\n",
       "                          name related_places         timezone  \n",
       "0       Chipotle Mexican Grill             {}  America/Chicago  \n",
       "1  Grand Junction Grilled Subs             {}  America/Chicago  \n",
       "2            Papa John's Pizza             {}  America/Chicago  \n",
       "3                   Red Pepper             {}  America/Chicago  \n",
       "4         Little Caesars Pizza             {}  America/Chicago  \n",
       "5               Domino's Pizza             {}  America/Chicago  \n",
       "6                       Subway             {}  America/Chicago  \n",
       "7           Buffalo Wild Wings             {}  America/Chicago  \n",
       "8                   Applebee's             {}  America/Chicago  \n",
       "9                 Jimmy John's             {}  America/Chicago  "
      ]
     },
     "execution_count": 11,
     "metadata": {},
     "output_type": "execute_result"
    }
   ],
   "source": [
    "df = pd.DataFrame(data1)\n",
    "df"
   ]
  },
  {
   "cell_type": "code",
   "execution_count": null,
   "metadata": {},
   "outputs": [
    {
     "data": {
      "text/html": [
       "<div>\n",
       "<style scoped>\n",
       "    .dataframe tbody tr th:only-of-type {\n",
       "        vertical-align: middle;\n",
       "    }\n",
       "\n",
       "    .dataframe tbody tr th {\n",
       "        vertical-align: top;\n",
       "    }\n",
       "\n",
       "    .dataframe thead th {\n",
       "        text-align: right;\n",
       "    }\n",
       "</style>\n",
       "<table border=\"1\" class=\"dataframe\">\n",
       "  <thead>\n",
       "    <tr style=\"text-align: right;\">\n",
       "      <th></th>\n",
       "      <th>distance</th>\n",
       "      <th>name</th>\n",
       "    </tr>\n",
       "  </thead>\n",
       "  <tbody>\n",
       "    <tr>\n",
       "      <th>0</th>\n",
       "      <td>230</td>\n",
       "      <td>Chipotle Mexican Grill</td>\n",
       "    </tr>\n",
       "    <tr>\n",
       "      <th>1</th>\n",
       "      <td>254</td>\n",
       "      <td>Grand Junction Grilled Subs</td>\n",
       "    </tr>\n",
       "    <tr>\n",
       "      <th>2</th>\n",
       "      <td>280</td>\n",
       "      <td>Papa John's Pizza</td>\n",
       "    </tr>\n",
       "    <tr>\n",
       "      <th>3</th>\n",
       "      <td>341</td>\n",
       "      <td>Red Pepper</td>\n",
       "    </tr>\n",
       "    <tr>\n",
       "      <th>4</th>\n",
       "      <td>348</td>\n",
       "      <td>Little Caesars Pizza</td>\n",
       "    </tr>\n",
       "    <tr>\n",
       "      <th>5</th>\n",
       "      <td>364</td>\n",
       "      <td>Domino's Pizza</td>\n",
       "    </tr>\n",
       "    <tr>\n",
       "      <th>6</th>\n",
       "      <td>391</td>\n",
       "      <td>Subway</td>\n",
       "    </tr>\n",
       "    <tr>\n",
       "      <th>7</th>\n",
       "      <td>446</td>\n",
       "      <td>Buffalo Wild Wings</td>\n",
       "    </tr>\n",
       "    <tr>\n",
       "      <th>8</th>\n",
       "      <td>524</td>\n",
       "      <td>Applebee's</td>\n",
       "    </tr>\n",
       "    <tr>\n",
       "      <th>9</th>\n",
       "      <td>1406</td>\n",
       "      <td>Jimmy John's</td>\n",
       "    </tr>\n",
       "  </tbody>\n",
       "</table>\n",
       "</div>"
      ],
      "text/plain": [
       "   distance                         name\n",
       "0       230       Chipotle Mexican Grill\n",
       "1       254  Grand Junction Grilled Subs\n",
       "2       280            Papa John's Pizza\n",
       "3       341                   Red Pepper\n",
       "4       348         Little Caesars Pizza\n",
       "5       364               Domino's Pizza\n",
       "6       391                       Subway\n",
       "7       446           Buffalo Wild Wings\n",
       "8       524                   Applebee's\n",
       "9      1406                 Jimmy John's"
      ]
     },
     "execution_count": 12,
     "metadata": {},
     "output_type": "execute_result"
    }
   ],
   "source": [
    "R4_Village = df.filter(['distance','name'])\n",
    "R4_Village"
   ]
  },
  {
   "cell_type": "code",
   "execution_count": null,
   "metadata": {},
   "outputs": [],
   "source": [
    "R4_Village.to_csv('4RVillage.csv')"
   ]
  },
  {
   "cell_type": "code",
   "execution_count": null,
   "metadata": {},
   "outputs": [],
   "source": []
  }
 ],
 "metadata": {
  "kernelspec": {
   "display_name": "TheOne",
   "language": "python",
   "name": "theone"
  },
  "language_info": {
   "codemirror_mode": {
    "name": "ipython",
    "version": 3
   },
   "file_extension": ".py",
   "mimetype": "text/x-python",
   "name": "python",
   "nbconvert_exporter": "python",
   "pygments_lexer": "ipython3",
   "version": "3.9.7"
  },
  "orig_nbformat": 4
 },
 "nbformat": 4,
 "nbformat_minor": 2
}
