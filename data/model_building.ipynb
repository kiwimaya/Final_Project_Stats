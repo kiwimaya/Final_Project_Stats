{
 "cells": [
  {
   "cell_type": "code",
   "execution_count": 7,
   "metadata": {},
   "outputs": [],
   "source": [
    "import pandas as pd\n",
    "import numpy as np\n",
    "import matplotlib.pyplot as plt\n",
    "%matplotlib inline\n",
    "\n",
    "from sklearn.linear_model import LinearRegression\n",
    "from sklearn.metrics import r2_score\n"
   ]
  },
  {
   "cell_type": "code",
   "execution_count": 10,
   "metadata": {},
   "outputs": [
    {
     "data": {
      "text/html": [
       "<div>\n",
       "<style scoped>\n",
       "    .dataframe tbody tr th:only-of-type {\n",
       "        vertical-align: middle;\n",
       "    }\n",
       "\n",
       "    .dataframe tbody tr th {\n",
       "        vertical-align: top;\n",
       "    }\n",
       "\n",
       "    .dataframe thead th {\n",
       "        text-align: right;\n",
       "    }\n",
       "</style>\n",
       "<table border=\"1\" class=\"dataframe\">\n",
       "  <thead>\n",
       "    <tr style=\"text-align: right;\">\n",
       "      <th></th>\n",
       "      <th>Unnamed: 0</th>\n",
       "      <th>empty_slots</th>\n",
       "      <th>extra</th>\n",
       "      <th>free_bikes</th>\n",
       "      <th>id</th>\n",
       "      <th>latitude</th>\n",
       "      <th>longitude</th>\n",
       "      <th>name</th>\n",
       "      <th>timestamp</th>\n",
       "    </tr>\n",
       "  </thead>\n",
       "  <tbody>\n",
       "    <tr>\n",
       "      <th>0</th>\n",
       "      <td>0</td>\n",
       "      <td>14</td>\n",
       "      <td>{'address': '400 1st Ave S', 'last_updated': 1...</td>\n",
       "      <td>0</td>\n",
       "      <td>24e4632c2135ddb41ac69737b3b0b09d</td>\n",
       "      <td>46.87310</td>\n",
       "      <td>-96.78644</td>\n",
       "      <td>Fercho YMCA</td>\n",
       "      <td>2020-03-25T14:31:19.618000Z</td>\n",
       "    </tr>\n",
       "    <tr>\n",
       "      <th>1</th>\n",
       "      <td>1</td>\n",
       "      <td>22</td>\n",
       "      <td>{'address': '1811 University Drive N', 'last_u...</td>\n",
       "      <td>0</td>\n",
       "      <td>3d449d4adf1002a4d0a31f053bbf1e64</td>\n",
       "      <td>46.90244</td>\n",
       "      <td>-96.79780</td>\n",
       "      <td>University Village</td>\n",
       "      <td>2020-03-25T14:31:19.621000Z</td>\n",
       "    </tr>\n",
       "    <tr>\n",
       "      <th>2</th>\n",
       "      <td>2</td>\n",
       "      <td>9</td>\n",
       "      <td>{'address': 'NP Ave &amp; 5th St N', 'last_updated...</td>\n",
       "      <td>0</td>\n",
       "      <td>da153eba9a621eede5f5da900d55fc25</td>\n",
       "      <td>46.87580</td>\n",
       "      <td>-96.78567</td>\n",
       "      <td>MATBUS Center Downtown</td>\n",
       "      <td>2020-03-25T14:31:19.622000Z</td>\n",
       "    </tr>\n",
       "    <tr>\n",
       "      <th>3</th>\n",
       "      <td>3</td>\n",
       "      <td>13</td>\n",
       "      <td>{'address': '650 NP Ave N', 'last_updated': 15...</td>\n",
       "      <td>0</td>\n",
       "      <td>3ca6396b5dacb87ca7624641fe809b5c</td>\n",
       "      <td>46.87581</td>\n",
       "      <td>-96.78996</td>\n",
       "      <td>Renaissance Hall</td>\n",
       "      <td>2020-03-25T14:31:19.623000Z</td>\n",
       "    </tr>\n",
       "    <tr>\n",
       "      <th>4</th>\n",
       "      <td>4</td>\n",
       "      <td>29</td>\n",
       "      <td>{'address': '1401 Administrative Ave', 'last_u...</td>\n",
       "      <td>1</td>\n",
       "      <td>0177ad75c701e1353a03f4ccbf1a0ebe</td>\n",
       "      <td>46.89248</td>\n",
       "      <td>-96.80095</td>\n",
       "      <td>Memorial Union</td>\n",
       "      <td>2020-03-25T14:31:19.626000Z</td>\n",
       "    </tr>\n",
       "    <tr>\n",
       "      <th>5</th>\n",
       "      <td>5</td>\n",
       "      <td>9</td>\n",
       "      <td>{'address': '425 Broadway N', 'last_updated': ...</td>\n",
       "      <td>2</td>\n",
       "      <td>c4773c4834f0b393b049134bad2e4f38</td>\n",
       "      <td>46.88110</td>\n",
       "      <td>-96.78740</td>\n",
       "      <td>Great Northern Bicycle Co.</td>\n",
       "      <td>2020-03-25T14:31:19.627000Z</td>\n",
       "    </tr>\n",
       "    <tr>\n",
       "      <th>6</th>\n",
       "      <td>6</td>\n",
       "      <td>6</td>\n",
       "      <td>{'address': '811 Broadway', 'last_updated': 15...</td>\n",
       "      <td>2</td>\n",
       "      <td>b7ca5a355d7883dc2f1bef118bb1fd15</td>\n",
       "      <td>46.88471</td>\n",
       "      <td>-96.78766</td>\n",
       "      <td>Sanford Medical Center</td>\n",
       "      <td>2020-03-25T14:31:19.632000Z</td>\n",
       "    </tr>\n",
       "    <tr>\n",
       "      <th>7</th>\n",
       "      <td>7</td>\n",
       "      <td>18</td>\n",
       "      <td>{'address': '811 2nd Ave N', 'last_updated': 1...</td>\n",
       "      <td>0</td>\n",
       "      <td>e86cee5f936d867f3b4118fea16e4860</td>\n",
       "      <td>46.87917</td>\n",
       "      <td>-96.79275</td>\n",
       "      <td>Barry Hall</td>\n",
       "      <td>2020-03-25T14:31:19.633000Z</td>\n",
       "    </tr>\n",
       "    <tr>\n",
       "      <th>8</th>\n",
       "      <td>8</td>\n",
       "      <td>21</td>\n",
       "      <td>{'address': '1470 Albrecht Blvd', 'last_update...</td>\n",
       "      <td>0</td>\n",
       "      <td>9cce98dcd1fea49df82fd781f2ad46f5</td>\n",
       "      <td>46.89695</td>\n",
       "      <td>-96.80257</td>\n",
       "      <td>High Rise Complex</td>\n",
       "      <td>2020-03-25T14:31:19.634000Z</td>\n",
       "    </tr>\n",
       "    <tr>\n",
       "      <th>9</th>\n",
       "      <td>9</td>\n",
       "      <td>11</td>\n",
       "      <td>{'address': '1707 Centennial Blvd', 'last_upda...</td>\n",
       "      <td>0</td>\n",
       "      <td>c8e0f9322a6a435b5067cf63c03c64a9</td>\n",
       "      <td>46.89569</td>\n",
       "      <td>-96.80781</td>\n",
       "      <td>Wallman Wellness Center</td>\n",
       "      <td>2020-03-25T14:31:19.635000Z</td>\n",
       "    </tr>\n",
       "    <tr>\n",
       "      <th>10</th>\n",
       "      <td>10</td>\n",
       "      <td>11</td>\n",
       "      <td>{'address': '1515 11th Ave N', 'last_updated':...</td>\n",
       "      <td>0</td>\n",
       "      <td>133ed887a01e8487d5a54111fea5ed08</td>\n",
       "      <td>46.88944</td>\n",
       "      <td>-96.80528</td>\n",
       "      <td>T Loft</td>\n",
       "      <td>2020-03-25T14:31:19.642000Z</td>\n",
       "    </tr>\n",
       "  </tbody>\n",
       "</table>\n",
       "</div>"
      ],
      "text/plain": [
       "    Unnamed: 0  empty_slots  \\\n",
       "0            0           14   \n",
       "1            1           22   \n",
       "2            2            9   \n",
       "3            3           13   \n",
       "4            4           29   \n",
       "5            5            9   \n",
       "6            6            6   \n",
       "7            7           18   \n",
       "8            8           21   \n",
       "9            9           11   \n",
       "10          10           11   \n",
       "\n",
       "                                                extra  free_bikes  \\\n",
       "0   {'address': '400 1st Ave S', 'last_updated': 1...           0   \n",
       "1   {'address': '1811 University Drive N', 'last_u...           0   \n",
       "2   {'address': 'NP Ave & 5th St N', 'last_updated...           0   \n",
       "3   {'address': '650 NP Ave N', 'last_updated': 15...           0   \n",
       "4   {'address': '1401 Administrative Ave', 'last_u...           1   \n",
       "5   {'address': '425 Broadway N', 'last_updated': ...           2   \n",
       "6   {'address': '811 Broadway', 'last_updated': 15...           2   \n",
       "7   {'address': '811 2nd Ave N', 'last_updated': 1...           0   \n",
       "8   {'address': '1470 Albrecht Blvd', 'last_update...           0   \n",
       "9   {'address': '1707 Centennial Blvd', 'last_upda...           0   \n",
       "10  {'address': '1515 11th Ave N', 'last_updated':...           0   \n",
       "\n",
       "                                  id  latitude  longitude  \\\n",
       "0   24e4632c2135ddb41ac69737b3b0b09d  46.87310  -96.78644   \n",
       "1   3d449d4adf1002a4d0a31f053bbf1e64  46.90244  -96.79780   \n",
       "2   da153eba9a621eede5f5da900d55fc25  46.87580  -96.78567   \n",
       "3   3ca6396b5dacb87ca7624641fe809b5c  46.87581  -96.78996   \n",
       "4   0177ad75c701e1353a03f4ccbf1a0ebe  46.89248  -96.80095   \n",
       "5   c4773c4834f0b393b049134bad2e4f38  46.88110  -96.78740   \n",
       "6   b7ca5a355d7883dc2f1bef118bb1fd15  46.88471  -96.78766   \n",
       "7   e86cee5f936d867f3b4118fea16e4860  46.87917  -96.79275   \n",
       "8   9cce98dcd1fea49df82fd781f2ad46f5  46.89695  -96.80257   \n",
       "9   c8e0f9322a6a435b5067cf63c03c64a9  46.89569  -96.80781   \n",
       "10  133ed887a01e8487d5a54111fea5ed08  46.88944  -96.80528   \n",
       "\n",
       "                          name                    timestamp  \n",
       "0                  Fercho YMCA  2020-03-25T14:31:19.618000Z  \n",
       "1           University Village  2020-03-25T14:31:19.621000Z  \n",
       "2       MATBUS Center Downtown  2020-03-25T14:31:19.622000Z  \n",
       "3             Renaissance Hall  2020-03-25T14:31:19.623000Z  \n",
       "4               Memorial Union  2020-03-25T14:31:19.626000Z  \n",
       "5   Great Northern Bicycle Co.  2020-03-25T14:31:19.627000Z  \n",
       "6       Sanford Medical Center  2020-03-25T14:31:19.632000Z  \n",
       "7                   Barry Hall  2020-03-25T14:31:19.633000Z  \n",
       "8            High Rise Complex  2020-03-25T14:31:19.634000Z  \n",
       "9      Wallman Wellness Center  2020-03-25T14:31:19.635000Z  \n",
       "10                      T Loft  2020-03-25T14:31:19.642000Z  "
      ]
     },
     "execution_count": 10,
     "metadata": {},
     "output_type": "execute_result"
    }
   ],
   "source": [
    "df = pd.read_csv(\"stations.csv\")\n",
    "df"
   ]
  },
  {
   "cell_type": "code",
   "execution_count": 4,
   "metadata": {},
   "outputs": [
    {
     "data": {
      "text/plain": [
       "(array([14, 22,  9, 13, 29,  9,  6, 18, 21, 11, 11], dtype=int64),\n",
       " 0                    Fercho YMCA\n",
       " 1             University Village\n",
       " 2         MATBUS Center Downtown\n",
       " 3               Renaissance Hall\n",
       " 4                 Memorial Union\n",
       " 5     Great Northern Bicycle Co.\n",
       " 6         Sanford Medical Center\n",
       " 7                     Barry Hall\n",
       " 8              High Rise Complex\n",
       " 9        Wallman Wellness Center\n",
       " 10                        T Loft\n",
       " Name: name, dtype: object)"
      ]
     },
     "execution_count": 4,
     "metadata": {},
     "output_type": "execute_result"
    }
   ],
   "source": [
    "x = df.iloc[:,1].values\n",
    "y = df.iloc[:,7]\n",
    "x,y"
   ]
  },
  {
   "cell_type": "code",
   "execution_count": 5,
   "metadata": {},
   "outputs": [
    {
     "data": {
      "text/plain": [
       "<matplotlib.collections.PathCollection at 0x1662101d8b0>"
      ]
     },
     "execution_count": 5,
     "metadata": {},
     "output_type": "execute_result"
    },
    {
     "data": {
      "image/png": "[encoded data removed]",
      "text/plain": [
       "<Figure size 640x480 with 1 Axes>"
      ]
     },
     "metadata": {},
     "output_type": "display_data"
    }
   ],
   "source": [
    "plt.scatter(x,y)"
   ]
  },
  {
   "cell_type": "code",
   "execution_count": null,
   "metadata": {},
   "outputs": [],
   "source": []
  },
  {
   "cell_type": "code",
   "execution_count": null,
   "metadata": {},
   "outputs": [],
   "source": [
    "###Linear Regression Mode(next)between latitud and empty slots."
   ]
  },
  {
   "cell_type": "code",
   "execution_count": 14,
   "metadata": {},
   "outputs": [
    {
     "data": {
      "text/html": [
       "<style>#sk-container-id-2 {color: black;background-color: white;}#sk-container-id-2 pre{padding: 0;}#sk-container-id-2 div.sk-toggleable {background-color: white;}#sk-container-id-2 label.sk-toggleable__label {cursor: pointer;display: block;width: 100%;margin-bottom: 0;padding: 0.3em;box-sizing: border-box;text-align: center;}#sk-container-id-2 label.sk-toggleable__label-arrow:before {content: \"▸\";float: left;margin-right: 0.25em;color: #696969;}#sk-container-id-2 label.sk-toggleable__label-arrow:hover:before {color: black;}#sk-container-id-2 div.sk-estimator:hover label.sk-toggleable__label-arrow:before {color: black;}#sk-container-id-2 div.sk-toggleable__content {max-height: 0;max-width: 0;overflow: hidden;text-align: left;background-color: #f0f8ff;}#sk-container-id-2 div.sk-toggleable__content pre {margin: 0.2em;color: black;border-radius: 0.25em;background-color: #f0f8ff;}#sk-container-id-2 input.sk-toggleable__control:checked~div.sk-toggleable__content {max-height: 200px;max-width: 100%;overflow: auto;}#sk-container-id-2 input.sk-toggleable__control:checked~label.sk-toggleable__label-arrow:before {content: \"▾\";}#sk-container-id-2 div.sk-estimator input.sk-toggleable__control:checked~label.sk-toggleable__label {background-color: #d4ebff;}#sk-container-id-2 div.sk-label input.sk-toggleable__control:checked~label.sk-toggleable__label {background-color: #d4ebff;}#sk-container-id-2 input.sk-hidden--visually {border: 0;clip: rect(1px 1px 1px 1px);clip: rect(1px, 1px, 1px, 1px);height: 1px;margin: -1px;overflow: hidden;padding: 0;position: absolute;width: 1px;}#sk-container-id-2 div.sk-estimator {font-family: monospace;background-color: #f0f8ff;border: 1px dotted black;border-radius: 0.25em;box-sizing: border-box;margin-bottom: 0.5em;}#sk-container-id-2 div.sk-estimator:hover {background-color: #d4ebff;}#sk-container-id-2 div.sk-parallel-item::after {content: \"\";width: 100%;border-bottom: 1px solid gray;flex-grow: 1;}#sk-container-id-2 div.sk-label:hover label.sk-toggleable__label {background-color: #d4ebff;}#sk-container-id-2 div.sk-serial::before {content: \"\";position: absolute;border-left: 1px solid gray;box-sizing: border-box;top: 0;bottom: 0;left: 50%;z-index: 0;}#sk-container-id-2 div.sk-serial {display: flex;flex-direction: column;align-items: center;background-color: white;padding-right: 0.2em;padding-left: 0.2em;position: relative;}#sk-container-id-2 div.sk-item {position: relative;z-index: 1;}#sk-container-id-2 div.sk-parallel {display: flex;align-items: stretch;justify-content: center;background-color: white;position: relative;}#sk-container-id-2 div.sk-item::before, #sk-container-id-2 div.sk-parallel-item::before {content: \"\";position: absolute;border-left: 1px solid gray;box-sizing: border-box;top: 0;bottom: 0;left: 50%;z-index: -1;}#sk-container-id-2 div.sk-parallel-item {display: flex;flex-direction: column;z-index: 1;position: relative;background-color: white;}#sk-container-id-2 div.sk-parallel-item:first-child::after {align-self: flex-end;width: 50%;}#sk-container-id-2 div.sk-parallel-item:last-child::after {align-self: flex-start;width: 50%;}#sk-container-id-2 div.sk-parallel-item:only-child::after {width: 0;}#sk-container-id-2 div.sk-dashed-wrapped {border: 1px dashed gray;margin: 0 0.4em 0.5em 0.4em;box-sizing: border-box;padding-bottom: 0.4em;background-color: white;}#sk-container-id-2 div.sk-label label {font-family: monospace;font-weight: bold;display: inline-block;line-height: 1.2em;}#sk-container-id-2 div.sk-label-container {text-align: center;}#sk-container-id-2 div.sk-container {/* jupyter's `normalize.less` sets `[hidden] { display: none; }` but bootstrap.min.css set `[hidden] { display: none !important; }` so we also need the `!important` here to be able to override the default hidden behavior on the sphinx rendered scikit-learn.org. See: https://github.com/scikit-learn/scikit-learn/issues/21755 */display: inline-block !important;position: relative;}#sk-container-id-2 div.sk-text-repr-fallback {display: none;}</style><div id=\"sk-container-id-2\" class=\"sk-top-container\"><div class=\"sk-text-repr-fallback\"><pre>LinearRegression()</pre><b>In a Jupyter environment, please rerun this cell to show the HTML representation or trust the notebook. <br />On GitHub, the HTML representation is unable to render, please try loading this page with nbviewer.org.</b></div><div class=\"sk-container\" hidden><div class=\"sk-item\"><div class=\"sk-estimator sk-toggleable\"><input class=\"sk-toggleable__control sk-hidden--visually\" id=\"sk-estimator-id-2\" type=\"checkbox\" checked><label for=\"sk-estimator-id-2\" class=\"sk-toggleable__label sk-toggleable__label-arrow\">LinearRegression</label><div class=\"sk-toggleable__content\"><pre>LinearRegression()</pre></div></div></div></div></div>"
      ],
      "text/plain": [
       "LinearRegression()"
      ]
     },
     "execution_count": 14,
     "metadata": {},
     "output_type": "execute_result"
    }
   ],
   "source": [
    "regressor=LinearRegression()\n",
    "regressor.fit(x.reshape(-1,1),y)"
   ]
  },
  {
   "cell_type": "code",
   "execution_count": 15,
   "metadata": {},
   "outputs": [
    {
     "name": "stdout",
     "output_type": "stream",
     "text": [
      "[339.37871485]\n",
      "-15897.313530763027\n"
     ]
    }
   ],
   "source": [
    "print(regressor.coef_)\n",
    "print(regressor.intercept_)\n"
   ]
  },
  {
   "cell_type": "code",
   "execution_count": 18,
   "metadata": {},
   "outputs": [
    {
     "data": {
      "text/plain": [
       "0.23640467734163273"
      ]
     },
     "execution_count": 18,
     "metadata": {},
     "output_type": "execute_result"
    }
   ],
   "source": [
    "y_pred=regressor.predict(x.reshape(-1,1))\n",
    "y_pred\n",
    "\n",
    "r2_score(y,y_pred)"
   ]
  },
  {
   "cell_type": "code",
   "execution_count": 21,
   "metadata": {},
   "outputs": [
    {
     "data": {
      "text/plain": [
       "0     3.741657\n",
       "1     4.690416\n",
       "2     3.000000\n",
       "3     3.605551\n",
       "4     5.385165\n",
       "5     3.000000\n",
       "6     2.449490\n",
       "7     4.242641\n",
       "8     4.582576\n",
       "9     3.316625\n",
       "10    3.316625\n",
       "Name: empty_slots, dtype: float64"
      ]
     },
     "execution_count": 21,
     "metadata": {},
     "output_type": "execute_result"
    }
   ],
   "source": [
    "y_new=np.sqrt(y)\n",
    "y_new"
   ]
  },
  {
   "cell_type": "code",
   "execution_count": 22,
   "metadata": {},
   "outputs": [
    {
     "data": {
      "text/html": [
       "<style>#sk-container-id-3 {color: black;background-color: white;}#sk-container-id-3 pre{padding: 0;}#sk-container-id-3 div.sk-toggleable {background-color: white;}#sk-container-id-3 label.sk-toggleable__label {cursor: pointer;display: block;width: 100%;margin-bottom: 0;padding: 0.3em;box-sizing: border-box;text-align: center;}#sk-container-id-3 label.sk-toggleable__label-arrow:before {content: \"▸\";float: left;margin-right: 0.25em;color: #696969;}#sk-container-id-3 label.sk-toggleable__label-arrow:hover:before {color: black;}#sk-container-id-3 div.sk-estimator:hover label.sk-toggleable__label-arrow:before {color: black;}#sk-container-id-3 div.sk-toggleable__content {max-height: 0;max-width: 0;overflow: hidden;text-align: left;background-color: #f0f8ff;}#sk-container-id-3 div.sk-toggleable__content pre {margin: 0.2em;color: black;border-radius: 0.25em;background-color: #f0f8ff;}#sk-container-id-3 input.sk-toggleable__control:checked~div.sk-toggleable__content {max-height: 200px;max-width: 100%;overflow: auto;}#sk-container-id-3 input.sk-toggleable__control:checked~label.sk-toggleable__label-arrow:before {content: \"▾\";}#sk-container-id-3 div.sk-estimator input.sk-toggleable__control:checked~label.sk-toggleable__label {background-color: #d4ebff;}#sk-container-id-3 div.sk-label input.sk-toggleable__control:checked~label.sk-toggleable__label {background-color: #d4ebff;}#sk-container-id-3 input.sk-hidden--visually {border: 0;clip: rect(1px 1px 1px 1px);clip: rect(1px, 1px, 1px, 1px);height: 1px;margin: -1px;overflow: hidden;padding: 0;position: absolute;width: 1px;}#sk-container-id-3 div.sk-estimator {font-family: monospace;background-color: #f0f8ff;border: 1px dotted black;border-radius: 0.25em;box-sizing: border-box;margin-bottom: 0.5em;}#sk-container-id-3 div.sk-estimator:hover {background-color: #d4ebff;}#sk-container-id-3 div.sk-parallel-item::after {content: \"\";width: 100%;border-bottom: 1px solid gray;flex-grow: 1;}#sk-container-id-3 div.sk-label:hover label.sk-toggleable__label {background-color: #d4ebff;}#sk-container-id-3 div.sk-serial::before {content: \"\";position: absolute;border-left: 1px solid gray;box-sizing: border-box;top: 0;bottom: 0;left: 50%;z-index: 0;}#sk-container-id-3 div.sk-serial {display: flex;flex-direction: column;align-items: center;background-color: white;padding-right: 0.2em;padding-left: 0.2em;position: relative;}#sk-container-id-3 div.sk-item {position: relative;z-index: 1;}#sk-container-id-3 div.sk-parallel {display: flex;align-items: stretch;justify-content: center;background-color: white;position: relative;}#sk-container-id-3 div.sk-item::before, #sk-container-id-3 div.sk-parallel-item::before {content: \"\";position: absolute;border-left: 1px solid gray;box-sizing: border-box;top: 0;bottom: 0;left: 50%;z-index: -1;}#sk-container-id-3 div.sk-parallel-item {display: flex;flex-direction: column;z-index: 1;position: relative;background-color: white;}#sk-container-id-3 div.sk-parallel-item:first-child::after {align-self: flex-end;width: 50%;}#sk-container-id-3 div.sk-parallel-item:last-child::after {align-self: flex-start;width: 50%;}#sk-container-id-3 div.sk-parallel-item:only-child::after {width: 0;}#sk-container-id-3 div.sk-dashed-wrapped {border: 1px dashed gray;margin: 0 0.4em 0.5em 0.4em;box-sizing: border-box;padding-bottom: 0.4em;background-color: white;}#sk-container-id-3 div.sk-label label {font-family: monospace;font-weight: bold;display: inline-block;line-height: 1.2em;}#sk-container-id-3 div.sk-label-container {text-align: center;}#sk-container-id-3 div.sk-container {/* jupyter's `normalize.less` sets `[hidden] { display: none; }` but bootstrap.min.css set `[hidden] { display: none !important; }` so we also need the `!important` here to be able to override the default hidden behavior on the sphinx rendered scikit-learn.org. See: https://github.com/scikit-learn/scikit-learn/issues/21755 */display: inline-block !important;position: relative;}#sk-container-id-3 div.sk-text-repr-fallback {display: none;}</style><div id=\"sk-container-id-3\" class=\"sk-top-container\"><div class=\"sk-text-repr-fallback\"><pre>LinearRegression()</pre><b>In a Jupyter environment, please rerun this cell to show the HTML representation or trust the notebook. <br />On GitHub, the HTML representation is unable to render, please try loading this page with nbviewer.org.</b></div><div class=\"sk-container\" hidden><div class=\"sk-item\"><div class=\"sk-estimator sk-toggleable\"><input class=\"sk-toggleable__control sk-hidden--visually\" id=\"sk-estimator-id-3\" type=\"checkbox\" checked><label for=\"sk-estimator-id-3\" class=\"sk-toggleable__label sk-toggleable__label-arrow\">LinearRegression</label><div class=\"sk-toggleable__content\"><pre>LinearRegression()</pre></div></div></div></div></div>"
      ],
      "text/plain": [
       "LinearRegression()"
      ]
     },
     "execution_count": 22,
     "metadata": {},
     "output_type": "execute_result"
    }
   ],
   "source": [
    "regressor1=LinearRegression()\n",
    "regressor1.fit(x.reshape(-1,1),y_new)"
   ]
  },
  {
   "cell_type": "code",
   "execution_count": 23,
   "metadata": {},
   "outputs": [
    {
     "name": "stdout",
     "output_type": "stream",
     "text": [
      "[41.33750139]\n",
      "-1934.3953425568134\n"
     ]
    }
   ],
   "source": [
    "print(regressor1.coef_)\n",
    "print(regressor1.intercept_)"
   ]
  },
  {
   "cell_type": "code",
   "execution_count": 24,
   "metadata": {},
   "outputs": [
    {
     "data": {
      "text/plain": [
       "0.21829327433799695"
      ]
     },
     "execution_count": 24,
     "metadata": {},
     "output_type": "execute_result"
    }
   ],
   "source": [
    "y_pred1=regressor1.predict(x.reshape(-1,1))\n",
    "y_pred1\n",
    "\n",
    "r2_score(y_new,y_pred1)\n"
   ]
  },
  {
   "cell_type": "code",
   "execution_count": null,
   "metadata": {},
   "outputs": [],
   "source": [
    "### Conclusion:\n",
    "### The R-squared of this model is small what we can concluded that the latitud do not explain much the variation on the empty slots in the bike stations; in other words\n",
    "### the independent variable is not explainig much in the variation of the dependent variable."
   ]
  },
  {
   "cell_type": "code",
   "execution_count": 11,
   "metadata": {},
   "outputs": [
    {
     "data": {
      "text/plain": [
       "(array([14, 22,  9, 13, 29,  9,  6, 18, 21, 11, 11], dtype=int64),\n",
       " 0     46.87310\n",
       " 1     46.90244\n",
       " 2     46.87580\n",
       " 3     46.87581\n",
       " 4     46.89248\n",
       " 5     46.88110\n",
       " 6     46.88471\n",
       " 7     46.87917\n",
       " 8     46.89695\n",
       " 9     46.89569\n",
       " 10    46.88944\n",
       " Name: latitude, dtype: float64)"
      ]
     },
     "execution_count": 11,
     "metadata": {},
     "output_type": "execute_result"
    }
   ],
   "source": [
    "x = df.iloc[:,1].values\n",
    "y = df.iloc[:,5]\n",
    "x,y"
   ]
  },
  {
   "cell_type": "code",
   "execution_count": 12,
   "metadata": {},
   "outputs": [
    {
     "data": {
      "text/plain": [
       "<matplotlib.collections.PathCollection at 0x1b3dcdf71c0>"
      ]
     },
     "execution_count": 12,
     "metadata": {},
     "output_type": "execute_result"
    },
    {
     "data": {
      "image/png": "[encoded data removed]",
      "text/plain": [
       "<Figure size 640x480 with 1 Axes>"
      ]
     },
     "metadata": {},
     "output_type": "display_data"
    }
   ],
   "source": [
    "plt.scatter(x,y)"
   ]
  }
 ],
 "metadata": {
  "kernelspec": {
   "display_name": "TheOne",
   "language": "python",
   "name": "theone"
  },
  "language_info": {
   "codemirror_mode": {
    "name": "ipython",
    "version": 3
   },
   "file_extension": ".py",
   "mimetype": "text/x-python",
   "name": "python",
   "nbconvert_exporter": "python",
   "pygments_lexer": "ipython3",
   "version": "3.9.7"
  },
  "orig_nbformat": 4
 },
 "nbformat": 4,
 "nbformat_minor": 2
}
