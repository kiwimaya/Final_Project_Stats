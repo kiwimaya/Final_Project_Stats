{
 "cells": [
  {
   "cell_type": "code",
   "execution_count": 15,
   "metadata": {},
   "outputs": [],
   "source": [
    "import requests\n",
    "import os\n",
    "import json\n",
    "import pandas as pd"
   ]
  },
  {
   "cell_type": "code",
   "execution_count": 16,
   "metadata": {},
   "outputs": [],
   "source": [
    "api_key = 'Bearer ' + os.environ['YELP']"
   ]
  },
  {
   "cell_type": "code",
   "execution_count": 17,
   "metadata": {},
   "outputs": [],
   "source": [
    "url = 'https://api.yelp.com/v3/businesses/search'"
   ]
  },
  {
   "cell_type": "code",
   "execution_count": 18,
   "metadata": {},
   "outputs": [],
   "source": [
    "params = {\n",
    "  \t\"location\": \"Fargo\",\n",
    "  \t\"ll\": \"46.90244,-96.7978\",\n",
    "  \t\"term\": \"Restaurants\",\n",
    "    \"radius\": \"4000\",\n",
    "    \"locale\":\"en_US\"\n",
    "    \n",
    "}\n",
    "\n",
    "headers = {\n",
    "    \"Accept\": \"application/json\",\n",
    "    \"Authorization\": api_key\n",
    "}"
   ]
  },
  {
   "cell_type": "code",
   "execution_count": 19,
   "metadata": {},
   "outputs": [
    {
     "name": "stdout",
     "output_type": "stream",
     "text": [
      "{\"businesses\": [{\"id\": \"OVammveJ1lwcttiKKYQDfw\", \"alias\": \"swannee-river-cafe-fargo\", \"name\": \"Swannee River Cafe\", \"image_url\": \"https://s3-media1.fl.yelpcdn.com/bphoto/J_MGNsUI8nW80hf0Xszsqw/o.jpg\", \"is_closed\": false, \"url\": \"https://www.yelp.com/biz/swannee-river-cafe-fargo?adjust_creative=J5h1CC8CMU8IXoLGgPFmjA&utm_campaign=yelp_api_v3&utm_medium=api_v3_business_search&utm_source=J5h1CC8CMU8IXoLGgPFmjA\", \"review_count\": 2, \"categories\": [{\"alias\": \"southern\", \"title\": \"Southern\"}], \"rating\": 4.0, \"coordinates\": {\"latitude\": 30.686137, \"longitude\": -82.562082}, \"transactions\": [], \"location\": {\"address1\": \"Hwy 441\", \"address2\": \"\", \"address3\": \"\", \"city\": \"Fargo\", \"zip_code\": \"31631\", \"country\": \"US\", \"state\": \"GA\", \"display_address\": [\"Hwy 441\", \"Fargo, GA 31631\"]}, \"phone\": \"+19126375307\", \"display_phone\": \"(912) 637-5307\", \"distance\": 961.3300732842155}, {\"id\": \"4WjnEL_OMimK3287Ak-Jgw\", \"alias\": \"little-joeys-italian-restaurant-summerfield-2\", \"name\": \"Little Joey's Italian Restaurant\", \"image_url\": \"https://s3-media1.fl.yelpcdn.com/bphoto/MAIZCoxSGb0hFtuS4YiRpA/o.jpg\", \"is_closed\": false, \"url\": \"https://www.yelp.com/biz/little-joeys-italian-restaurant-summerfield-2?adjust_creative=J5h1CC8CMU8IXoLGgPFmjA&utm_campaign=yelp_api_v3&utm_medium=api_v3_business_search&utm_source=J5h1CC8CMU8IXoLGgPFmjA\", \"review_count\": 30, \"categories\": [{\"alias\": \"italian\", \"title\": \"Italian\"}], \"rating\": 2.5, \"coordinates\": {\"latitude\": 30.6753749, \"longitude\": -82.5547487}, \"transactions\": [], \"price\": \"$$\", \"location\": {\"address1\": \"16840 S US Hwy 441\", \"address2\": \"Ste 401\", \"address3\": \"\", \"city\": \"Summerfield\", \"zip_code\": \"34491\", \"country\": \"US\", \"state\": \"FL\", \"display_address\": [\"16840 S US Hwy 441\", \"Ste 401\", \"Summerfield, FL 34491\"]}, \"phone\": \"+13523471800\", \"display_phone\": \"(352) 347-1800\", \"distance\": 2164.9219737317894}, {\"id\": \"RD8TQIUy4nh7gAPAXd4a9A\", \"alias\": \"suwannee-river-outfitters-fargo\", \"name\": \"Suwannee River Outfitters\", \"image_url\": \"https://s3-media4.fl.yelpcdn.com/bphoto/1m2z1VARyPTK7ZwquqDcPw/o.jpg\", \"is_closed\": false, \"url\": \"https://www.yelp.com/biz/suwannee-river-outfitters-fargo?adjust_creative=J5h1CC8CMU8IXoLGgPFmjA&utm_campaign=yelp_api_v3&utm_medium=api_v3_business_search&utm_source=J5h1CC8CMU8IXoLGgPFmjA\", \"review_count\": 0, \"categories\": [{\"alias\": \"vacation_rentals\", \"title\": \"Vacation Rentals\"}, {\"alias\": \"outdoorgear\", \"title\": \"Outdoor Gear\"}, {\"alias\": \"salad\", \"title\": \"Salad\"}], \"rating\": 0.0, \"coordinates\": {\"latitude\": 30.68643, \"longitude\": -82.56144}, \"transactions\": [], \"location\": {\"address1\": \"729 US 441\", \"address2\": \"\", \"address3\": \"\", \"city\": \"Fargo\", \"zip_code\": \"31631\", \"country\": \"US\", \"state\": \"GA\", \"display_address\": [\"729 US 441\", \"Fargo, GA 31631\"]}, \"phone\": \"+19126375114\", \"display_phone\": \"(912) 637-5114\", \"distance\": 1004.1521285120547}], \"total\": 3, \"region\": {\"center\": {\"longitude\": -82.57186889648438, \"latitude\": 30.688113875374643}}}\n"
     ]
    }
   ],
   "source": [
    "response = requests.request(\"GET\", url, params =params, headers=headers)\n",
    "\n",
    "print(response.text)"
   ]
  },
  {
   "cell_type": "code",
   "execution_count": 20,
   "metadata": {},
   "outputs": [
    {
     "data": {
      "text/plain": [
       "<Response [200]>"
      ]
     },
     "execution_count": 20,
     "metadata": {},
     "output_type": "execute_result"
    }
   ],
   "source": [
    "response"
   ]
  },
  {
   "cell_type": "code",
   "execution_count": 21,
   "metadata": {},
   "outputs": [],
   "source": [
    "json_object = json.dumps(response.json(), indent=4)\n",
    " \n",
    "with open(\"YRsample.json\", \"w\") as outfile:\n",
    "    outfile.write(json_object)"
   ]
  },
  {
   "cell_type": "code",
   "execution_count": 22,
   "metadata": {},
   "outputs": [],
   "source": [
    "with open('YRsample.json', 'r') as f:\n",
    "  data = json.load(f)"
   ]
  },
  {
   "cell_type": "code",
   "execution_count": 23,
   "metadata": {},
   "outputs": [
    {
     "data": {
      "text/plain": [
       "dict_keys(['businesses', 'total', 'region'])"
      ]
     },
     "execution_count": 23,
     "metadata": {},
     "output_type": "execute_result"
    }
   ],
   "source": [
    "data.keys()"
   ]
  },
  {
   "cell_type": "code",
   "execution_count": 24,
   "metadata": {},
   "outputs": [],
   "source": [
    "data1 = data['businesses']"
   ]
  },
  {
   "cell_type": "code",
   "execution_count": 25,
   "metadata": {},
   "outputs": [
    {
     "data": {
      "text/html": [
       "<div>\n",
       "<style scoped>\n",
       "    .dataframe tbody tr th:only-of-type {\n",
       "        vertical-align: middle;\n",
       "    }\n",
       "\n",
       "    .dataframe tbody tr th {\n",
       "        vertical-align: top;\n",
       "    }\n",
       "\n",
       "    .dataframe thead th {\n",
       "        text-align: right;\n",
       "    }\n",
       "</style>\n",
       "<table border=\"1\" class=\"dataframe\">\n",
       "  <thead>\n",
       "    <tr style=\"text-align: right;\">\n",
       "      <th></th>\n",
       "      <th>id</th>\n",
       "      <th>alias</th>\n",
       "      <th>name</th>\n",
       "      <th>image_url</th>\n",
       "      <th>is_closed</th>\n",
       "      <th>url</th>\n",
       "      <th>review_count</th>\n",
       "      <th>categories</th>\n",
       "      <th>rating</th>\n",
       "      <th>transactions</th>\n",
       "      <th>...</th>\n",
       "      <th>coordinates.longitude</th>\n",
       "      <th>location.address1</th>\n",
       "      <th>location.address2</th>\n",
       "      <th>location.address3</th>\n",
       "      <th>location.city</th>\n",
       "      <th>location.zip_code</th>\n",
       "      <th>location.country</th>\n",
       "      <th>location.state</th>\n",
       "      <th>location.display_address</th>\n",
       "      <th>price</th>\n",
       "    </tr>\n",
       "  </thead>\n",
       "  <tbody>\n",
       "    <tr>\n",
       "      <th>0</th>\n",
       "      <td>OVammveJ1lwcttiKKYQDfw</td>\n",
       "      <td>swannee-river-cafe-fargo</td>\n",
       "      <td>Swannee River Cafe</td>\n",
       "      <td>https://s3-media1.fl.yelpcdn.com/bphoto/J_MGNs...</td>\n",
       "      <td>False</td>\n",
       "      <td>https://www.yelp.com/biz/swannee-river-cafe-fa...</td>\n",
       "      <td>2</td>\n",
       "      <td>[{'alias': 'southern', 'title': 'Southern'}]</td>\n",
       "      <td>4.0</td>\n",
       "      <td>[]</td>\n",
       "      <td>...</td>\n",
       "      <td>-82.562082</td>\n",
       "      <td>Hwy 441</td>\n",
       "      <td></td>\n",
       "      <td></td>\n",
       "      <td>Fargo</td>\n",
       "      <td>31631</td>\n",
       "      <td>US</td>\n",
       "      <td>GA</td>\n",
       "      <td>[Hwy 441, Fargo, GA 31631]</td>\n",
       "      <td>NaN</td>\n",
       "    </tr>\n",
       "    <tr>\n",
       "      <th>1</th>\n",
       "      <td>4WjnEL_OMimK3287Ak-Jgw</td>\n",
       "      <td>little-joeys-italian-restaurant-summerfield-2</td>\n",
       "      <td>Little Joey's Italian Restaurant</td>\n",
       "      <td>https://s3-media1.fl.yelpcdn.com/bphoto/MAIZCo...</td>\n",
       "      <td>False</td>\n",
       "      <td>https://www.yelp.com/biz/little-joeys-italian-...</td>\n",
       "      <td>30</td>\n",
       "      <td>[{'alias': 'italian', 'title': 'Italian'}]</td>\n",
       "      <td>2.5</td>\n",
       "      <td>[]</td>\n",
       "      <td>...</td>\n",
       "      <td>-82.554749</td>\n",
       "      <td>16840 S US Hwy 441</td>\n",
       "      <td>Ste 401</td>\n",
       "      <td></td>\n",
       "      <td>Summerfield</td>\n",
       "      <td>34491</td>\n",
       "      <td>US</td>\n",
       "      <td>FL</td>\n",
       "      <td>[16840 S US Hwy 441, Ste 401, Summerfield, FL ...</td>\n",
       "      <td>$$</td>\n",
       "    </tr>\n",
       "    <tr>\n",
       "      <th>2</th>\n",
       "      <td>RD8TQIUy4nh7gAPAXd4a9A</td>\n",
       "      <td>suwannee-river-outfitters-fargo</td>\n",
       "      <td>Suwannee River Outfitters</td>\n",
       "      <td>https://s3-media4.fl.yelpcdn.com/bphoto/1m2z1V...</td>\n",
       "      <td>False</td>\n",
       "      <td>https://www.yelp.com/biz/suwannee-river-outfit...</td>\n",
       "      <td>0</td>\n",
       "      <td>[{'alias': 'vacation_rentals', 'title': 'Vacat...</td>\n",
       "      <td>0.0</td>\n",
       "      <td>[]</td>\n",
       "      <td>...</td>\n",
       "      <td>-82.561440</td>\n",
       "      <td>729 US 441</td>\n",
       "      <td></td>\n",
       "      <td></td>\n",
       "      <td>Fargo</td>\n",
       "      <td>31631</td>\n",
       "      <td>US</td>\n",
       "      <td>GA</td>\n",
       "      <td>[729 US 441, Fargo, GA 31631]</td>\n",
       "      <td>NaN</td>\n",
       "    </tr>\n",
       "  </tbody>\n",
       "</table>\n",
       "<p>3 rows × 24 columns</p>\n",
       "</div>"
      ],
      "text/plain": [
       "                       id                                          alias  \\\n",
       "0  OVammveJ1lwcttiKKYQDfw                       swannee-river-cafe-fargo   \n",
       "1  4WjnEL_OMimK3287Ak-Jgw  little-joeys-italian-restaurant-summerfield-2   \n",
       "2  RD8TQIUy4nh7gAPAXd4a9A                suwannee-river-outfitters-fargo   \n",
       "\n",
       "                               name  \\\n",
       "0                Swannee River Cafe   \n",
       "1  Little Joey's Italian Restaurant   \n",
       "2         Suwannee River Outfitters   \n",
       "\n",
       "                                           image_url  is_closed  \\\n",
       "0  https://s3-media1.fl.yelpcdn.com/bphoto/J_MGNs...      False   \n",
       "1  https://s3-media1.fl.yelpcdn.com/bphoto/MAIZCo...      False   \n",
       "2  https://s3-media4.fl.yelpcdn.com/bphoto/1m2z1V...      False   \n",
       "\n",
       "                                                 url  review_count  \\\n",
       "0  https://www.yelp.com/biz/swannee-river-cafe-fa...             2   \n",
       "1  https://www.yelp.com/biz/little-joeys-italian-...            30   \n",
       "2  https://www.yelp.com/biz/suwannee-river-outfit...             0   \n",
       "\n",
       "                                          categories  rating transactions  \\\n",
       "0       [{'alias': 'southern', 'title': 'Southern'}]     4.0           []   \n",
       "1         [{'alias': 'italian', 'title': 'Italian'}]     2.5           []   \n",
       "2  [{'alias': 'vacation_rentals', 'title': 'Vacat...     0.0           []   \n",
       "\n",
       "   ... coordinates.longitude   location.address1  location.address2  \\\n",
       "0  ...            -82.562082             Hwy 441                      \n",
       "1  ...            -82.554749  16840 S US Hwy 441            Ste 401   \n",
       "2  ...            -82.561440          729 US 441                      \n",
       "\n",
       "   location.address3  location.city location.zip_code location.country  \\\n",
       "0                             Fargo             31631               US   \n",
       "1                       Summerfield             34491               US   \n",
       "2                             Fargo             31631               US   \n",
       "\n",
       "  location.state                           location.display_address price  \n",
       "0             GA                         [Hwy 441, Fargo, GA 31631]   NaN  \n",
       "1             FL  [16840 S US Hwy 441, Ste 401, Summerfield, FL ...    $$  \n",
       "2             GA                      [729 US 441, Fargo, GA 31631]   NaN  \n",
       "\n",
       "[3 rows x 24 columns]"
      ]
     },
     "execution_count": 25,
     "metadata": {},
     "output_type": "execute_result"
    }
   ],
   "source": [
    "pd.json_normalize(data1)"
   ]
  },
  {
   "cell_type": "code",
   "execution_count": 26,
   "metadata": {},
   "outputs": [],
   "source": [
    "df = pd.DataFrame(data1)\n"
   ]
  },
  {
   "cell_type": "code",
   "execution_count": 27,
   "metadata": {},
   "outputs": [
    {
     "data": {
      "text/html": [
       "<div>\n",
       "<style scoped>\n",
       "    .dataframe tbody tr th:only-of-type {\n",
       "        vertical-align: middle;\n",
       "    }\n",
       "\n",
       "    .dataframe tbody tr th {\n",
       "        vertical-align: top;\n",
       "    }\n",
       "\n",
       "    .dataframe thead th {\n",
       "        text-align: right;\n",
       "    }\n",
       "</style>\n",
       "<table border=\"1\" class=\"dataframe\">\n",
       "  <thead>\n",
       "    <tr style=\"text-align: right;\">\n",
       "      <th></th>\n",
       "      <th>name</th>\n",
       "    </tr>\n",
       "  </thead>\n",
       "  <tbody>\n",
       "    <tr>\n",
       "      <th>0</th>\n",
       "      <td>Swannee River Cafe</td>\n",
       "    </tr>\n",
       "    <tr>\n",
       "      <th>1</th>\n",
       "      <td>Little Joey's Italian Restaurant</td>\n",
       "    </tr>\n",
       "    <tr>\n",
       "      <th>2</th>\n",
       "      <td>Suwannee River Outfitters</td>\n",
       "    </tr>\n",
       "  </tbody>\n",
       "</table>\n",
       "</div>"
      ],
      "text/plain": [
       "                               name\n",
       "0                Swannee River Cafe\n",
       "1  Little Joey's Italian Restaurant\n",
       "2         Suwannee River Outfitters"
      ]
     },
     "execution_count": 27,
     "metadata": {},
     "output_type": "execute_result"
    }
   ],
   "source": [
    "R5_Village = df.filter(['name'])\n",
    "R5_Village"
   ]
  },
  {
   "cell_type": "code",
   "execution_count": 28,
   "metadata": {},
   "outputs": [],
   "source": [
    "R5_Village.to_csv('YRVillage.csv')"
   ]
  },
  {
   "cell_type": "code",
   "execution_count": null,
   "metadata": {},
   "outputs": [],
   "source": []
  }
 ],
 "metadata": {
  "kernelspec": {
   "display_name": "TheOne",
   "language": "python",
   "name": "theone"
  },
  "language_info": {
   "codemirror_mode": {
    "name": "ipython",
    "version": 3
   },
   "file_extension": ".py",
   "mimetype": "text/x-python",
   "name": "python",
   "nbconvert_exporter": "python",
   "pygments_lexer": "ipython3",
   "version": "3.9.7"
  },
  "orig_nbformat": 4
 },
 "nbformat": 4,
 "nbformat_minor": 2
}
