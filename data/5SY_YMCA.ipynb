{
 "cells": [
  {
   "cell_type": "code",
   "execution_count": 1,
   "metadata": {},
   "outputs": [],
   "source": [
    "import requests\n",
    "import os\n",
    "import json\n",
    "import pandas as pd"
   ]
  },
  {
   "cell_type": "code",
   "execution_count": 2,
   "metadata": {},
   "outputs": [],
   "source": [
    "api_key = 'Bearer ' + os.environ['YELP']"
   ]
  },
  {
   "cell_type": "code",
   "execution_count": 3,
   "metadata": {},
   "outputs": [],
   "source": [
    "url = 'https://api.yelp.com/v3/businesses/search'"
   ]
  },
  {
   "cell_type": "code",
   "execution_count": 4,
   "metadata": {},
   "outputs": [],
   "source": [
    "params = {\n",
    "  \t\"location\": \"Fargo\",\n",
    "  \t\"ll\": \"46.87310,-96.78644\",\n",
    "  \t\"term\": \"Shopping Mall\",\n",
    "    \"radius\": \"4000\",\n",
    "    \"locale\":\"en_US\"\n",
    "    \n",
    "}\n",
    "\n",
    "headers = {\n",
    "    \"Accept\": \"application/json\",\n",
    "    \"Authorization\": api_key\n",
    "}"
   ]
  },
  {
   "cell_type": "code",
   "execution_count": 5,
   "metadata": {},
   "outputs": [
    {
     "name": "stdout",
     "output_type": "stream",
     "text": [
      "{\"businesses\": [{\"id\": \"Pc-Ew0X7Qdd1wV9KkB1QYA\", \"alias\": \"dollar-general-fargo\", \"name\": \"Dollar General\", \"image_url\": \"https://s3-media3.fl.yelpcdn.com/bphoto/i-2O9rqFST7bPvBOlh0mng/o.jpg\", \"is_closed\": false, \"url\": \"https://www.yelp.com/biz/dollar-general-fargo?adjust_creative=J5h1CC8CMU8IXoLGgPFmjA&utm_campaign=yelp_api_v3&utm_medium=api_v3_business_search&utm_source=J5h1CC8CMU8IXoLGgPFmjA\", \"review_count\": 1, \"categories\": [{\"alias\": \"grocery\", \"title\": \"Grocery\"}, {\"alias\": \"discountstore\", \"title\": \"Discount Store\"}], \"rating\": 5.0, \"coordinates\": {\"latitude\": 30.684826672730363, \"longitude\": -82.56220282561668}, \"transactions\": [], \"location\": {\"address1\": \"31 Ga Highway 94\", \"address2\": \"\", \"address3\": null, \"city\": \"Fargo\", \"zip_code\": \"31631\", \"country\": \"US\", \"state\": \"GA\", \"display_address\": [\"31 Ga Highway 94\", \"Fargo, GA 31631\"]}, \"phone\": \"+19123582912\", \"display_phone\": \"(912) 358-2912\", \"distance\": 993.9616526868808}], \"total\": 1, \"region\": {\"center\": {\"longitude\": -82.57186889648438, \"latitude\": 30.688113875374643}}}\n"
     ]
    }
   ],
   "source": [
    "response = requests.request(\"GET\", url, params =params, headers=headers)\n",
    "\n",
    "print(response.text)"
   ]
  },
  {
   "cell_type": "code",
   "execution_count": 6,
   "metadata": {},
   "outputs": [
    {
     "data": {
      "text/plain": [
       "<Response [200]>"
      ]
     },
     "execution_count": 6,
     "metadata": {},
     "output_type": "execute_result"
    }
   ],
   "source": [
    "response"
   ]
  },
  {
   "cell_type": "code",
   "execution_count": 7,
   "metadata": {},
   "outputs": [],
   "source": [
    "json_object = json.dumps(response.json(), indent=4)\n",
    " \n",
    "with open(\"YRsample.json\", \"w\") as outfile:\n",
    "    outfile.write(json_object)"
   ]
  },
  {
   "cell_type": "code",
   "execution_count": 8,
   "metadata": {},
   "outputs": [],
   "source": [
    "with open('YRsample.json', 'r') as f:\n",
    "  data = json.load(f)"
   ]
  },
  {
   "cell_type": "code",
   "execution_count": 9,
   "metadata": {},
   "outputs": [
    {
     "data": {
      "text/plain": [
       "dict_keys(['businesses', 'total', 'region'])"
      ]
     },
     "execution_count": 9,
     "metadata": {},
     "output_type": "execute_result"
    }
   ],
   "source": [
    "data.keys()"
   ]
  },
  {
   "cell_type": "code",
   "execution_count": 10,
   "metadata": {},
   "outputs": [],
   "source": [
    "data1 = data['businesses']"
   ]
  },
  {
   "cell_type": "code",
   "execution_count": 11,
   "metadata": {},
   "outputs": [
    {
     "data": {
      "text/html": [
       "<div>\n",
       "<style scoped>\n",
       "    .dataframe tbody tr th:only-of-type {\n",
       "        vertical-align: middle;\n",
       "    }\n",
       "\n",
       "    .dataframe tbody tr th {\n",
       "        vertical-align: top;\n",
       "    }\n",
       "\n",
       "    .dataframe thead th {\n",
       "        text-align: right;\n",
       "    }\n",
       "</style>\n",
       "<table border=\"1\" class=\"dataframe\">\n",
       "  <thead>\n",
       "    <tr style=\"text-align: right;\">\n",
       "      <th></th>\n",
       "      <th>id</th>\n",
       "      <th>alias</th>\n",
       "      <th>name</th>\n",
       "      <th>image_url</th>\n",
       "      <th>is_closed</th>\n",
       "      <th>url</th>\n",
       "      <th>review_count</th>\n",
       "      <th>categories</th>\n",
       "      <th>rating</th>\n",
       "      <th>transactions</th>\n",
       "      <th>...</th>\n",
       "      <th>coordinates.latitude</th>\n",
       "      <th>coordinates.longitude</th>\n",
       "      <th>location.address1</th>\n",
       "      <th>location.address2</th>\n",
       "      <th>location.address3</th>\n",
       "      <th>location.city</th>\n",
       "      <th>location.zip_code</th>\n",
       "      <th>location.country</th>\n",
       "      <th>location.state</th>\n",
       "      <th>location.display_address</th>\n",
       "    </tr>\n",
       "  </thead>\n",
       "  <tbody>\n",
       "    <tr>\n",
       "      <th>0</th>\n",
       "      <td>Pc-Ew0X7Qdd1wV9KkB1QYA</td>\n",
       "      <td>dollar-general-fargo</td>\n",
       "      <td>Dollar General</td>\n",
       "      <td>https://s3-media3.fl.yelpcdn.com/bphoto/i-2O9r...</td>\n",
       "      <td>False</td>\n",
       "      <td>https://www.yelp.com/biz/dollar-general-fargo?...</td>\n",
       "      <td>1</td>\n",
       "      <td>[{'alias': 'grocery', 'title': 'Grocery'}, {'a...</td>\n",
       "      <td>5.0</td>\n",
       "      <td>[]</td>\n",
       "      <td>...</td>\n",
       "      <td>30.684827</td>\n",
       "      <td>-82.562203</td>\n",
       "      <td>31 Ga Highway 94</td>\n",
       "      <td></td>\n",
       "      <td>None</td>\n",
       "      <td>Fargo</td>\n",
       "      <td>31631</td>\n",
       "      <td>US</td>\n",
       "      <td>GA</td>\n",
       "      <td>[31 Ga Highway 94, Fargo, GA 31631]</td>\n",
       "    </tr>\n",
       "  </tbody>\n",
       "</table>\n",
       "<p>1 rows × 23 columns</p>\n",
       "</div>"
      ],
      "text/plain": [
       "                       id                 alias            name  \\\n",
       "0  Pc-Ew0X7Qdd1wV9KkB1QYA  dollar-general-fargo  Dollar General   \n",
       "\n",
       "                                           image_url  is_closed  \\\n",
       "0  https://s3-media3.fl.yelpcdn.com/bphoto/i-2O9r...      False   \n",
       "\n",
       "                                                 url  review_count  \\\n",
       "0  https://www.yelp.com/biz/dollar-general-fargo?...             1   \n",
       "\n",
       "                                          categories  rating transactions  \\\n",
       "0  [{'alias': 'grocery', 'title': 'Grocery'}, {'a...     5.0           []   \n",
       "\n",
       "   ... coordinates.latitude coordinates.longitude  location.address1  \\\n",
       "0  ...            30.684827            -82.562203   31 Ga Highway 94   \n",
       "\n",
       "   location.address2  location.address3 location.city location.zip_code  \\\n",
       "0                                  None         Fargo             31631   \n",
       "\n",
       "  location.country location.state             location.display_address  \n",
       "0               US             GA  [31 Ga Highway 94, Fargo, GA 31631]  \n",
       "\n",
       "[1 rows x 23 columns]"
      ]
     },
     "execution_count": 11,
     "metadata": {},
     "output_type": "execute_result"
    }
   ],
   "source": [
    "pd.json_normalize(data1)"
   ]
  },
  {
   "cell_type": "code",
   "execution_count": 12,
   "metadata": {},
   "outputs": [],
   "source": [
    "df = pd.DataFrame(data1)\n"
   ]
  },
  {
   "cell_type": "code",
   "execution_count": 13,
   "metadata": {},
   "outputs": [
    {
     "data": {
      "text/html": [
       "<div>\n",
       "<style scoped>\n",
       "    .dataframe tbody tr th:only-of-type {\n",
       "        vertical-align: middle;\n",
       "    }\n",
       "\n",
       "    .dataframe tbody tr th {\n",
       "        vertical-align: top;\n",
       "    }\n",
       "\n",
       "    .dataframe thead th {\n",
       "        text-align: right;\n",
       "    }\n",
       "</style>\n",
       "<table border=\"1\" class=\"dataframe\">\n",
       "  <thead>\n",
       "    <tr style=\"text-align: right;\">\n",
       "      <th></th>\n",
       "      <th>name</th>\n",
       "    </tr>\n",
       "  </thead>\n",
       "  <tbody>\n",
       "    <tr>\n",
       "      <th>0</th>\n",
       "      <td>Dollar General</td>\n",
       "    </tr>\n",
       "  </tbody>\n",
       "</table>\n",
       "</div>"
      ],
      "text/plain": [
       "             name\n",
       "0  Dollar General"
      ]
     },
     "execution_count": 13,
     "metadata": {},
     "output_type": "execute_result"
    }
   ],
   "source": [
    "YS_YMCA = df.filter(['name'])\n",
    "YS_YMCA"
   ]
  },
  {
   "cell_type": "code",
   "execution_count": 14,
   "metadata": {},
   "outputs": [],
   "source": [
    "YS_YMCA.to_csv('YSYMCA.csv')"
   ]
  },
  {
   "cell_type": "code",
   "execution_count": null,
   "metadata": {},
   "outputs": [],
   "source": []
  }
 ],
 "metadata": {
  "kernelspec": {
   "display_name": "TheOne",
   "language": "python",
   "name": "theone"
  },
  "language_info": {
   "codemirror_mode": {
    "name": "ipython",
    "version": 3
   },
   "file_extension": ".py",
   "mimetype": "text/x-python",
   "name": "python",
   "nbconvert_exporter": "python",
   "pygments_lexer": "ipython3",
   "version": "3.9.7"
  },
  "orig_nbformat": 4
 },
 "nbformat": 4,
 "nbformat_minor": 2
}
